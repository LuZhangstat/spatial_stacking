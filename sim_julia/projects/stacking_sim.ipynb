{
 "cells": [
  {
   "cell_type": "markdown",
   "metadata": {},
   "source": [
    "## Julia code for simulation"
   ]
  },
  {
   "cell_type": "code",
   "execution_count": 1,
   "metadata": {},
   "outputs": [],
   "source": [
    "## necessary packages\n",
    "\n",
    "using Distributions\n",
    "using Distances\n",
    "using LinearAlgebra\n",
    "using SparseArrays\n",
    "using IterativeSolvers\n",
    "using ProgressMeter\n",
    "using JLD2\n",
    "using Random\n",
    "using SpecialFunctions # Matern functions\n",
    "using MLBase         #cross-validation  "
   ]
  },
  {
   "cell_type": "code",
   "execution_count": 122,
   "metadata": {},
   "outputs": [
    {
     "data": {
      "text/plain": [
       "stacking_prediction_LSE (generic function with 2 methods)"
      ]
     },
     "execution_count": 122,
     "metadata": {},
     "output_type": "execute_result"
    }
   ],
   "source": [
    "include(\"./utils.jl\")"
   ]
  },
  {
   "cell_type": "code",
   "execution_count": 3,
   "metadata": {},
   "outputs": [],
   "source": [
    "# Set the parameters of the simulated data #\n",
    "p = 2;      # No. covariates\n",
    "β = [1.0 2.0]; #regression coeff\n",
    "σ2 = 1.0; ϕ = 7.0; ν = 1.0; τ2 = 1.0; # hyperparmeters in matern"
   ]
  },
  {
   "cell_type": "code",
   "execution_count": 4,
   "metadata": {},
   "outputs": [],
   "source": [
    "## Generate simulation data ##\n",
    "Random.seed!(1);\n",
    "N = 400;                     # No. all positions\n",
    "N_ho = 100;                  # No. held out positions\n",
    "ind_mod = 1:(N - N_ho);      # index of training observations\n",
    "coords = rand(2, N);         # random location over unit square (2 by N)\n",
    "X = vcat(fill(1.0, (1, N)), rand(Normal(), (1, N)));          # design matrix (p by N)\n",
    "D = pairwise(Euclidean(), coords, dims = 2);                  # distance matrix\n",
    "Cov = Symmetric(Maternlu.(UpperTriangular(D), \n",
    "        ν = ν, ϕ = ϕ, σ2 = σ2))                               # covariance matrix\n",
    "z = rand(MvNormal(Cov), 1);                                   # latent process\n",
    "y = (β * X)[1,:] + z[:,1] + sqrt(τ2) * rand(Normal(), N);     # response"
   ]
  },
  {
   "cell_type": "code",
   "execution_count": 5,
   "metadata": {},
   "outputs": [],
   "source": [
    "using BenchmarkTools"
   ]
  },
  {
   "cell_type": "code",
   "execution_count": 6,
   "metadata": {},
   "outputs": [],
   "source": [
    "## candidate values of hyperparameters for stacking ##\n",
    "deltasq_grid = [0.1, 0.5, 1, 2];\n",
    "phi_grid = [3, 9, 15, 21];\n",
    "nu_grid = [0.5, 1, 1.5, 1.75];"
   ]
  },
  {
   "cell_type": "code",
   "execution_count": 7,
   "metadata": {},
   "outputs": [],
   "source": [
    "## priors parameters ##\n",
    "\n",
    "μβ = fill(0.0, p); inv_V_β = Diagonal(ones(p) * 0.25); # set Vr^{-1} be zero for the simulation...\n",
    "aσ = 2.0; bσ = 2.0;"
   ]
  },
  {
   "cell_type": "code",
   "execution_count": 8,
   "metadata": {},
   "outputs": [],
   "source": [
    "label = \"LSE\"; #stacking of means\n",
    "J = 300;"
   ]
  },
  {
   "cell_type": "code",
   "execution_count": 9,
   "metadata": {},
   "outputs": [],
   "source": [
    "label = \"LP\";  #stacking of predictive densities\n",
    "J = 300;       # sample size for computing posterior expectation"
   ]
  },
  {
   "cell_type": "code",
   "execution_count": 90,
   "metadata": {},
   "outputs": [],
   "source": [
    "# pre-computation and pre-allocation #\n",
    "K_fold = 10;\n",
    "N = size(X, 2);\n",
    "CV_ind_ls = collect(Kfold(N, K_fold)); # index of train data in CV\n",
    "CV_ind_hold_ls = [setdiff(1:N, CV_ind_ls[k]) for k in 1:K_fold]; # index of held-out data in CV\n",
    "N_grid = length(deltasq_grid) * length(phi_grid) * length(nu_grid);\n",
    "nk_list = [length(x) for x in CV_ind_ls]; # be careful, different from the nk_list in my R code\n",
    "nk_k_list = [(N - x) for x in nk_list];   # This is the nk_list in my R code\n",
    "\n",
    "\n",
    "if X == Nothing()\n",
    "    p = 0;\n",
    "else\n",
    "    p = size(X, 1);\n",
    "    inv_V_μ_β = inv_V_β * μβ;\n",
    "    XTX = X * X'; XTy = X * y;\n",
    "    XTX_list = [XTX - X[:, CV_ind_hold_ls[k]] * X[:, CV_ind_hold_ls[k]]' for k in 1:K_fold];\n",
    "    XTy_list = [XTy - X[:, CV_ind_hold_ls[k]] * y[CV_ind_hold_ls[k]] for k in 1:K_fold];\n",
    "end\n",
    "\n",
    "if label == \"LSE\"\n",
    "    y_expect = Array{Float64, 2}(undef, N, N_grid);\n",
    "elseif label == \"LP\"\n",
    "    lp_expect = Array{Float64, 2}(undef, N, N_grid);\n",
    "    y_sq_sum_list = [norm(y[CV_ind_ls[k]])^2 for k in 1:K_fold];\n",
    "else \n",
    "    print(\"label has to be LSE or LP\");\n",
    "end\n",
    "\n",
    "grid_phi_nu = vcat([[x y] for x in phi_grid, y in nu_grid]...);\n",
    "grid_all = vcat([[x y z] for x in phi_grid, y in nu_grid, z in deltasq_grid]...);\n",
    "L_grid_deltasq  = length(deltasq_grid);"
   ]
  },
  {
   "cell_type": "code",
   "execution_count": 91,
   "metadata": {},
   "outputs": [],
   "source": [
    "k = 1;\n",
    "i1 = 1;\n",
    "i2 = 1;\n",
    "phi_pick = grid_phi_nu[i1, 1];\n",
    "nu_pick = grid_phi_nu[i1, 2];\n",
    "deltasq_pick = deltasq_grid[i2];"
   ]
  },
  {
   "cell_type": "code",
   "execution_count": 375,
   "metadata": {},
   "outputs": [
    {
     "data": {
      "text/plain": [
       "0.0"
      ]
     },
     "execution_count": 375,
     "metadata": {},
     "output_type": "execute_result"
    }
   ],
   "source": [
    "invR_nk = inv(cholesky(Symmetric(Maternlu.(\n",
    "        UpperTriangular(pairwise(Euclidean(), coords[:, CV_ind_ls[k]], dims = 2)), \n",
    "        ν = nu_pick, ϕ = phi_pick))));\n",
    "R_k_nk = Maternlu.(pairwise(Euclidean(), coords[:, CV_ind_hold_ls[k]], \n",
    "        coords[:, CV_ind_ls[k]], dims = 2), ν = nu_pick, ϕ = phi_pick);\n",
    "if p == 0\n",
    "    chol_inv_M = cholesky(invR_nk + Diagonal(repeat([1 / deltasq_pick], nk_list[k]))); \n",
    "    u = y[CV_ind_ls[k]] /  deltasq_pick;\n",
    "else\n",
    "    chol_inv_M = cholesky(Symmetric(vcat(\n",
    "                hcat(XTX_list[k] / deltasq_pick + inv_V_β, X[:, CV_ind_ls[k]] / deltasq_pick),\n",
    "                hcat(zeros(nk_list[k], p), \n",
    "                    invR_nk + Diagonal(repeat([1 / deltasq_pick], nk_list[k])))), :U));\n",
    "    u = [inv_V_μ_β + XTy_list[k] / deltasq_pick; y[CV_ind_ls[k]] /  deltasq_pick];\n",
    "end\n",
    "\n",
    "ldiv!(chol_inv_M.U', u);  # u2 = chol_inv_M.L \\ u;\n",
    "\n",
    "if label == \"LSE\"\n",
    "    ## Stacking based on expectation\n",
    "    # compute expectation of response in fold k\n",
    "    ldiv!(chol_inv_M.U, u); # compute the posterior expectation of β and z u3 = chol_inv_M.L' \\ u2;\n",
    "\n",
    "    if p == 0\n",
    "        #z_U_expect = R_k_nk * (invR_nk * u);\n",
    "        y_expect[CV_ind_hold_ls[k], (i1 - 1) * L_grid_deltasq + i2] = \n",
    "            (R_k_nk * invR_nk) * u;\n",
    "    else\n",
    "        #z_U_expect = R_k_nk * (invR_nk * u[(p + 1):end]);\n",
    "        y_expect[CV_ind_hold_ls[k], (i1 - 1) * L_grid_deltasq + i2] = \n",
    "            (X[:, CV_ind_hold_ls[k]]' * u[1:p]) + (R_k_nk * invR_nk) * u[(p + 1):end];\n",
    "    end\n",
    "else\n",
    "    ## Stacking based on log point-wise predictive density\n",
    "    if p == 0\n",
    "        b_star = bσ + 0.5 * (y_sq_sum_list[k] / deltasq_pick - norm(u)^2);\n",
    "    else\n",
    "        b_star = bσ + 0.5 * (y_sq_sum_list[k] / deltasq_pick + \n",
    "            dot(μβ, inv_V_μ_β) - norm(u)^2);\n",
    "    end\n",
    "    a_star = aσ + nk_list[k] / 2;\n",
    "\n",
    "    ## generate posterior samples ##\n",
    "    σ2_sam = rand(InverseGamma(a_star, b_star), J);\n",
    "\n",
    "    ## compute the expected response on unobserved locations ##\n",
    "    γ_sam = rand(Normal(), (J, (nk_list[k] + p)));   # each row is a sample\n",
    "    lmul!(Diagonal(sqrt.(σ2_sam)), γ_sam);\n",
    "    add_to_row!(γ_sam, u);          \n",
    "    rdiv!(γ_sam, chol_inv_M.U');            # γ_sam' = backsolve(chol_inv_M, gamma.sam)\n",
    "\n",
    "    # M_r the matrix of log ratios (lp), first, store the expected responses on the held out fold\n",
    "    if p == 0\n",
    "        M_r = γ_sam * (invR_nk * R_k_nk');\n",
    "    else\n",
    "        M_r = γ_sam[:, (1:p)] * X[:, CV_ind_hold_ls[k]] + \n",
    "              γ_sam[:, (p+1):end] * (invR_nk * R_k_nk');\n",
    "    end\n",
    "\n",
    "    # the matrix of log ratios (lp)\n",
    "    minus_to_row!(M_r, y[CV_ind_hold_ls[k]]);\n",
    "    lmul!(Diagonal(sqrt.(1 / (deltasq_pick * σ2_sam))), M_r);\n",
    "    square_and_plus!(M_r, log(2*pi));\n",
    "    add_to_column!(M_r, log.(deltasq_pick * σ2_sam));\n",
    "    M_r .*= -0.5;\n",
    "    lp_expect[CV_ind_hold_ls[k], (i1 - 1) * L_grid_deltasq + i2] = log.(mean(exp.(M_r), dims = 1))[1,:];\n",
    "end  \n",
    "0.0"
   ]
  },
  {
   "cell_type": "code",
   "execution_count": 44,
   "metadata": {},
   "outputs": [
    {
     "name": "stderr",
     "output_type": "stream",
     "text": [
      "\u001b[32mComputing initial pass...100%|██████████████████████████████████████████████████| Time: 0:00:06\u001b[39m\n"
     ]
    }
   ],
   "source": [
    "prog = Progress(size(grid_phi_nu, 1), 1, \"Computing initial pass...\", 50)\n",
    "for i1 in 1:size(grid_phi_nu, 1)\n",
    "    phi_pick = grid_phi_nu[i1, 1];\n",
    "    nu_pick = grid_phi_nu[i1, 2];\n",
    "    for k in 1:K_fold\n",
    "        invR_nk = inv(cholesky(Symmetric(Maternlu.(\n",
    "                UpperTriangular(pairwise(Euclidean(), coords[:, CV_ind_ls[k]], dims = 2)), \n",
    "                ν = nu_pick, ϕ = phi_pick))));\n",
    "        R_k_nk = Maternlu.(pairwise(Euclidean(), coords[:, CV_ind_hold_ls[k]], \n",
    "                coords[:, CV_ind_ls[k]], dims = 2), ν = nu_pick, ϕ = phi_pick);\n",
    "        for i2 in 1:L_grid_deltasq\n",
    "            deltasq_pick = deltasq_grid[i2];\n",
    "            if p == 0\n",
    "                chol_inv_M = cholesky(invR_nk + Diagonal(repeat([1 / deltasq_pick], nk_list[k]))); \n",
    "                u = y[CV_ind_ls[k]] /  deltasq_pick;\n",
    "            else\n",
    "                chol_inv_M = cholesky(Symmetric(vcat(\n",
    "                            hcat(XTX_list[k] / deltasq_pick + inv_V_β, X[:, CV_ind_ls[k]] / deltasq_pick),\n",
    "                            hcat(zeros(nk_list[k], p), \n",
    "                                invR_nk + Diagonal(repeat([1 / deltasq_pick], nk_list[k])))), :U));\n",
    "                u = [inv_V_μ_β + XTy_list[k] / deltasq_pick; y[CV_ind_ls[k]] /  deltasq_pick];\n",
    "            end\n",
    "            \n",
    "            ldiv!(chol_inv_M.U', u);  # u2 = chol_inv_M.L \\ u;\n",
    "            \n",
    "            if label == \"LSE\"\n",
    "                ## Stacking based on expectation\n",
    "                # compute expectation of response in fold k\n",
    "                ldiv!(chol_inv_M.U, u); # compute the posterior expectation of β and z u3 = chol_inv_M.L' \\ u2;\n",
    "                \n",
    "                if p == 0\n",
    "                    y_expect[CV_ind_hold_ls[k], (i1 - 1) * L_grid_deltasq + i2] = \n",
    "                        (R_k_nk * invR_nk) * u;\n",
    "                else\n",
    "                    y_expect[CV_ind_hold_ls[k], (i1 - 1) * L_grid_deltasq + i2] = \n",
    "                        (X[:, CV_ind_hold_ls[k]]' * u[1:p]) + (R_k_nk * invR_nk) * u[(p + 1):end];\n",
    "                end\n",
    "            else\n",
    "                ## Stacking based on log point-wise predictive density\n",
    "                if p == 0\n",
    "                    b_star = bσ + 0.5 * (y_sq_sum_list[k] / deltasq_pick - norm(u)^2);\n",
    "                else\n",
    "                    b_star = bσ + 0.5 * (y_sq_sum_list[k] / deltasq_pick + \n",
    "                        dot(μβ, inv_V_μ_β) - norm(u)^2);\n",
    "                end\n",
    "                a_star = aσ + nk_list[k] / 2;\n",
    "                \n",
    "                ## generate posterior samples ##\n",
    "                σ2_sam = rand(InverseGamma(a_star, b_star), J);\n",
    "                \n",
    "                ## compute the expected response on unobserved locations ##\n",
    "                γ_sam = rand(Normal(), (J, (nk_list[k] + p)));   # each row is a sample\n",
    "                lmul!(Diagonal(sqrt.(σ2_sam)), γ_sam);\n",
    "                add_to_row!(γ_sam, u);          \n",
    "                rdiv!(γ_sam, chol_inv_M.U');            # γ_sam' = backsolve(chol_inv_M, gamma.sam)\n",
    "                \n",
    "                # M_r the matrix of log ratios (lp), first, store the expected responses on the held out fold\n",
    "                if p == 0\n",
    "                    M_r = γ_sam * (invR_nk * R_k_nk');\n",
    "                else\n",
    "                    M_r = γ_sam[:, (1:p)] * X[:, CV_ind_hold_ls[k]] + \n",
    "                          γ_sam[:, (p+1):end] * (invR_nk * R_k_nk');\n",
    "                end\n",
    "                \n",
    "                # the matrix of log ratios (lp)\n",
    "                minus_to_row!(M_r, y[CV_ind_hold_ls[k]]);\n",
    "                lmul!(Diagonal(sqrt.(1 / (deltasq_pick * σ2_sam))), M_r);\n",
    "                square_and_plus!(M_r, log(2*pi));\n",
    "                add_to_column!(M_r, log.(deltasq_pick * σ2_sam));\n",
    "                M_r .*= -0.5;\n",
    "                lp_expect[CV_ind_hold_ls[k], (i1 - 1) * L_grid_deltasq + i2] = log.(mean(exp.(M_r), dims = 1))[1,:];\n",
    "            end          \n",
    "        end\n",
    "    end\n",
    "    next!(prog)\n",
    "end"
   ]
  },
  {
   "cell_type": "code",
   "execution_count": 92,
   "metadata": {},
   "outputs": [
    {
     "data": {
      "text/plain": [
       "stacking_prediction (generic function with 3 methods)"
      ]
     },
     "execution_count": 92,
     "metadata": {},
     "output_type": "execute_result"
    }
   ],
   "source": [
    "function stacking_prediction(coords, nu_pick, phi_pick, deltasq_grid, \n",
    "        L_grid_deltasq, k, CV_ind_ls, CV_ind_hold_ls, p, nk_list, nk_k_list,\n",
    "        y, X, XTX, XTy, inv_V_β, inv_V_μ_β, label, J = 300)\n",
    "    \n",
    "    #preallocation and precomputation\n",
    "    L_grid_deltasq = length(deltasq_grid);\n",
    "    out_put = Array{Float64, 2}(undef, nk_k_list[k], L_grid_deltasq);\n",
    "    #chol_inv_M = Array{Float64, 2}(undef, nk_list[k] + p, nk_list[k] + p);\n",
    "    #u = Array{Float64, 1}(undef, nk_list[k] + p);\n",
    "    \n",
    "    \n",
    "    invR_nk = compute_invR_nk(coords[:, CV_ind_ls[k]], ν = nu_pick, ϕ = phi_pick);\n",
    "    R_k_nk = compute_R_k_nk(coords[:, CV_ind_hold_ls[k]], \n",
    "        coords[:, CV_ind_ls[k]], ν = nu_pick, ϕ = phi_pick);\n",
    "    \n",
    "    for i2 in 1:L_grid_deltasq\n",
    "        deltasq_pick = deltasq_grid[i2];\n",
    "        if p == 0\n",
    "            chol_inv_M = cholesky(invR_nk + Diagonal(repeat([1 / deltasq_pick], nk_list[k]))); \n",
    "            u = y[CV_ind_ls[k]] /  deltasq_pick;\n",
    "        else\n",
    "            chol_inv_M = cholesky(Symmetric(vcat(\n",
    "                        hcat(XTX_list[k] / deltasq_pick + inv_V_β, X[:, CV_ind_ls[k]] / deltasq_pick),\n",
    "                        hcat(zeros(nk_list[k], p), \n",
    "                            invR_nk + Diagonal(repeat([1 / deltasq_pick], nk_list[k])))), :U));\n",
    "            u = [inv_V_μ_β + XTy_list[k] / deltasq_pick; y[CV_ind_ls[k]] /  deltasq_pick];\n",
    "        end\n",
    "\n",
    "        ldiv!(chol_inv_M.U', u);  # u2 = chol_inv_M.L \\ u;\n",
    "\n",
    "        if label == \"LSE\"\n",
    "            ## Stacking based on expectation\n",
    "            # compute expectation of response in fold k\n",
    "            ldiv!(chol_inv_M.U, u); # compute the posterior expectation of β and z u3 = chol_inv_M.L' \\ u2;\n",
    "\n",
    "            if p == 0\n",
    "                out_put[:, i2] = \n",
    "                    (R_k_nk * invR_nk) * u;\n",
    "            else\n",
    "                out_put[:, i2] = \n",
    "                    (X[:, CV_ind_hold_ls[k]]' * u[1:p]) + (R_k_nk * invR_nk) * u[(p + 1):end];\n",
    "            end\n",
    "        else\n",
    "            ## Stacking based on log point-wise predictive density\n",
    "            if p == 0\n",
    "                b_star = bσ + 0.5 * (y_sq_sum_list[k] / deltasq_pick - norm(u)^2);\n",
    "            else\n",
    "                b_star = bσ + 0.5 * (y_sq_sum_list[k] / deltasq_pick + \n",
    "                    dot(μβ, inv_V_μ_β) - norm(u)^2);\n",
    "            end\n",
    "            a_star = aσ + nk_list[k] / 2;\n",
    "\n",
    "            ## generate posterior samples ##\n",
    "            σ2_sam = rand(InverseGamma(a_star, b_star), J);\n",
    "\n",
    "            ## compute the expected response on unobserved locations ##\n",
    "            γ_sam = rand(Normal(), (J, (nk_list[k] + p)));   # each row is a sample\n",
    "            lmul!(Diagonal(sqrt.(σ2_sam)), γ_sam);\n",
    "            add_to_row!(γ_sam, u);          \n",
    "            rdiv!(γ_sam, chol_inv_M.U');            # γ_sam' = backsolve(chol_inv_M, gamma.sam)\n",
    "\n",
    "            # M_r the matrix of log ratios (lp), first, store the expected responses on the held out fold\n",
    "            if p == 0\n",
    "                M_r = γ_sam * (invR_nk * R_k_nk');\n",
    "            else\n",
    "                M_r = γ_sam[:, (1:p)] * X[:, CV_ind_hold_ls[k]] + \n",
    "                      γ_sam[:, (p+1):end] * (invR_nk * R_k_nk');\n",
    "            end\n",
    "\n",
    "            # the matrix of log ratios (lp)\n",
    "            minus_to_row!(M_r, y[CV_ind_hold_ls[k]]);\n",
    "            lmul!(Diagonal(sqrt.(1 / (deltasq_pick * σ2_sam))), M_r);\n",
    "            square_and_plus!(M_r, log(2*pi));\n",
    "            add_to_column!(M_r, log.(deltasq_pick * σ2_sam));\n",
    "            M_r .*= -0.5;\n",
    "            out_put[:, i2] = log.(mean(exp.(M_r), dims = 1))[1,:];\n",
    "        end          \n",
    "    end\n",
    "    return out_put\n",
    "end"
   ]
  },
  {
   "cell_type": "code",
   "execution_count": 151,
   "metadata": {},
   "outputs": [
    {
     "data": {
      "text/plain": [
       "stacking_prediction_LP (generic function with 3 methods)"
      ]
     },
     "execution_count": 151,
     "metadata": {},
     "output_type": "execute_result"
    }
   ],
   "source": [
    "function stacking_prediction_LP(coords, nu_pick, phi_pick, deltasq_grid, \n",
    "        L_grid_deltasq, k, CV_ind_ls, CV_ind_hold_ls, p, nk_list, nk_k_list,\n",
    "        y, X, XTX, XTy, inv_V_β, inv_V_μ_β, J = 300)\n",
    "    ## compute expected log predictive density of response in fold k ##\n",
    "\n",
    "    #preallocation and precomputation\n",
    "    L_grid_deltasq = length(deltasq_grid);\n",
    "    out_put = Array{Float64, 2}(undef, nk_k_list[k], L_grid_deltasq);\n",
    "    chol_inv_M = Array{Float64, 2}(undef, nk_list[k] + p, nk_list[k] + p);\n",
    "    u = Array{Float64, 1}(undef, nk_list[k] + p);\n",
    "    a_star = 0.0; b_star = 0.0;\n",
    "    σ2_sam = Array{Float64, 1}(undef, J);\n",
    "    γ_sam = Array{Float64, 2}(undef, J, nk_list[k] + p);\n",
    "    M_r = Array{Float64, 2}(undef, J, nk_k_list[k]);\n",
    "    M_r_invRR_store = Array{Float64, 2}(undef, nk_list[k], nk_k_list[k]);\n",
    "    if p > 0\n",
    "        M_r_Xβ_store = Array{Float64, 2}(undef, J, nk_k_list[k]);\n",
    "    end\n",
    "    \n",
    "    invR_nk = compute_invR_nk(coords[:, CV_ind_ls[k]], ν = nu_pick, ϕ = phi_pick);\n",
    "    R_k_nk = compute_R_k_nk(coords[:, CV_ind_hold_ls[k]], \n",
    "        coords[:, CV_ind_ls[k]], ν = nu_pick, ϕ = phi_pick);\n",
    "    \n",
    "    for i2 in 1:L_grid_deltasq\n",
    "        deltasq_pick = deltasq_grid[i2];\n",
    "        if p == 0\n",
    "            chol_inv_M[:] = invR_nk; \n",
    "            plus_cI!(chol_inv_M, 1 / deltasq_pick, p);\n",
    "            cholesky!(Symmetric(chol_inv_M, :U));\n",
    "            u[:] = y[CV_ind_ls[k]] /  deltasq_pick;\n",
    "        else\n",
    "            chol_inv_M[1:p, 1:p] = XTX_list[k] / deltasq_pick + inv_V_β;\n",
    "            chol_inv_M[1:p, (p+1):end] = X[:, CV_ind_ls[k]] / deltasq_pick;\n",
    "            chol_inv_M[(p+1):end, (p+1):end] = invR_nk; \n",
    "            plus_cI!(chol_inv_M, 1 / deltasq_pick, p);\n",
    "            cholesky!(Symmetric(chol_inv_M, :U));\n",
    "            u[:] = [inv_V_μ_β + XTy_list[k] / deltasq_pick; y[CV_ind_ls[k]] /  deltasq_pick];\n",
    "        end\n",
    "\n",
    "        ldiv!(UpperTriangular(chol_inv_M)', u);  # u2 = chol_inv_M.L \\ u;\n",
    "\n",
    "        ## Stacking based on log point-wise predictive density\n",
    "        if p == 0\n",
    "            b_star = bσ + 0.5 * (y_sq_sum_list[k] / deltasq_pick - norm(u)^2);\n",
    "        else\n",
    "            b_star = bσ + 0.5 * (y_sq_sum_list[k] / deltasq_pick + \n",
    "                dot(μβ, inv_V_μ_β) - norm(u)^2);\n",
    "        end\n",
    "        a_star = aσ + nk_list[k] / 2;\n",
    "\n",
    "        ## generate posterior samples ##\n",
    "        rand!(InverseGamma(a_star, b_star), σ2_sam);\n",
    "\n",
    "        ## compute the expected response on unobserved locations ##\n",
    "        rand!(Normal(), γ_sam)   # each row is a sample\n",
    "        ldiagmul!(sqrt.(σ2_sam), γ_sam);\n",
    "        add_to_row!(γ_sam, u);          \n",
    "        rdiv!(γ_sam, UpperTriangular(chol_inv_M)');            # γ_sam' = backsolve(chol_inv_M, gamma.sam)\n",
    "\n",
    "        # M_r the matrix of log ratios (lp), first, store the expected responses on the held out fold\n",
    "        if p == 0\n",
    "            mul!(M_r_invRR_store, invR_nk, R_k_nk');\n",
    "            mul!(M_r, γ_sam, M_r_invRR_store);\n",
    "        else\n",
    "            mul!(M_r_invRR_store, invR_nk, R_k_nk');\n",
    "            mul!(M_r, γ_sam[:, (p+1):end], M_r_invRR_store);\n",
    "            mul!(M_r_Xβ_store, γ_sam[:, (1:p)], X[:, CV_ind_hold_ls[k]]);\n",
    "            M_r += M_r_Xβ_store;\n",
    "        end\n",
    "\n",
    "        # the matrix of log ratios (lp)\n",
    "        minus_to_row!(M_r, y[CV_ind_hold_ls[k]]);\n",
    "        ldiagmul!(sqrt.(1 ./ (deltasq_pick .* σ2_sam)), M_r);\n",
    "        square_and_plus!(M_r, log(2*pi));\n",
    "        add_to_column!(M_r, log.(deltasq_pick .* σ2_sam));\n",
    "        M_r .*= -0.5;\n",
    "        out_put[:, i2] = log.(mean(exp.(M_r), dims = 1))[1,:];\n",
    "    end          \n",
    "    return out_put\n",
    "end"
   ]
  },
  {
   "cell_type": "code",
   "execution_count": 152,
   "metadata": {},
   "outputs": [
    {
     "data": {
      "text/plain": [
       "BenchmarkTools.Trial: 111 samples with 1 evaluation.\n",
       " Range \u001b[90m(\u001b[39m\u001b[36m\u001b[1mmin\u001b[22m\u001b[39m … \u001b[35mmax\u001b[39m\u001b[90m):  \u001b[39m\u001b[36m\u001b[1m43.733 ms\u001b[22m\u001b[39m … \u001b[35m49.662 ms\u001b[39m  \u001b[90m┊\u001b[39m GC \u001b[90m(\u001b[39mmin … max\u001b[90m): \u001b[39m0.00% … 5.25%\n",
       " Time  \u001b[90m(\u001b[39m\u001b[34m\u001b[1mmedian\u001b[22m\u001b[39m\u001b[90m):     \u001b[39m\u001b[34m\u001b[1m44.509 ms              \u001b[22m\u001b[39m\u001b[90m┊\u001b[39m GC \u001b[90m(\u001b[39mmedian\u001b[90m):    \u001b[39m0.00%\n",
       " Time  \u001b[90m(\u001b[39m\u001b[32m\u001b[1mmean\u001b[22m\u001b[39m ± \u001b[32mσ\u001b[39m\u001b[90m):   \u001b[39m\u001b[32m\u001b[1m45.056 ms\u001b[22m\u001b[39m ± \u001b[32m 1.372 ms\u001b[39m  \u001b[90m┊\u001b[39m GC \u001b[90m(\u001b[39mmean ± σ\u001b[90m):  \u001b[39m1.06% ± 2.10%\n",
       "\n",
       "  \u001b[39m▂\u001b[39m█\u001b[39m \u001b[39m \u001b[39m▂\u001b[39m \u001b[39m▂\u001b[39m▄\u001b[34m▂\u001b[39m\u001b[39m \u001b[39m \u001b[39m \u001b[39m \u001b[32m \u001b[39m\u001b[39m \u001b[39m \u001b[39m \u001b[39m \u001b[39m \u001b[39m \u001b[39m \u001b[39m \u001b[39m \u001b[39m \u001b[39m \u001b[39m \u001b[39m \u001b[39m \u001b[39m \u001b[39m \u001b[39m \u001b[39m \u001b[39m \u001b[39m \u001b[39m \u001b[39m \u001b[39m \u001b[39m \u001b[39m \u001b[39m \u001b[39m \u001b[39m \u001b[39m \u001b[39m \u001b[39m \u001b[39m \u001b[39m \u001b[39m \u001b[39m \u001b[39m \u001b[39m \u001b[39m \u001b[39m \u001b[39m \u001b[39m \u001b[39m \u001b[39m \u001b[39m \u001b[39m \u001b[39m \u001b[39m \n",
       "  \u001b[39m█\u001b[39m█\u001b[39m▆\u001b[39m▆\u001b[39m█\u001b[39m█\u001b[39m█\u001b[39m█\u001b[34m█\u001b[39m\u001b[39m▇\u001b[39m▆\u001b[39m▇\u001b[39m▃\u001b[32m▃\u001b[39m\u001b[39m▃\u001b[39m▃\u001b[39m▁\u001b[39m▃\u001b[39m▃\u001b[39m▁\u001b[39m▁\u001b[39m▁\u001b[39m▁\u001b[39m▁\u001b[39m▃\u001b[39m▁\u001b[39m▁\u001b[39m▃\u001b[39m▄\u001b[39m▄\u001b[39m▆\u001b[39m▃\u001b[39m▃\u001b[39m▅\u001b[39m▆\u001b[39m▃\u001b[39m▃\u001b[39m▁\u001b[39m▃\u001b[39m▁\u001b[39m▃\u001b[39m▁\u001b[39m▃\u001b[39m▁\u001b[39m▁\u001b[39m▁\u001b[39m▁\u001b[39m▁\u001b[39m▃\u001b[39m▁\u001b[39m▁\u001b[39m▁\u001b[39m▁\u001b[39m▁\u001b[39m▁\u001b[39m▁\u001b[39m▁\u001b[39m▁\u001b[39m▃\u001b[39m \u001b[39m▃\n",
       "  43.7 ms\u001b[90m         Histogram: frequency by time\u001b[39m        49.6 ms \u001b[0m\u001b[1m<\u001b[22m\n",
       "\n",
       " Memory estimate\u001b[90m: \u001b[39m\u001b[33m8.62 MiB\u001b[39m, allocs estimate\u001b[90m: \u001b[39m\u001b[33m79319\u001b[39m."
      ]
     },
     "execution_count": 152,
     "metadata": {},
     "output_type": "execute_result"
    }
   ],
   "source": [
    "@benchmark stacking_prediction_LP(coords, nu_pick, phi_pick, deltasq_grid, \n",
    "                L_grid_deltasq, k, CV_ind_ls, CV_ind_hold_ls, p, \n",
    "                nk_list, nk_k_list, y, X, XTX, XTy, inv_V_β, inv_V_μ_β, J)"
   ]
  },
  {
   "cell_type": "code",
   "execution_count": 46,
   "metadata": {},
   "outputs": [
    {
     "name": "stderr",
     "output_type": "stream",
     "text": [
      "\u001b[32mComputing initial pass...100%|██████████████████████████████████████████████████| Time: 0:00:06\u001b[39m\n"
     ]
    }
   ],
   "source": [
    "## improve efficiency ##\n",
    "prog = Progress(size(grid_phi_nu, 1), 1, \"Computing initial pass...\", 50)\n",
    "for i1 in 1:size(grid_phi_nu, 1)\n",
    "    phi_pick = grid_phi_nu[i1, 1];\n",
    "    nu_pick = grid_phi_nu[i1, 2];\n",
    "    for k in 1:K_fold\n",
    "        if label == \"LSE\"\n",
    "            y_expect[CV_ind_hold_ls[k], \n",
    "                (i1 - 1) * L_grid_deltasq .+ (1:L_grid_deltasq)] = \n",
    "            stacking_prediction_LSE(coords, nu_pick, phi_pick, deltasq_grid, \n",
    "                L_grid_deltasq, k, CV_ind_ls, CV_ind_hold_ls, p, \n",
    "                nk_list, y, X, XTX, XTy, inv_V_β, inv_V_μ_β);\n",
    "        else\n",
    "            lp_expect[CV_ind_hold_ls[k], \n",
    "                (i1 - 1) * L_grid_deltasq .+ (1:L_grid_deltasq)] = \n",
    "            stacking_prediction_LP(coords, nu_pick, phi_pick, deltasq_grid, \n",
    "                L_grid_deltasq, k, CV_ind_ls, CV_ind_hold_ls, p, \n",
    "                nk_list, y, X, XTX, XTy, inv_V_β, inv_V_μ_β, J);\n",
    "        end\n",
    "            \n",
    "    end\n",
    "    next!(prog)\n",
    "end"
   ]
  },
  {
   "cell_type": "code",
   "execution_count": null,
   "metadata": {},
   "outputs": [],
   "source": []
  }
 ],
 "metadata": {
  "kernelspec": {
   "display_name": "Julia 1.6.5",
   "language": "julia",
   "name": "julia-1.6"
  },
  "language_info": {
   "file_extension": ".jl",
   "mimetype": "application/julia",
   "name": "julia",
   "version": "1.6.5"
  }
 },
 "nbformat": 4,
 "nbformat_minor": 4
}
