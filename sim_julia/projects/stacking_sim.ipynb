{
 "cells": [
  {
   "cell_type": "markdown",
   "metadata": {},
   "source": [
    "## Julia code for simulation"
   ]
  },
  {
   "cell_type": "code",
   "execution_count": 1,
   "metadata": {},
   "outputs": [],
   "source": [
    "## necessary packages\n",
    "\n",
    "using Distributions\n",
    "using Distances\n",
    "using LinearAlgebra\n",
    "using SparseArrays\n",
    "using IterativeSolvers\n",
    "using ProgressMeter\n",
    "using JLD2\n",
    "using Random\n",
    "using SpecialFunctions # Matern functions\n",
    "using MLBase         # cross-validation \n",
    "using Convex         # compute stacking weights\n",
    "using MosekTools     # compute stacking weights"
   ]
  },
  {
   "cell_type": "code",
   "execution_count": 2,
   "metadata": {},
   "outputs": [
    {
     "data": {
      "text/plain": [
       "sp_stacking_K_fold_MT (generic function with 1 method)"
      ]
     },
     "execution_count": 2,
     "metadata": {},
     "output_type": "execute_result"
    }
   ],
   "source": [
    "include(\"./utils.jl\")"
   ]
  },
  {
   "cell_type": "code",
   "execution_count": 3,
   "metadata": {},
   "outputs": [],
   "source": [
    "# Set the parameters of the simulated data #\n",
    "p = 2;      # No. covariates\n",
    "β = [1.0 2.0]; #regression coeff\n",
    "σ2 = 1.0; ϕ = 7.0; ν = 1.0; τ2 = 1.0; # hyperparmeters in matern"
   ]
  },
  {
   "cell_type": "code",
   "execution_count": 4,
   "metadata": {},
   "outputs": [],
   "source": [
    "## Generate simulation data ##\n",
    "Random.seed!(1);\n",
    "N = 900;                     # No. all positions\n",
    "N_ho = 100;                  # No. held out positions\n",
    "ind_mod = 1:(N - N_ho);      # index of training observations\n",
    "coords = rand(2, N);         # random location over unit square (2 by N)\n",
    "X = vcat(fill(1.0, (1, N)), rand(Normal(), (1, N)));          # design matrix (p by N)\n",
    "D = pairwise(Euclidean(), coords, dims = 2);                  # distance matrix\n",
    "Cov = Symmetric(Maternlu.(UpperTriangular(D), \n",
    "        ν = ν, ϕ = ϕ, σ2 = σ2))                               # covariance matrix\n",
    "z = rand(MvNormal(Cov), 1);                                   # latent process\n",
    "y = (β * X)[1,:] + z[:,1] + sqrt(τ2) * rand(Normal(), N);     # response"
   ]
  },
  {
   "cell_type": "code",
   "execution_count": 5,
   "metadata": {},
   "outputs": [],
   "source": [
    "using BenchmarkTools"
   ]
  },
  {
   "cell_type": "code",
   "execution_count": 6,
   "metadata": {},
   "outputs": [],
   "source": [
    "## candidate values of hyperparameters for stacking ##\n",
    "deltasq_grid = [0.1, 0.5, 1, 2];\n",
    "phi_grid = [3, 9, 15, 21];\n",
    "nu_grid = [0.5, 1, 1.5, 1.75];"
   ]
  },
  {
   "cell_type": "code",
   "execution_count": 7,
   "metadata": {},
   "outputs": [],
   "source": [
    "## priors parameters ##\n",
    "Priors = Dict(\"μβ\" => fill(0.0, p), \"inv_V_β\" => Diagonal(ones(p) * 0.25), \n",
    "    \"aσ\" => 2.0, \"bσ\" => 2.0);"
   ]
  },
  {
   "cell_type": "code",
   "execution_count": 8,
   "metadata": {},
   "outputs": [],
   "source": [
    "label = \"LSE\"; #stacking of means\n",
    "K_fold = 10;"
   ]
  },
  {
   "cell_type": "code",
   "execution_count": 9,
   "metadata": {},
   "outputs": [],
   "source": [
    "label = \"LP\";  #stacking of predictive densities\n",
    "#J = 300;       # sample size for computing posterior expectation\n",
    "K_fold = 10;"
   ]
  },
  {
   "cell_type": "code",
   "execution_count": 12,
   "metadata": {},
   "outputs": [
    {
     "name": "stderr",
     "output_type": "stream",
     "text": [
      "\u001b[32mComputing initial pass... 100%|██████████████████████████████████████████████████| Time: 0:00:13\u001b[39m\n"
     ]
    },
    {
     "data": {
      "text/plain": [
       "2×4 Matrix{Float64}:\n",
       " 3.0  0.5  1.0  0.764149\n",
       " 3.0  1.0  2.0  0.235851"
      ]
     },
     "execution_count": 12,
     "metadata": {},
     "output_type": "execute_result"
    }
   ],
   "source": [
    "out = sp_stacking_K_fold(X, y, coords, deltasq_grid, phi_grid,\n",
    "    nu_grid, Priors, K_fold = K_fold, seed = 432, label = label, J = 300);\n",
    "[out[:grid_all][(out[:w].>0.01), :] out[:w][(out[:w].>0.01)]]"
   ]
  },
  {
   "cell_type": "code",
   "execution_count": 11,
   "metadata": {},
   "outputs": [
    {
     "data": {
      "text/plain": [
       "2×4 Matrix{Float64}:\n",
       " 3.0  0.5  1.0  0.764149\n",
       " 3.0  1.0  2.0  0.235851"
      ]
     },
     "execution_count": 11,
     "metadata": {},
     "output_type": "execute_result"
    }
   ],
   "source": [
    "out = sp_stacking_K_fold_MT(X, y, coords, deltasq_grid, phi_grid,\n",
    "    nu_grid, Priors, K_fold = K_fold, seed = 432, label = label, J = 0);\n",
    "[out[:grid_all][(out[:w].>0.01), :] out[:w][(out[:w].>0.01)]]"
   ]
  },
  {
   "cell_type": "code",
   "execution_count": 16,
   "metadata": {},
   "outputs": [
    {
     "data": {
      "text/plain": [
       "4×4 Matrix{Float64}:\n",
       "  3.0  0.5   0.1  0.176188\n",
       "  9.0  0.5   0.1  0.0991032\n",
       " 21.0  1.75  0.1  0.0567573\n",
       "  3.0  0.5   0.5  0.667952"
      ]
     },
     "execution_count": 16,
     "metadata": {},
     "output_type": "execute_result"
    }
   ],
   "source": [
    "out = sp_stacking_K_fold_MT(X, y, coords, deltasq_grid, phi_grid,\n",
    "    nu_grid, Priors, K_fold = K_fold, seed = 432, label = \"LSE\", J = 0);\n",
    "[out[:grid_all][(out[:w].>0.01), :] out[:w][(out[:w].>0.01)]]"
   ]
  },
  {
   "cell_type": "code",
   "execution_count": 22,
   "metadata": {},
   "outputs": [],
   "source": [
    "#@benchmark sp_stacking_K_fold(X, y, coords, deltasq_grid, phi_grid,\n",
    "#    nu_grid, Priors, K_fold = K_fold, seed = 3214, label = label)"
   ]
  },
  {
   "cell_type": "code",
   "execution_count": 23,
   "metadata": {},
   "outputs": [],
   "source": [
    "#@benchmark sp_stacking_K_fold_MT(X, y, coords, deltasq_grid, phi_grid,\n",
    "#    nu_grid, Priors, K_fold = K_fold, seed = 3214, label = label)"
   ]
  },
  {
   "cell_type": "code",
   "execution_count": 24,
   "metadata": {},
   "outputs": [],
   "source": [
    "#@benchmark sp_stacking_K_fold_MT(X, y, coords, deltasq_grid, phi_grid,\n",
    "#    nu_grid, Priors, K_fold = K_fold, seed = 3214, label = \"LSE\")"
   ]
  },
  {
   "cell_type": "code",
   "execution_count": null,
   "metadata": {},
   "outputs": [],
   "source": [
    "## Conj_predict"
   ]
  },
  {
   "cell_type": "code",
   "execution_count": 156,
   "metadata": {},
   "outputs": [],
   "source": [
    "# pre-computation and pre-allocation #\n",
    "Random.seed!(3214);\n",
    "\n",
    "K_fold = 10;\n",
    "N = size(X, 2);\n",
    "CV_ind_ls = collect(Kfold(N, K_fold)); # index of train data in CV\n",
    "CV_ind_hold_ls = [setdiff(1:N, CV_ind_ls[k]) for k in 1:K_fold]; # index of held-out data in CV\n",
    "N_grid = length(deltasq_grid) * length(phi_grid) * length(nu_grid);\n",
    "nk_list = [length(x) for x in CV_ind_ls]; # be careful, different from the nk_list in my R code\n",
    "nk_k_list = [(N - x) for x in nk_list];   # This is the nk_list in my R code\n",
    "\n",
    "\n",
    "if X == Nothing()\n",
    "    p = 0;\n",
    "else\n",
    "    p = size(X, 1);\n",
    "    Priors[\"inv_V_μ_β\"] = Priors[\"inv_V_β\"] * Priors[\"μβ\"];\n",
    "    XTX = X * X'; XTy = X * y;\n",
    "    XTX_list = [XTX - X[:, CV_ind_hold_ls[k]] * X[:, CV_ind_hold_ls[k]]' for k in 1:K_fold];\n",
    "    XTy_list = [XTy - X[:, CV_ind_hold_ls[k]] * y[CV_ind_hold_ls[k]] for k in 1:K_fold];\n",
    "end\n",
    "\n",
    "if label == \"LSE\"\n",
    "    y_expect = Array{Float64, 2}(undef, N, N_grid);\n",
    "elseif label == \"LP\"\n",
    "    lp_expect = Array{Float64, 2}(undef, N, N_grid);\n",
    "    y_sq_sum_list = [norm(y[CV_ind_ls[k]])^2 for k in 1:K_fold];\n",
    "else \n",
    "    print(\"label has to be LSE or LP\");\n",
    "end\n",
    "\n",
    "grid_phi_nu = vcat([[x y] for x in phi_grid, y in nu_grid]...);\n",
    "grid_all = vcat([[x y z] for x in phi_grid, y in nu_grid, z in deltasq_grid]...);\n",
    "L_grid_deltasq  = length(deltasq_grid);"
   ]
  },
  {
   "cell_type": "code",
   "execution_count": 163,
   "metadata": {},
   "outputs": [
    {
     "name": "stderr",
     "output_type": "stream",
     "text": [
      "\u001b[32mComputing initial pass... 100%|██████████████████████████████████████████████████| Time: 0:00:03\u001b[39m\n"
     ]
    }
   ],
   "source": [
    "seed2 = 6; J = 300\n",
    "## Compute expectation for stacking ##\n",
    "prog = Progress(size(grid_phi_nu, 1), 1, \"Computing initial pass...\", 50)\n",
    "Threads.@threads for i1 in 1:size(grid_phi_nu, 1)\n",
    "    phi_pick = grid_phi_nu[i1, 1];\n",
    "    nu_pick = grid_phi_nu[i1, 2];\n",
    "    Threads.@threads for k in 1:K_fold\n",
    "        Random.seed!(seed2 + (i1 - 1) * K_fold + k);\n",
    "        if label == \"LSE\"\n",
    "            y_expect[CV_ind_hold_ls[k], \n",
    "                (i1 - 1) * L_grid_deltasq .+ (1:L_grid_deltasq)] = \n",
    "            stacking_prediction_LSE(coords, nu_pick, phi_pick, deltasq_grid, \n",
    "                L_grid_deltasq, k, CV_ind_ls, CV_ind_hold_ls, p, \n",
    "                nk_list, nk_k_list, y, X, XTX_list, XTy_list, Priors);\n",
    "        else\n",
    "            lp_expect[CV_ind_hold_ls[k], \n",
    "                (i1 - 1) * L_grid_deltasq .+ (1:L_grid_deltasq)] = \n",
    "            stacking_prediction_LP(coords, nu_pick, phi_pick, deltasq_grid, \n",
    "                L_grid_deltasq, k, CV_ind_ls, CV_ind_hold_ls, p, \n",
    "                nk_list, nk_k_list, y, X, XTX_list, XTy_list, \n",
    "                y_sq_sum_list, Priors, J);\n",
    "        end     \n",
    "    end\n",
    "    next!(prog)\n",
    "end"
   ]
  },
  {
   "cell_type": "code",
   "execution_count": 21,
   "metadata": {},
   "outputs": [
    {
     "name": "stdout",
     "output_type": "stream",
     "text": [
      "MOSEK warning 705: #1 (nearly) zero elements are specified in sparse row ''(383) of matrix 'A'.\n"
     ]
    },
    {
     "data": {
      "text/plain": [
       "8×8 Matrix{Float64}:\n",
       " -0.0  -0.0   0.0    -0.0  -0.0  -0.0  -0.0   -0.0\n",
       " -0.0  -0.0  -0.0     0.0  -0.0   0.0  -0.0    0.201\n",
       " -0.0  -0.0  -0.0     0.0  -0.0   0.0  -0.0    0.0\n",
       " -0.0   0.0  -0.0     0.0  -0.0   0.0  -0.0    0.0\n",
       " -0.0  -0.0  -0.0     0.1  -0.0   0.0  -0.0   -0.0\n",
       " -0.0  -0.0   0.0    -0.0   0.0   0.0   0.13   0.085\n",
       " -0.0  -0.0   0.483   0.0   0.0   0.0  -0.0    0.0\n",
       "  0.0  -0.0  -0.0     0.0  -0.0   0.0  -0.0    0.0"
      ]
     },
     "execution_count": 21,
     "metadata": {},
     "output_type": "execute_result"
    }
   ],
   "source": [
    "if label == \"LSE\"\n",
    "    w = QP_stacking_weight(y_expect, y);\n",
    "else\n",
    "    w = stacking_weight(lp_expect);\n",
    "end\n",
    "round.(reshape(w, 8, 8), digits = 3)"
   ]
  },
  {
   "cell_type": "code",
   "execution_count": 1,
   "metadata": {},
   "outputs": [
    {
     "data": {
      "text/plain": [
       "8"
      ]
     },
     "execution_count": 1,
     "metadata": {},
     "output_type": "execute_result"
    }
   ],
   "source": [
    "Threads.nthreads()"
   ]
  },
  {
   "cell_type": "code",
   "execution_count": 7,
   "metadata": {},
   "outputs": [
    {
     "name": "stdout",
     "output_type": "stream",
     "text": [
      "Julia Version 1.6.6\n",
      "Commit b8708f954a (2022-03-28 07:17 UTC)\n",
      "Platform Info:\n",
      "  OS: Windows (x86_64-w64-mingw32)\n",
      "  CPU: Intel(R) Core(TM) i7-7700K CPU @ 4.20GHz\n",
      "  WORD_SIZE: 64\n",
      "  LIBM: libopenlibm\n",
      "  LLVM: libLLVM-11.0.1 (ORCJIT, skylake)\n",
      "Environment:\n",
      "  JULIA_NUM_THREADS = 8\n"
     ]
    }
   ],
   "source": [
    "versioninfo()"
   ]
  },
  {
   "cell_type": "code",
   "execution_count": null,
   "metadata": {},
   "outputs": [],
   "source": []
  }
 ],
 "metadata": {
  "kernelspec": {
   "display_name": "Julia (8 threads) 1.6.6",
   "language": "julia",
   "name": "julia-(8-threads)-1.6"
  },
  "language_info": {
   "file_extension": ".jl",
   "mimetype": "application/julia",
   "name": "julia",
   "version": "1.6.6"
  }
 },
 "nbformat": 4,
 "nbformat_minor": 4
}
