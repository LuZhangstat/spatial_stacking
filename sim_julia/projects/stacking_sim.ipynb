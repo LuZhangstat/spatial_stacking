{
 "cells": [
  {
   "cell_type": "markdown",
   "metadata": {},
   "source": [
    "## Julia code for simulation"
   ]
  },
  {
   "cell_type": "code",
   "execution_count": 53,
   "metadata": {},
   "outputs": [],
   "source": [
    "## necessary packages\n",
    "\n",
    "using Distributions\n",
    "using Distances\n",
    "using LinearAlgebra\n",
    "using SparseArrays\n",
    "using IterativeSolvers\n",
    "using ProgressMeter\n",
    "using JLD2\n",
    "using Random\n",
    "using SpecialFunctions # Matern functions\n",
    "using MLBase         # cross-validation \n",
    "using Convex         # compute stacking weights\n",
    "using MosekTools     # compute stacking weights"
   ]
  },
  {
   "cell_type": "code",
   "execution_count": 54,
   "metadata": {},
   "outputs": [
    {
     "data": {
      "text/plain": [
       "sp_stacking_K_fold_MT (generic function with 1 method)"
      ]
     },
     "execution_count": 54,
     "metadata": {},
     "output_type": "execute_result"
    }
   ],
   "source": [
    "include(\"./utils.jl\")"
   ]
  },
  {
   "cell_type": "code",
   "execution_count": 55,
   "metadata": {},
   "outputs": [],
   "source": [
    "# Set the parameters of the simulated data #\n",
    "p = 2;      # No. covariates\n",
    "β = [1.0 2.0]; #regression coeff\n",
    "σ2 = 1.0; ϕ = 7.0; ν = 1.0; τ2 = 1.0; # hyperparmeters in matern"
   ]
  },
  {
   "cell_type": "code",
   "execution_count": 56,
   "metadata": {},
   "outputs": [],
   "source": [
    "## Generate simulation data ##\n",
    "Random.seed!(1);\n",
    "N = 400;                     # No. all positions\n",
    "N_ho = 100;                  # No. held out positions\n",
    "ind_mod = 1:(N - N_ho);      # index of training observations\n",
    "coords = rand(2, N);         # random location over unit square (2 by N)\n",
    "X = vcat(fill(1.0, (1, N)), rand(Normal(), (1, N)));          # design matrix (p by N)\n",
    "D = pairwise(Euclidean(), coords, dims = 2);                  # distance matrix\n",
    "Cov = Symmetric(Maternlu.(UpperTriangular(D), \n",
    "        ν = ν, ϕ = ϕ, σ2 = σ2))                               # covariance matrix\n",
    "z = rand(MvNormal(Cov), 1);                                   # latent process\n",
    "y = (β * X)[1,:] + z[:,1] + sqrt(τ2) * rand(Normal(), N);     # response"
   ]
  },
  {
   "cell_type": "code",
   "execution_count": 57,
   "metadata": {},
   "outputs": [],
   "source": [
    "using BenchmarkTools"
   ]
  },
  {
   "cell_type": "code",
   "execution_count": 58,
   "metadata": {},
   "outputs": [],
   "source": [
    "## candidate values of hyperparameters for stacking ##\n",
    "deltasq_grid = [0.1, 0.5, 1, 2];\n",
    "phi_grid = [3, 9, 15, 21];\n",
    "nu_grid = [0.5, 1, 1.5, 1.75];"
   ]
  },
  {
   "cell_type": "code",
   "execution_count": 59,
   "metadata": {},
   "outputs": [],
   "source": [
    "## priors parameters ##\n",
    "Priors = Dict(\"μβ\" => fill(0.0, p), \"inv_V_β\" => Diagonal(ones(p) * 0.25), \n",
    "    \"aσ\" => 2.0, \"bσ\" => 2.0);"
   ]
  },
  {
   "cell_type": "code",
   "execution_count": 60,
   "metadata": {},
   "outputs": [],
   "source": [
    "label = \"LSE\"; #stacking of means\n",
    "K_fold = 10;"
   ]
  },
  {
   "cell_type": "code",
   "execution_count": 61,
   "metadata": {},
   "outputs": [],
   "source": [
    "label = \"LP\";  #stacking of predictive densities\n",
    "#J = 300;       # sample size for computing posterior expectation\n",
    "K_fold = 10;"
   ]
  },
  {
   "cell_type": "code",
   "execution_count": 66,
   "metadata": {},
   "outputs": [
    {
     "name": "stderr",
     "output_type": "stream",
     "text": [
      "\u001b[32mComputing initial pass... 100%|██████████████████████████████████████████████████| Time: 0:00:02\u001b[39m\n"
     ]
    },
    {
     "name": "stdout",
     "output_type": "stream",
     "text": [
      "MOSEK warning 705: #1 (nearly) zero elements are specified in sparse row ''(320) of matrix 'A'.\n",
      "MOSEK warning 705: #3 (nearly) zero elements are specified in sparse row ''(383) of matrix 'A'.\n",
      "MOSEK warning 705: #1 (nearly) zero elements are specified in sparse row ''(1028) of matrix 'A'.\n"
     ]
    },
    {
     "data": {
      "text/plain": [
       "3×4 Matrix{Float64}:\n",
       " 21.0  1.0  0.1  0.310274\n",
       "  3.0  0.5  1.0  0.601129\n",
       " 21.0  0.5  2.0  0.0885964"
      ]
     },
     "execution_count": 66,
     "metadata": {},
     "output_type": "execute_result"
    }
   ],
   "source": [
    "out = sp_stacking_K_fold(X, y, coords, deltasq_grid, phi_grid,\n",
    "    nu_grid, Priors, K_fold = K_fold, seed = 2, label = label, J = 300);\n",
    "[out[:grid_all][(out[:w].>0.01), :] out[:w][(out[:w].>0.01)]]"
   ]
  },
  {
   "cell_type": "code",
   "execution_count": 67,
   "metadata": {},
   "outputs": [
    {
     "name": "stdout",
     "output_type": "stream",
     "text": [
      "MOSEK warning 705: #3 (nearly) zero elements are specified in sparse row ''(383) of matrix 'A'.\n",
      "MOSEK warning 705: #1 (nearly) zero elements are specified in sparse row ''(1028) of matrix 'A'.\n"
     ]
    },
    {
     "data": {
      "text/plain": [
       "5×4 Matrix{Float64}:\n",
       "  3.0  0.5  0.1  0.0389893\n",
       " 21.0  1.0  0.1  0.137931\n",
       "  3.0  0.5  1.0  0.400724\n",
       " 21.0  0.5  2.0  0.158836\n",
       " 15.0  1.0  2.0  0.26352"
      ]
     },
     "execution_count": 67,
     "metadata": {},
     "output_type": "execute_result"
    }
   ],
   "source": [
    "out = sp_stacking_K_fold_MT(X, y, coords, deltasq_grid, phi_grid,\n",
    "    nu_grid, Priors, K_fold = K_fold, seed = 2, label = label, J = 1000);\n",
    "[out[:grid_all][(out[:w].>0.01), :] out[:w][(out[:w].>0.01)]]"
   ]
  },
  {
   "cell_type": "code",
   "execution_count": 68,
   "metadata": {},
   "outputs": [
    {
     "data": {
      "text/plain": [
       "4×4 Matrix{Float64}:\n",
       "  3.0  0.5   0.1  0.321005\n",
       " 21.0  1.75  0.1  0.0140497\n",
       "  3.0  0.5   0.5  0.58083\n",
       " 21.0  0.5   2.0  0.084115"
      ]
     },
     "execution_count": 68,
     "metadata": {},
     "output_type": "execute_result"
    }
   ],
   "source": [
    "out = sp_stacking_K_fold_MT(X, y, coords, deltasq_grid, phi_grid,\n",
    "    nu_grid, Priors, K_fold = K_fold, seed = 2, label = \"LSE\", J = 1000);\n",
    "[out[:grid_all][(out[:w].>0.01), :] out[:w][(out[:w].>0.01)]]"
   ]
  },
  {
   "cell_type": "code",
   "execution_count": null,
   "metadata": {},
   "outputs": [],
   "source": [
    "@benchmark sp_stacking_K_fold(X, y, coords, deltasq_grid, phi_grid,\n",
    "    nu_grid, Priors, K_fold = K_fold, seed = 3214, label = label)"
   ]
  },
  {
   "cell_type": "code",
   "execution_count": null,
   "metadata": {},
   "outputs": [],
   "source": [
    "@benchmark sp_stacking_K_fold_MT(X, y, coords, deltasq_grid, phi_grid,\n",
    "    nu_grid, Priors, K_fold = K_fold, seed = 3214, label = label)"
   ]
  },
  {
   "cell_type": "code",
   "execution_count": 48,
   "metadata": {},
   "outputs": [],
   "source": [
    "# pre-computation and pre-allocation #\n",
    "Random.seed!(3214);\n",
    "\n",
    "K_fold = 10;\n",
    "N = size(X, 2);\n",
    "CV_ind_ls = collect(Kfold(N, K_fold)); # index of train data in CV\n",
    "CV_ind_hold_ls = [setdiff(1:N, CV_ind_ls[k]) for k in 1:K_fold]; # index of held-out data in CV\n",
    "N_grid = length(deltasq_grid) * length(phi_grid) * length(nu_grid);\n",
    "nk_list = [length(x) for x in CV_ind_ls]; # be careful, different from the nk_list in my R code\n",
    "nk_k_list = [(N - x) for x in nk_list];   # This is the nk_list in my R code\n",
    "\n",
    "\n",
    "if X == Nothing()\n",
    "    p = 0;\n",
    "else\n",
    "    p = size(X, 1);\n",
    "    Priors[\"inv_V_μ_β\"] = Priors[\"inv_V_β\"] * Priors[\"μβ\"];\n",
    "    XTX = X * X'; XTy = X * y;\n",
    "    XTX_list = [XTX - X[:, CV_ind_hold_ls[k]] * X[:, CV_ind_hold_ls[k]]' for k in 1:K_fold];\n",
    "    XTy_list = [XTy - X[:, CV_ind_hold_ls[k]] * y[CV_ind_hold_ls[k]] for k in 1:K_fold];\n",
    "end\n",
    "\n",
    "if label == \"LSE\"\n",
    "    y_expect = Array{Float64, 2}(undef, N, N_grid);\n",
    "elseif label == \"LP\"\n",
    "    lp_expect = Array{Float64, 2}(undef, N, N_grid);\n",
    "    y_sq_sum_list = [norm(y[CV_ind_ls[k]])^2 for k in 1:K_fold];\n",
    "else \n",
    "    print(\"label has to be LSE or LP\");\n",
    "end\n",
    "\n",
    "grid_phi_nu = vcat([[x y] for x in phi_grid, y in nu_grid]...);\n",
    "grid_all = vcat([[x y z] for x in phi_grid, y in nu_grid, z in deltasq_grid]...);\n",
    "L_grid_deltasq  = length(deltasq_grid);"
   ]
  },
  {
   "cell_type": "code",
   "execution_count": 46,
   "metadata": {},
   "outputs": [
    {
     "name": "stderr",
     "output_type": "stream",
     "text": [
      "\u001b[32mComputing initial pass... 100%|██████████████████████████████████████████████████| Time: 0:00:09\u001b[39m\n"
     ]
    }
   ],
   "source": [
    "seed2 = 6; J = 300\n",
    "## Compute expectation for stacking ##\n",
    "prog = Progress(size(grid_phi_nu, 1), 1, \"Computing initial pass...\", 50)\n",
    "Threads.@threads for i1 in 1:size(grid_phi_nu, 1)\n",
    "    phi_pick = grid_phi_nu[i1, 1];\n",
    "    nu_pick = grid_phi_nu[i1, 2];\n",
    "    Threads.@threads for k in 1:K_fold\n",
    "        Random.seed!(seed2 + (i1 - 1) * K_fold + k);\n",
    "        if label == \"LSE\"\n",
    "            y_expect[CV_ind_hold_ls[k], \n",
    "                (i1 - 1) * L_grid_deltasq .+ (1:L_grid_deltasq)] = \n",
    "            stacking_prediction_LSE(coords, nu_pick, phi_pick, deltasq_grid, \n",
    "                L_grid_deltasq, k, CV_ind_ls, CV_ind_hold_ls, p, \n",
    "                nk_list, nk_k_list, y, X, XTX_list, XTy_list, Priors);\n",
    "        else\n",
    "            lp_expect[CV_ind_hold_ls[k], \n",
    "                (i1 - 1) * L_grid_deltasq .+ (1:L_grid_deltasq)] = \n",
    "            stacking_prediction_LP(coords, nu_pick, phi_pick, deltasq_grid, \n",
    "                L_grid_deltasq, k, CV_ind_ls, CV_ind_hold_ls, p, \n",
    "                nk_list, nk_k_list, y, X, XTX_list, XTy_list, \n",
    "                y_sq_sum_list, Priors, J);\n",
    "        end     \n",
    "    end\n",
    "    next!(prog)\n",
    "end"
   ]
  },
  {
   "cell_type": "code",
   "execution_count": 52,
   "metadata": {},
   "outputs": [
    {
     "data": {
      "text/plain": [
       "1×3 Matrix{Float64}:\n",
       " 2.5  3.5  4.5"
      ]
     },
     "execution_count": 52,
     "metadata": {},
     "output_type": "execute_result"
    }
   ],
   "source": [
    "mean([1 2 3; 4 5 6], dims = 1)"
   ]
  },
  {
   "cell_type": "code",
   "execution_count": 45,
   "metadata": {},
   "outputs": [
    {
     "name": "stdout",
     "output_type": "stream",
     "text": [
      "MOSEK warning 705: #1 (nearly) zero elements are specified in sparse row ''(383) of matrix 'A'.\n"
     ]
    },
    {
     "name": "stderr",
     "output_type": "stream",
     "text": [
      "┌ Warning: Problem status SLOW_PROGRESS; solution may be inaccurate.\n",
      "└ @ Convex /home/luzhang/.julia/packages/Convex/uI27T/src/solution.jl:263\n"
     ]
    },
    {
     "data": {
      "text/plain": [
       "8×8 Matrix{Float64}:\n",
       " -0.0  -0.0   0.017  0.0    -0.0  -0.0   -0.0    -0.0\n",
       "  0.0  -0.0  -0.0    0.0    -0.0   0.0   -0.0     0.0\n",
       "  0.0  -0.0  -0.0    0.0    -0.0   0.63  -0.0     0.0\n",
       " -0.0   0.0  -0.0    0.0    -0.0   0.0   -0.0     0.0\n",
       " -0.0  -0.0  -0.0    0.127   0.0   0.0    0.0    -0.0\n",
       " -0.0  -0.0   0.0    0.0     0.0   0.0    0.226   0.0\n",
       "  0.0  -0.0   0.0    0.0     0.0   0.0   -0.0     0.0\n",
       "  0.0   0.0   0.0    0.0    -0.0   0.0   -0.0     0.0"
      ]
     },
     "execution_count": 45,
     "metadata": {},
     "output_type": "execute_result"
    }
   ],
   "source": [
    "if label == \"LSE\"\n",
    "    w = QP_stacking_weight(y_expect, y);\n",
    "else\n",
    "    w = stacking_weight(lp_expect);\n",
    "end\n",
    "round.(reshape(w, 8, 8), digits = 3)"
   ]
  },
  {
   "cell_type": "code",
   "execution_count": 47,
   "metadata": {},
   "outputs": [
    {
     "name": "stdout",
     "output_type": "stream",
     "text": [
      "MOSEK warning 705: #1 (nearly) zero elements are specified in sparse row ''(383) of matrix 'A'.\n"
     ]
    },
    {
     "data": {
      "text/plain": [
       "8×8 Matrix{Float64}:\n",
       " -0.0  -0.0   0.0  -0.0     0.0    -0.0   -0.0    -0.0\n",
       "  0.0  -0.0  -0.0   0.0    -0.0     0.0   -0.0     0.0\n",
       " -0.0  -0.0  -0.0   0.0    -0.0     0.0   -0.0     0.0\n",
       " -0.0   0.0  -0.0   0.0    -0.0     0.0   -0.0     0.0\n",
       " -0.0  -0.0  -0.0   0.108  -0.0     0.0    0.0    -0.0\n",
       " -0.0  -0.0   0.0   0.0     0.313   0.0    0.218   0.0\n",
       " -0.0  -0.0   0.0   0.0     0.0     0.36   0.0     0.0\n",
       "  0.0  -0.0   0.0   0.0    -0.0     0.0   -0.0     0.0"
      ]
     },
     "execution_count": 47,
     "metadata": {},
     "output_type": "execute_result"
    }
   ],
   "source": [
    "if label == \"LSE\"\n",
    "    w = QP_stacking_weight(y_expect, y);\n",
    "else\n",
    "    w = stacking_weight(lp_expect);\n",
    "end\n",
    "round.(reshape(w, 8, 8), digits = 3)"
   ]
  },
  {
   "cell_type": "code",
   "execution_count": 14,
   "metadata": {},
   "outputs": [
    {
     "data": {
      "text/plain": [
       "8"
      ]
     },
     "execution_count": 14,
     "metadata": {},
     "output_type": "execute_result"
    }
   ],
   "source": [
    "Threads.nthreads()"
   ]
  }
 ],
 "metadata": {
  "kernelspec": {
   "display_name": "Julia (8 threads) 1.6.5",
   "language": "julia",
   "name": "julia-(8-threads)-1.6"
  },
  "language_info": {
   "file_extension": ".jl",
   "mimetype": "application/julia",
   "name": "julia",
   "version": "1.6.5"
  }
 },
 "nbformat": 4,
 "nbformat_minor": 4
}
