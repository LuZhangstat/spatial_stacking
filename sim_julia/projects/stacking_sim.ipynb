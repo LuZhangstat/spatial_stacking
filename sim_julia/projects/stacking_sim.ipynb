{
 "cells": [
  {
   "cell_type": "markdown",
   "metadata": {},
   "source": [
    "## Julia code for simulation"
   ]
  },
  {
   "cell_type": "code",
   "execution_count": 290,
   "metadata": {},
   "outputs": [],
   "source": [
    "## necessary packages\n",
    "\n",
    "using Distributions\n",
    "using Distances\n",
    "using LinearAlgebra\n",
    "using SparseArrays\n",
    "using IterativeSolvers\n",
    "using ProgressMeter\n",
    "using JLD2\n",
    "using Random\n",
    "using SpecialFunctions # Matern functions\n",
    "using MLBase         #cross-validation  "
   ]
  },
  {
   "cell_type": "code",
   "execution_count": 291,
   "metadata": {},
   "outputs": [
    {
     "data": {
      "text/plain": [
       "square_and_plus! (generic function with 1 method)"
      ]
     },
     "execution_count": 291,
     "metadata": {},
     "output_type": "execute_result"
    }
   ],
   "source": [
    "include(\"./utils.jl\")"
   ]
  },
  {
   "cell_type": "code",
   "execution_count": 292,
   "metadata": {},
   "outputs": [],
   "source": [
    "# Set the parameters of the simulated data #\n",
    "p = 2;      # No. covariates\n",
    "β = [1.0 2.0]; #regression coeff\n",
    "σ2 = 1.0; ϕ = 7.0; ν = 1.0; τ2 = 1.0; # hyperparmeters in matern"
   ]
  },
  {
   "cell_type": "code",
   "execution_count": 293,
   "metadata": {},
   "outputs": [],
   "source": [
    "## Generate simulation data ##\n",
    "Random.seed!(1);\n",
    "N = 400;                     # No. all positions\n",
    "N_ho = 100;                  # No. held out positions\n",
    "ind_mod = 1:(N - N_ho);      # index of training observations\n",
    "coords = rand(2, N);         # random location over unit square (2 by N)\n",
    "X = vcat(fill(1.0, (1, N)), rand(Normal(), (1, N)));          # design matrix (p by N)\n",
    "D = pairwise(Euclidean(), coords, dims = 2);                  # distance matrix\n",
    "Cov = Symmetric(Maternlu.(UpperTriangular(D), \n",
    "        ν = ν, ϕ = ϕ, σ2 = σ2))                               # covariance matrix\n",
    "z = rand(MvNormal(Cov), 1);                                   # latent process\n",
    "y = (β * X)[1,:] + z[:,1] + sqrt(τ2) * rand(Normal(), N);     # response"
   ]
  },
  {
   "cell_type": "code",
   "execution_count": 294,
   "metadata": {},
   "outputs": [],
   "source": [
    "using BenchmarkTools"
   ]
  },
  {
   "cell_type": "code",
   "execution_count": 295,
   "metadata": {},
   "outputs": [],
   "source": [
    "## candidate values of hyperparameters for stacking ##\n",
    "deltasq_grid = [0.1, 0.5, 1, 2];\n",
    "phi_grid = [3, 9, 15, 21];\n",
    "nu_grid = [0.5, 1, 1.5, 1.75];"
   ]
  },
  {
   "cell_type": "code",
   "execution_count": 296,
   "metadata": {},
   "outputs": [],
   "source": [
    "## priors parameters ##\n",
    "\n",
    "μβ = fill(0.0, p); inv_V_β = Diagonal(ones(p) * 0.25); # set Vr^{-1} be zero for the simulation...\n",
    "aσ = 2.0; bσ = 2.0;"
   ]
  },
  {
   "cell_type": "code",
   "execution_count": 297,
   "metadata": {},
   "outputs": [],
   "source": [
    "label = \"LSE\"; #stacking of means"
   ]
  },
  {
   "cell_type": "code",
   "execution_count": 298,
   "metadata": {},
   "outputs": [],
   "source": [
    "label = \"LP\";  #stacking of predictive densities\n",
    "J = 300;       # sample size for computing posterior expectation"
   ]
  },
  {
   "cell_type": "code",
   "execution_count": 299,
   "metadata": {},
   "outputs": [],
   "source": [
    "# pre-computation and pre-allocation #\n",
    "K_fold = 10;\n",
    "N = size(X, 2);\n",
    "CV_ind_ls = collect(Kfold(N, K_fold)); # index of train data in CV\n",
    "CV_ind_hold_ls = [setdiff(1:N, CV_ind_ls[k]) for k in 1:K_fold]; # index of held-out data in CV\n",
    "N_grid = length(deltasq_grid) * length(phi_grid) * length(nu_grid);\n",
    "nk_list = [length(x) for x in CV_ind_ls]; # be careful, different from the nk_list in my R code\n",
    "\n",
    "if X == Nothing()\n",
    "    p = 0;\n",
    "else\n",
    "    p = size(X, 1);\n",
    "    inv_V_μ_β = inv_V_β * μβ;\n",
    "    XTX = X * X'; XTy = X * y;\n",
    "    XTX_list = [XTX - X[:, CV_ind_hold_ls[k]] * X[:, CV_ind_hold_ls[k]]' for k in 1:K_fold];\n",
    "    XTy_list = [XTy - X[:, CV_ind_hold_ls[k]] * y[CV_ind_hold_ls[k]] for k in 1:K_fold];\n",
    "end\n",
    "\n",
    "if label == \"LSE\"\n",
    "    y_expect = Array{Float64, 2}(undef, N, N_grid);\n",
    "elseif label == \"LP\"\n",
    "    lp_expect = Array{Float64, 2}(undef, N, N_grid);\n",
    "    y_sq_sum_list = [norm(y[CV_ind_ls[k]])^2 for k in 1:K_fold];\n",
    "else \n",
    "    print(\"label has to be LSE or LP\");\n",
    "end\n",
    "\n",
    "grid_phi_nu = vcat([[x y] for x in phi_grid, y in nu_grid]...);\n",
    "grid_all = vcat([[x y z] for x in phi_grid, y in nu_grid, z in deltasq_grid]...);\n",
    "L_grid_deltasq  = length(deltasq_grid);"
   ]
  },
  {
   "cell_type": "code",
   "execution_count": 300,
   "metadata": {},
   "outputs": [],
   "source": [
    "k = 1;\n",
    "i1 = 1;\n",
    "i2 = 1;\n",
    "phi_pick = grid_phi_nu[i1, 1];\n",
    "nu_pick = grid_phi_nu[i1, 2];\n",
    "deltasq_pick = deltasq_grid[i2];"
   ]
  },
  {
   "cell_type": "code",
   "execution_count": 301,
   "metadata": {},
   "outputs": [],
   "source": [
    "invR_nk = inv(cholesky(Symmetric(Maternlu.(\n",
    "                UpperTriangular(pairwise(Euclidean(), coords[:, CV_ind_ls[k]], dims = 2)), \n",
    "                ν = nu_pick, ϕ = phi_pick))));\n",
    "R_k_nk = Maternlu.(pairwise(Euclidean(), coords[:, CV_ind_hold_ls[k]], \n",
    "                coords[:, CV_ind_ls[k]], dims = 2), ν = nu_pick, ϕ = phi_pick);\n",
    "chol_inv_M = cholesky(Symmetric(vcat(\n",
    "                            hcat(XTX_list[k] / deltasq_pick + inv_V_β, X[:, CV_ind_ls[k]] / deltasq_pick),\n",
    "                            hcat(zeros(nk_list[k], p), \n",
    "                                invR_nk + Diagonal(repeat([1 / deltasq_pick], nk_list[k])))), :U));\n",
    "u = [inv_V_μ_β + XTy_list[k] / deltasq_pick; y[CV_ind_ls[k]] /  deltasq_pick];\n",
    "ldiv!(chol_inv_M.U', u);\n",
    "b_star = bσ + 0.5 * (y_sq_sum_list[k] / deltasq_pick + \n",
    "    dot(μβ, inv_V_μ_β) - norm(u)^2);\n",
    "a_star = aσ + nk_list[k] / 2;\n",
    "σ2_sam = rand(InverseGamma(a_star, b_star), J);\n",
    "γ_sam = rand(Normal(), (J, (nk_list[k] + p)));  \n",
    "lmul!(Diagonal(sqrt.(σ2_sam)), γ_sam);\n",
    "add_to_row!(γ_sam, u); # γ_sam = γ_sam + u * ones(1,J)\n",
    "rdiv!(γ_sam, chol_inv_M.U); #γ_sam = backsolve(chol_inv_M, gamma.sam)\n",
    "M_r = γ_sam[:, (1:p)] * X[:, CV_ind_hold_ls[k]] + \n",
    "                          γ_sam[:, (p+1):end] * (invR_nk * R_k_nk');\n",
    "minus_to_row!(M_r, y[CV_ind_hold_ls[k]]);\n",
    "                lmul!(Diagonal(sqrt.(1 / (deltasq_pick * σ2_sam))), M_r);\n",
    "                square_and_plus!(M_r, log(2*pi));\n",
    "                add_to_column!(M_r, log.(deltasq_pick * σ2_sam));\n",
    "                M_r .*= -0.5;\n",
    "                lp_expect[CV_ind_hold_ls[k], (i1 - 1) * L_grid_deltasq + i2] = log.(mean(exp.(M_r), dims = 1))[1,:];"
   ]
  },
  {
   "cell_type": "code",
   "execution_count": 153,
   "metadata": {},
   "outputs": [],
   "source": [
    "for i1 in 1:size(grid_phi_nu, 1)\n",
    "    phi_pick = grid_phi_nu[i1, 1];\n",
    "    nu_pick = grid_phi_nu[i1, 2];\n",
    "    for k in 1:K_fold\n",
    "        invR_nk = inv(cholesky(Symmetric(Maternlu.(\n",
    "                UpperTriangular(pairwise(Euclidean(), coords[:, CV_ind_ls[k]], dims = 2)), \n",
    "                ν = nu_pick, ϕ = phi_pick))));\n",
    "        R_k_nk = Maternlu.(pairwise(Euclidean(), coords[:, CV_ind_hold_ls[k]], \n",
    "                coords[:, CV_ind_ls[k]], dims = 2), ν = nu_pick, ϕ = phi_pick);\n",
    "        for i2 in 1:L_grid_deltasq\n",
    "            deltasq_pick = deltasq_grid[i2];\n",
    "            if p == 0\n",
    "                chol_inv_M = cholesky(invR_nk + Diagonal(repeat([1 / deltasq_pick], nk_list[k]))); \n",
    "                u = y[CV_ind_ls[k]] /  deltasq_pick;\n",
    "            else\n",
    "                chol_inv_M = cholesky(Symmetric(vcat(\n",
    "                            hcat(XTX_list[k] / deltasq_pick + inv_V_β, X[:, CV_ind_ls[k]] / deltasq_pick),\n",
    "                            hcat(zeros(nk_list[k], p), \n",
    "                                invR_nk + Diagonal(repeat([1 / deltasq_pick], nk_list[k])))), :U));\n",
    "                u = [inv_V_μ_β + XTy_list[k] / deltasq_pick; y[CV_ind_ls[k]] /  deltasq_pick];\n",
    "            end\n",
    "            \n",
    "            ldiv!(chol_inv_M.U', u);  # u2 = chol_inv_M.L \\ u;\n",
    "            \n",
    "            if label == \"LSE\"\n",
    "                ## Stacking based on expectation\n",
    "                # compute expectation of response in fold k\n",
    "                ldiv!(chol_inv_M.U, u); # compute the posterior expectation of β and z u3 = chol_inv_M.L' \\ u2;\n",
    "                \n",
    "                if p == 0\n",
    "                    #z_U_expect = R_k_nk * (invR_nk * u);\n",
    "                    y_expect[CV_ind_hold_ls[k], (i1 - 1) * L_grid_deltasq + i2] = \n",
    "                        (R_k_nk * invR_nk) * u;\n",
    "                else\n",
    "                    #z_U_expect = R_k_nk * (invR_nk * u[(p + 1):end]);\n",
    "                    y_expect[CV_ind_hold_ls[k], (i1 - 1) * L_grid_deltasq + i2] = \n",
    "                        (X[:, CV_ind_hold_ls[k]]' * u[1:p]) + (R_k_nk * invR_nk) * u[(p + 1):end];\n",
    "                end\n",
    "            else\n",
    "                ## Stacking based on log point-wise predictive density\n",
    "                if p == 0\n",
    "                    b_star = bσ + 0.5 * (y_sq_sum_list[k] / deltasq_pick - norm(u)^2);\n",
    "                else\n",
    "                    b_star = bσ + 0.5 * (y_sq_sum_list[k] / deltasq_pick + \n",
    "                        dot(μβ, inv_V_μ_β) - norm(u)^2);\n",
    "                end\n",
    "                a_star = aσ + nk_list[k] / 2;\n",
    "                \n",
    "                ## generate posterior samples ##\n",
    "                σ2_sam = rand(InverseGamma(a_star, b_star), J);\n",
    "                \n",
    "                ## compute the expected response on unobserved locations ##\n",
    "                γ_sam = rand(Normal(), (J, (nk_list[k] + p)));   # each row is a sample\n",
    "                lmul!(Diagonal(sqrt.(σ2_sam)), γ_sam);\n",
    "                add_to_row!(γ_sam, u);          \n",
    "                rdiv!(γ_sam, chol_inv_M.U');            # γ_sam' = backsolve(chol_inv_M, gamma.sam)\n",
    "                \n",
    "                # M_r the matrix of log ratios (lp), first, store the expected responses on the held out fold\n",
    "                if p == 0\n",
    "                    M_r = γ_sam * (invR_nk * R_k_nk');\n",
    "                else\n",
    "                    M_r = γ_sam[:, (1:p)] * X[:, CV_ind_hold_ls[k]] + \n",
    "                          γ_sam[:, (p+1):end] * (invR_nk * R_k_nk');\n",
    "                end\n",
    "                \n",
    "                # the matrix of log ratios (lp)\n",
    "                minus_to_row!(M_r, y[CV_ind_hold_ls[k]]);\n",
    "                lmul!(Diagonal(sqrt.(1 / (deltasq_pick * σ2_sam))), M_r);\n",
    "                square_and_plus!(M_r, log(2*pi));\n",
    "                add_to_column!(M_r, log.(deltasq_pick * σ2_sam));\n",
    "                M_r .*= -0.5;\n",
    "                lp_expect[CV_ind_hold_ls[k], (i1 - 1) * L_grid_deltasq + i2] = log.(mean(exp.(M_r), dims = 1))[1,:];\n",
    "            end          \n",
    "        end\n",
    "    end\n",
    "end"
   ]
  },
  {
   "cell_type": "code",
   "execution_count": 20,
   "metadata": {},
   "outputs": [],
   "source": [
    "using Traceur"
   ]
  },
  {
   "cell_type": "code",
   "execution_count": null,
   "metadata": {},
   "outputs": [],
   "source": []
  }
 ],
 "metadata": {
  "kernelspec": {
   "display_name": "Julia 1.6.5",
   "language": "julia",
   "name": "julia-1.6"
  },
  "language_info": {
   "file_extension": ".jl",
   "mimetype": "application/julia",
   "name": "julia",
   "version": "1.6.5"
  }
 },
 "nbformat": 4,
 "nbformat_minor": 4
}
