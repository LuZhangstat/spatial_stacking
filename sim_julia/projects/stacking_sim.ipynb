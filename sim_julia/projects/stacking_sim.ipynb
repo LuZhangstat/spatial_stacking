{
 "cells": [
  {
   "cell_type": "markdown",
   "metadata": {},
   "source": [
    "## Julia code for simulation"
   ]
  },
  {
   "cell_type": "code",
   "execution_count": 1,
   "metadata": {},
   "outputs": [],
   "source": [
    "## necessary packages\n",
    "\n",
    "using Distributions\n",
    "using Distances\n",
    "using LinearAlgebra\n",
    "using SparseArrays\n",
    "using IterativeSolvers\n",
    "using ProgressMeter\n",
    "using JLD2\n",
    "using Random\n",
    "using SpecialFunctions # Matern functions\n",
    "using MLBase         # cross-validation \n",
    "using Convex         # compute stacking weights\n",
    "using MosekTools     # compute stacking weights"
   ]
  },
  {
   "cell_type": "code",
   "execution_count": 13,
   "metadata": {},
   "outputs": [
    {
     "data": {
      "text/plain": [
       "QP_stacking_weight (generic function with 1 method)"
      ]
     },
     "execution_count": 13,
     "metadata": {},
     "output_type": "execute_result"
    }
   ],
   "source": [
    "include(\"./utils.jl\")"
   ]
  },
  {
   "cell_type": "code",
   "execution_count": 3,
   "metadata": {},
   "outputs": [],
   "source": [
    "# Set the parameters of the simulated data #\n",
    "p = 2;      # No. covariates\n",
    "β = [1.0 2.0]; #regression coeff\n",
    "σ2 = 1.0; ϕ = 7.0; ν = 1.0; τ2 = 1.0; # hyperparmeters in matern"
   ]
  },
  {
   "cell_type": "code",
   "execution_count": 4,
   "metadata": {},
   "outputs": [],
   "source": [
    "## Generate simulation data ##\n",
    "Random.seed!(1);\n",
    "N = 400;                     # No. all positions\n",
    "N_ho = 100;                  # No. held out positions\n",
    "ind_mod = 1:(N - N_ho);      # index of training observations\n",
    "coords = rand(2, N);         # random location over unit square (2 by N)\n",
    "X = vcat(fill(1.0, (1, N)), rand(Normal(), (1, N)));          # design matrix (p by N)\n",
    "D = pairwise(Euclidean(), coords, dims = 2);                  # distance matrix\n",
    "Cov = Symmetric(Maternlu.(UpperTriangular(D), \n",
    "        ν = ν, ϕ = ϕ, σ2 = σ2))                               # covariance matrix\n",
    "z = rand(MvNormal(Cov), 1);                                   # latent process\n",
    "y = (β * X)[1,:] + z[:,1] + sqrt(τ2) * rand(Normal(), N);     # response"
   ]
  },
  {
   "cell_type": "code",
   "execution_count": 5,
   "metadata": {},
   "outputs": [],
   "source": [
    "using BenchmarkTools"
   ]
  },
  {
   "cell_type": "code",
   "execution_count": 6,
   "metadata": {},
   "outputs": [],
   "source": [
    "## candidate values of hyperparameters for stacking ##\n",
    "deltasq_grid = [0.1, 0.5, 1, 2];\n",
    "phi_grid = [3, 9, 15, 21];\n",
    "nu_grid = [0.5, 1, 1.5, 1.75];"
   ]
  },
  {
   "cell_type": "code",
   "execution_count": 7,
   "metadata": {},
   "outputs": [],
   "source": [
    "## priors parameters ##\n",
    "\n",
    "μβ = fill(0.0, p); inv_V_β = Diagonal(ones(p) * 0.25); # set Vr^{-1} be zero for the simulation...\n",
    "aσ = 2.0; bσ = 2.0;"
   ]
  },
  {
   "cell_type": "code",
   "execution_count": 8,
   "metadata": {},
   "outputs": [],
   "source": [
    "label = \"LSE\"; #stacking of means\n",
    "J = 300;"
   ]
  },
  {
   "cell_type": "code",
   "execution_count": 9,
   "metadata": {},
   "outputs": [],
   "source": [
    "label = \"LP\";  #stacking of predictive densities\n",
    "J = 300;       # sample size for computing posterior expectation"
   ]
  },
  {
   "cell_type": "code",
   "execution_count": 9,
   "metadata": {},
   "outputs": [],
   "source": [
    "# pre-computation and pre-allocation #\n",
    "K_fold = 10;\n",
    "N = size(X, 2);\n",
    "CV_ind_ls = collect(Kfold(N, K_fold)); # index of train data in CV\n",
    "CV_ind_hold_ls = [setdiff(1:N, CV_ind_ls[k]) for k in 1:K_fold]; # index of held-out data in CV\n",
    "N_grid = length(deltasq_grid) * length(phi_grid) * length(nu_grid);\n",
    "nk_list = [length(x) for x in CV_ind_ls]; # be careful, different from the nk_list in my R code\n",
    "nk_k_list = [(N - x) for x in nk_list];   # This is the nk_list in my R code\n",
    "\n",
    "\n",
    "if X == Nothing()\n",
    "    p = 0;\n",
    "else\n",
    "    p = size(X, 1);\n",
    "    inv_V_μ_β = inv_V_β * μβ;\n",
    "    XTX = X * X'; XTy = X * y;\n",
    "    XTX_list = [XTX - X[:, CV_ind_hold_ls[k]] * X[:, CV_ind_hold_ls[k]]' for k in 1:K_fold];\n",
    "    XTy_list = [XTy - X[:, CV_ind_hold_ls[k]] * y[CV_ind_hold_ls[k]] for k in 1:K_fold];\n",
    "end\n",
    "\n",
    "if label == \"LSE\"\n",
    "    y_expect = Array{Float64, 2}(undef, N, N_grid);\n",
    "elseif label == \"LP\"\n",
    "    lp_expect = Array{Float64, 2}(undef, N, N_grid);\n",
    "    y_sq_sum_list = [norm(y[CV_ind_ls[k]])^2 for k in 1:K_fold];\n",
    "else \n",
    "    print(\"label has to be LSE or LP\");\n",
    "end\n",
    "\n",
    "grid_phi_nu = vcat([[x y] for x in phi_grid, y in nu_grid]...);\n",
    "grid_all = vcat([[x y z] for x in phi_grid, y in nu_grid, z in deltasq_grid]...);\n",
    "L_grid_deltasq  = length(deltasq_grid);"
   ]
  },
  {
   "cell_type": "code",
   "execution_count": 10,
   "metadata": {},
   "outputs": [
    {
     "name": "stderr",
     "output_type": "stream",
     "text": [
      "\u001b[32mComputing initial pass... 100%|██████████████████████████████████████████████████| Time: 0:00:08\u001b[39m\n"
     ]
    }
   ],
   "source": [
    "## Compute expectation for stacking ##\n",
    "prog = Progress(size(grid_phi_nu, 1), 1, \"Computing initial pass...\", 50)\n",
    "for i1 in 1:size(grid_phi_nu, 1)\n",
    "    phi_pick = grid_phi_nu[i1, 1];\n",
    "    nu_pick = grid_phi_nu[i1, 2];\n",
    "    for k in 1:K_fold\n",
    "        if label == \"LSE\"\n",
    "            y_expect[CV_ind_hold_ls[k], \n",
    "                (i1 - 1) * L_grid_deltasq .+ (1:L_grid_deltasq)] = \n",
    "            stacking_prediction_LSE(coords, nu_pick, phi_pick, deltasq_grid, \n",
    "                L_grid_deltasq, k, CV_ind_ls, CV_ind_hold_ls, p, \n",
    "                nk_list, nk_k_list, y, X, XTX, XTy, inv_V_β, inv_V_μ_β);\n",
    "        else\n",
    "            lp_expect[CV_ind_hold_ls[k], \n",
    "                (i1 - 1) * L_grid_deltasq .+ (1:L_grid_deltasq)] = \n",
    "            stacking_prediction_LP(coords, nu_pick, phi_pick, deltasq_grid, \n",
    "                L_grid_deltasq, k, CV_ind_ls, CV_ind_hold_ls, p, \n",
    "                nk_list, nk_k_list, y, X, XTX, XTy, inv_V_β, inv_V_μ_β, J);\n",
    "        end     \n",
    "    end\n",
    "    next!(prog)\n",
    "end"
   ]
  },
  {
   "cell_type": "code",
   "execution_count": 11,
   "metadata": {},
   "outputs": [],
   "source": [
    "Y_hat = y_expect\n",
    "w = Variable(size(Y_hat, 2));\n",
    "problem = minimize(sumsquares(y - Y_hat * w)); # objective\n",
    "problem.constraints += sum(w) == 1; # constraint\n",
    "problem.constraints += w >= 0; # constraint\n",
    "solver = () -> Mosek.Optimizer(LOG=0)\n",
    "solve!(problem, solver);"
   ]
  },
  {
   "cell_type": "code",
   "execution_count": 12,
   "metadata": {},
   "outputs": [],
   "source": [
    "using JuMP"
   ]
  },
  {
   "cell_type": "code",
   "execution_count": 29,
   "metadata": {},
   "outputs": [
    {
     "ename": "LoadError",
     "evalue": "MethodError: no method matching set_optimizer_attribute(::Problem{Float64}, ::String, ::Int64)\n\u001b[0mClosest candidates are:\n\u001b[0m  set_optimizer_attribute(\u001b[91m::JuMP.Model\u001b[39m, ::String, ::Any) at /home/luzhang/.julia/packages/JuMP/qhoVb/src/JuMP.jl:520\n\u001b[0m  set_optimizer_attribute(\u001b[91m::JuMP.Model\u001b[39m, \u001b[91m::MathOptInterface.AbstractOptimizerAttribute\u001b[39m, ::Any) at /home/luzhang/.julia/packages/JuMP/qhoVb/src/JuMP.jl:539",
     "output_type": "error",
     "traceback": [
      "MethodError: no method matching set_optimizer_attribute(::Problem{Float64}, ::String, ::Int64)\n\u001b[0mClosest candidates are:\n\u001b[0m  set_optimizer_attribute(\u001b[91m::JuMP.Model\u001b[39m, ::String, ::Any) at /home/luzhang/.julia/packages/JuMP/qhoVb/src/JuMP.jl:520\n\u001b[0m  set_optimizer_attribute(\u001b[91m::JuMP.Model\u001b[39m, \u001b[91m::MathOptInterface.AbstractOptimizerAttribute\u001b[39m, ::Any) at /home/luzhang/.julia/packages/JuMP/qhoVb/src/JuMP.jl:539",
      "",
      "Stacktrace:",
      " [1] top-level scope",
      "   @ In[29]:1",
      " [2] eval",
      "   @ ./boot.jl:360 [inlined]",
      " [3] include_string(mapexpr::typeof(REPL.softscope), mod::Module, code::String, filename::String)",
      "   @ Base ./loading.jl:1116"
     ]
    }
   ],
   "source": [
    "JuMP.set_optimizer_attribute(problem, \"LOG\", 0)"
   ]
  },
  {
   "cell_type": "code",
   "execution_count": 14,
   "metadata": {},
   "outputs": [
    {
     "data": {
      "text/plain": [
       "64-element Vector{Float64}:\n",
       " 0.1923139966535965\n",
       " 2.1750356426187777e-10\n",
       " 9.629650007687205e-11\n",
       " 7.320070967043496e-11\n",
       " 9.557948058335144e-11\n",
       " 2.364094963361911e-10\n",
       " 1.358841366400217e-10\n",
       " 8.721748925144789e-11\n",
       " 8.950105961937599e-11\n",
       " 2.5025145968577955e-10\n",
       " 2.037219458124299e-10\n",
       " 1.49281785410059e-10\n",
       " 1.5485181342624226e-10\n",
       " ⋮\n",
       " 8.990195528408178e-11\n",
       " 1.2693498076100255e-10\n",
       " 7.964146055092772e-11\n",
       " 5.898542955874088e-11\n",
       " 3.8448006172702174e-11\n",
       " 5.872672521260226e-11\n",
       " 5.833545425457044e-11\n",
       " 5.2614328787985154e-11\n",
       " 3.01292958560079e-11\n",
       " 5.6607955882581216e-11\n",
       " 5.648591162893639e-11\n",
       " 5.3999545453349767e-11"
      ]
     },
     "execution_count": 14,
     "metadata": {},
     "output_type": "execute_result"
    }
   ],
   "source": [
    "if label == \"LSE\"\n",
    "    w = QP_stacking_weight(y_expect, y);\n",
    "else\n",
    "    \n",
    "end"
   ]
  },
  {
   "cell_type": "code",
   "execution_count": null,
   "metadata": {},
   "outputs": [],
   "source": []
  }
 ],
 "metadata": {
  "kernelspec": {
   "display_name": "Julia 1.6.5",
   "language": "julia",
   "name": "julia-1.6"
  },
  "language_info": {
   "file_extension": ".jl",
   "mimetype": "application/julia",
   "name": "julia",
   "version": "1.6.5"
  }
 },
 "nbformat": 4,
 "nbformat_minor": 4
}
