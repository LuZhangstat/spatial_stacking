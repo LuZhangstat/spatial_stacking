{
 "cells": [
  {
   "cell_type": "code",
   "execution_count": 2,
   "id": "58fb485a",
   "metadata": {},
   "outputs": [
    {
     "data": {
      "text/plain": [
       "sp_stacking_K_fold_V2 (generic function with 1 method)"
      ]
     },
     "execution_count": 2,
     "metadata": {},
     "output_type": "execute_result"
    }
   ],
   "source": [
    "## necessary packages\n",
    "\n",
    "using Distributions\n",
    "using Distances\n",
    "using LinearAlgebra\n",
    "using SparseArrays\n",
    "using IterativeSolvers\n",
    "using ProgressMeter\n",
    "using JLD2\n",
    "using Random\n",
    "using SpecialFunctions # Matern functions\n",
    "using MLBase         # cross-validation \n",
    "using Convex         # compute stacking weights\n",
    "using MosekTools     # compute stacking weights\n",
    "using RCall\n",
    "include(\"./utils.jl\")"
   ]
  },
  {
   "cell_type": "code",
   "execution_count": 3,
   "id": "0e267eb7",
   "metadata": {},
   "outputs": [],
   "source": [
    "# Set the parameters of the simulated data #\n",
    "N_ls = [200, 300, 400, 500, 600, 700, 800, 900];\n",
    "N_ho = 100;\n",
    "seed = 1;\n",
    "time_compar = Array{Float64, 3}(undef, length(N_ls), 3, 4);"
   ]
  },
  {
   "cell_type": "code",
   "execution_count": 4,
   "id": "a0bece1c",
   "metadata": {},
   "outputs": [],
   "source": [
    "## candidate values of hyperparameters for stacking ##\n",
    "p = 2\n",
    "deltasq_grid = fill(1.0, 4); \n",
    "phi_grid = [3, 14, 25, 36];\n",
    "nu_grid = [0.5, 1, 1.5, 1.75];\n",
    "## priors parameters ##\n",
    "Priors = Dict(\"μβ\" => fill(0.0, p), \"inv_V_β\" => Diagonal(ones(p) * 0.25), \n",
    "    \"aσ\" => 2.0, \"bσ\" => 2.0);\n",
    "K_fold = 10;"
   ]
  },
  {
   "cell_type": "code",
   "execution_count": null,
   "id": "b15979f3",
   "metadata": {},
   "outputs": [],
   "source": [
    "for sim_id in 1:4\n",
    "    print(\"\\n\", \"simulation: \", sim_id, \"\\n\");\n",
    "    if sim_id == 1\n",
    "        global p = 2;\n",
    "        global β = [1.0 2.0]; #regression coeff\n",
    "        global σ2 = 1.0; ϕ = 7.0; ν = 1.0; τ2 = 1.0; # hyperparmeters in matern\n",
    "    elseif sim_id == 2\n",
    "        global p = 2\n",
    "        global β = [1.0 2.0]; #regression coeff\n",
    "        global σ2 = 1.0; ϕ = 20.0; ν = 0.5; τ2 = 0.3; # hyperparmeters in matern\n",
    "    elseif sim_id == 3 \n",
    "        global p = 2\n",
    "        global β = [1.0 2.0]; #regression coeff\n",
    "        global σ2 = 1.0; ϕ = 2.0; ν = 0.5; τ2 = 0.3; # hyperparmeters in matern\n",
    "    else\n",
    "        global p = 2;\n",
    "        global β = [1.0 2.0]; #regression coeff\n",
    "        global σ2 = 1.0; ϕ = 2.0; ν = 1.0; τ2 = 1.0; # hyperparmeters in matern\n",
    "    end\n",
    "    deltasq_grid = pick_deltasq(σ2, τ2; b = max(σ2, τ2), p_ls = [0.05, 0.35, 0.65, 0.95])\n",
    "    for i in 1:length(N_ls)\n",
    "        print(\"dataset: \", i, \"\\n\")\n",
    "        \n",
    "        # generate simulation data #\n",
    "        \n",
    "        Random.seed!(i);\n",
    "        N = N_ls[i];             # No. all positions\n",
    "        ind_mod = 1:(N - N_ho);      # index of training observations\n",
    "        coords = rand(2, N);         # random location over unit square (2 by N)\n",
    "        X = vcat(fill(1.0, (1, N)), rand(Normal(), (1, N)));          # design matrix (p by N)\n",
    "        D = pairwise(Euclidean(), coords, dims = 2);                  # distance matrix\n",
    "        Cov = Symmetric(Maternlu.(UpperTriangular(D), \n",
    "                ν = ν, ϕ = ϕ, σ2 = σ2))                               # covariance matrix\n",
    "        z = rand(MvNormal(Cov), 1);                                   # latent process\n",
    "        y = (β * X)[1,:] + z[:,1] + sqrt(τ2) * rand(Normal(), N);     # response\n",
    "\n",
    "        ## fit stacking ##\n",
    "        # need to compile the function first to obtain precise time estimation #\n",
    "        if sim_id == 1 & i == 1 \n",
    "            time_compar[i, 1, sim_id] = @elapsed sp_stacking_K_fold_V2(X[:, ind_mod], y[ind_mod], coords[:, ind_mod], \n",
    "                deltasq_grid, phi_grid, nu_grid, Priors, K_fold = K_fold, \n",
    "                seed = seed, label = \"LSE\");\n",
    "            time_compar[i, 2, sim_id] = @elapsed sp_stacking_K_fold_V2(X[:, ind_mod], y[ind_mod], coords[:, ind_mod], \n",
    "                deltasq_grid, phi_grid, nu_grid, Priors, K_fold = K_fold, \n",
    "                seed = seed, label = \"LP\");\n",
    "        end\n",
    "\n",
    "        time_compar[i, 1, sim_id] = @elapsed sp_stacking_K_fold_V2(X[:, ind_mod], y[ind_mod], coords[:, ind_mod], \n",
    "            deltasq_grid, phi_grid, nu_grid, Priors, K_fold = K_fold, \n",
    "            seed = seed, label = \"LSE\");\n",
    "\n",
    "        time_compar[i, 2, sim_id] = @elapsed sp_stacking_K_fold_V2(X[:, ind_mod], y[ind_mod], coords[:, ind_mod], \n",
    "            deltasq_grid, phi_grid, nu_grid, Priors, K_fold = K_fold, \n",
    "            seed = seed, label = \"LP\");\n",
    "        \n",
    "        \n",
    "        ## fit MCMC ##\n",
    "        inv_V_beta = Priors[\"inv_V_β\"]\n",
    "        @rput X\n",
    "        @rput y\n",
    "        @rput ind_mod\n",
    "        @rput coords\n",
    "        @rput inv_V_beta\n",
    "        \n",
    "        R\"\"\" \n",
    "\n",
    "        library(spBayes)\n",
    "        library(ggplot2)\n",
    "        #library(geoR)\n",
    "\n",
    "        X = t(X);\n",
    "        coords = t(coords);\n",
    "\n",
    "        n.samples <- 20000\n",
    "        starting <- list(\"phi\"=3/0.5, \"sigma.sq\"=1, \"tau.sq\"=1, \"nu\" = 0.5)\n",
    "        tuning <- list(\"phi\"=0.1, \"sigma.sq\"=0.1, \"tau.sq\"=0.1, \"nu\" = 0.1)\n",
    "        priors.1 <- list(\"beta.Norm\"=list(rep(0, ncol(X)), solve(inv_V_beta)),\n",
    "                       \"phi.Unif\"=c(3, 36), \"sigma.sq.IG\"=c(2, 2),\n",
    "                       \"tau.sq.IG\"=c(2, 2), \"nu.unif\" = c(0.25, 2))\n",
    "\n",
    "        cov.model <- \"matern\"\n",
    "        n.report <- 5000\n",
    "        verbose <- TRUE\n",
    "        m.1 <- spLM(y[ind_mod]~X[ind_mod, ]-1, coords=coords[ind_mod, ],\n",
    "                  starting=starting,\n",
    "                  tuning=tuning, priors=priors.1, cov.model=cov.model,\n",
    "                  n.samples=n.samples, verbose=verbose, n.report=n.report)\n",
    "\n",
    "        MCMC_t <- m.1$run.time[3]\n",
    "        \n",
    "        \"\"\"\n",
    "        @rget MCMC_t\n",
    "        \n",
    "        time_compar[i, 3, sim_id] = MCMC_t\n",
    "        \n",
    "    end  \n",
    "end"
   ]
  },
  {
   "cell_type": "code",
   "execution_count": 6,
   "id": "af39aa1d",
   "metadata": {},
   "outputs": [],
   "source": [
    "@save \"../results/time_comparV3_CPU64_Th8.jld\" N_ls N_ho time_compar"
   ]
  },
  {
   "cell_type": "code",
   "execution_count": 16,
   "id": "67e96616",
   "metadata": {},
   "outputs": [
    {
     "data": {
      "text/plain": [
       "3-element Vector{Symbol}:\n",
       " :N_ls\n",
       " :N_ho\n",
       " :time_compar"
      ]
     },
     "execution_count": 16,
     "metadata": {},
     "output_type": "execute_result"
    }
   ],
   "source": [
    "## plot the comparision ##\n",
    "@load \"../results/time_comparV3_CPU64_Th8.jld\" N_ls N_ho time_compar"
   ]
  },
  {
   "cell_type": "code",
   "execution_count": 25,
   "id": "4ac830a0",
   "metadata": {},
   "outputs": [
    {
     "name": "stdout",
     "output_type": "stream",
     "text": [
      "[1] 12\n"
     ]
    },
    {
     "data": {
      "image/png": "[encoded data removed]"
     },
     "metadata": {},
     "output_type": "display_data"
    },
    {
     "data": {
      "text/plain": [
       "RObject{StrSxp}\n",
       "[1] \"../pics/time_compar_h_CPU64_Th8_V3.png\"\n"
      ]
     },
     "execution_count": 25,
     "metadata": {},
     "output_type": "execute_result"
    }
   ],
   "source": [
    "@rput time_compar\n",
    "@rput N_ls\n",
    "@rput N_ho\n",
    "R\"\"\"\n",
    "library(ggplot2)\n",
    "library(parallel)\n",
    "print(detectCores())\n",
    "time_dta <- data.frame(time = c(time_compar), \n",
    "                N_train = rep(paste(N_ls - N_ho), 3*4), \n",
    "                sim = rep(c(1, 2, 3, 4), each = length(N_ls)*3),\n",
    "                type = rep(rep(c(1:3), each = length(N_ls)), 4))\n",
    "\n",
    "sim_label = c(\"sim 1\", \"sim 2\", \"sim 3\", \"sim 4\")              \n",
    "time_dta$sim = factor(time_dta$sim, levels = 1:4, labels = sim_label)\n",
    "type_label = c(\"stacking of means\", \"stacking of pds\", \"MCMC\")              \n",
    "time_dta$type = factor(time_dta$type, levels = 1:3, labels = type_label)                          \n",
    "\n",
    "\n",
    "p_summary <- ggplot(time_dta, aes(x = N_train, y = time, color = label)) +\n",
    "  geom_line(aes(x = N_train, y = time, group = type, color = type)) + \n",
    "  theme_bw() + xlab(\"Training sample size\") + \n",
    "  facet_wrap(~ sim, nrow = 1, scales = \"free_x\", strip.position=\"top\") +\n",
    "  theme(legend.position=\"right\", legend.title = element_blank(),\n",
    "        legend.background = element_rect(fill = \"transparent\")) + ylab(\" \") +\n",
    "  scale_y_continuous(trans='log2') + \n",
    "  scale_colour_manual(values=c(\"#E69F00\", \"#56B4E9\", \"#009E73\")) \n",
    "  \n",
    "print(p_summary)\n",
    "\n",
    "#plot(N_ls - 100, time_compar[, 1, 1])\n",
    "\n",
    "ggsave(paste0(\"../pics/time_compar_h_CPU64_Th8_V3.png\"), \n",
    "       plot = p_summary, \n",
    "       width = 10, height = 2.6, units = \"in\", dpi = 600)\n",
    "       \n",
    "\"\"\""
   ]
  },
  {
   "cell_type": "code",
   "execution_count": 12,
   "id": "43be41e9",
   "metadata": {},
   "outputs": [],
   "source": [
    "#Threads.nthreads()"
   ]
  },
  {
   "cell_type": "code",
   "execution_count": 8,
   "id": "5d626daa",
   "metadata": {},
   "outputs": [
    {
     "data": {
      "text/plain": [
       "8×3×4 Array{Float64, 3}:\n",
       "[:, :, 1] =\n",
       " 0.348069  0.159962    46.111\n",
       " 0.733042  0.813791   186.347\n",
       " 1.0338    1.18601    400.41\n",
       " 1.5617    1.61872    745.683\n",
       " 1.34137   1.9163    1132.4\n",
       " 3.03823   2.61137   1599.29\n",
       " 1.90576   2.80994   2183.33\n",
       " 4.06046   3.52213   2847.43\n",
       "\n",
       "[:, :, 2] =\n",
       " 0.156654  0.207638    38.296\n",
       " 0.630262  0.776331   164.467\n",
       " 0.999994  1.43504    356.654\n",
       " 1.68651   1.76253    610.501\n",
       " 2.29375   2.07032    911.657\n",
       " 2.8379    2.40968   1323.23\n",
       " 3.32148   2.86324   1892.69\n",
       " 4.09438   3.54494   2358.71\n",
       "\n",
       "[:, :, 3] =\n",
       " 0.13347   0.193636    46.523\n",
       " 0.844215  0.721305   188.957\n",
       " 1.2113    1.12777    411.83\n",
       " 1.6747    1.82305    747.113\n",
       " 2.192     1.96215   1140.03\n",
       " 2.9274    2.57992   1635.31\n",
       " 3.38289   3.19643   2217.96\n",
       " 3.93252   3.88661   2878.81\n",
       "\n",
       "[:, :, 4] =\n",
       " 0.118501  0.182248    45.901\n",
       " 0.529485  0.599323   187.231\n",
       " 1.15685   1.27111    424.172\n",
       " 1.29296   1.50388    738.296\n",
       " 1.93844   2.07241   1142.98\n",
       " 2.63268   2.4734    1657.32\n",
       " 3.26704   3.22985   2243.55\n",
       " 3.81746   3.56995   2940.57"
      ]
     },
     "execution_count": 8,
     "metadata": {},
     "output_type": "execute_result"
    }
   ],
   "source": [
    "time_compar"
   ]
  },
  {
   "cell_type": "code",
   "execution_count": 20,
   "id": "cf1fa727",
   "metadata": {},
   "outputs": [
    {
     "name": "stdout",
     "output_type": "stream",
     "text": [
      "Summary Stats:\n",
      "Length:         32\n",
      "Missing Count:  0\n",
      "Mean:           496.324966\n",
      "Std. Deviation: 210.104087\n",
      "Minimum:        132.476728\n",
      "1st Quartile:   355.894667\n",
      "Median:         471.876083\n",
      "3rd Quartile:   599.609120\n",
      "Maximum:        1145.643816\n",
      "Type:           Float64\n"
     ]
    }
   ],
   "source": [
    "describe(vcat(([time_compar[:,3,i] ./ time_compar[:,j, i] for i in 1:4, j in 1:1])...))"
   ]
  },
  {
   "cell_type": "code",
   "execution_count": 21,
   "id": "f69d1713",
   "metadata": {},
   "outputs": [
    {
     "name": "stdout",
     "output_type": "stream",
     "text": [
      "Summary Stats:\n",
      "Length:         32\n",
      "Missing Count:  0\n",
      "Mean:           483.340452\n",
      "Std. Deviation: 199.028227\n",
      "Minimum:        184.436298\n",
      "1st Quartile:   306.368367\n",
      "Median:         475.795156\n",
      "3rd Quartile:   662.117152\n",
      "Maximum:        823.700752\n",
      "Type:           Float64\n"
     ]
    }
   ],
   "source": [
    "describe(vcat(([time_compar[:,3,i] ./ time_compar[:,j, i] for i in 1:4, j in 2:2])...))"
   ]
  },
  {
   "cell_type": "code",
   "execution_count": 22,
   "id": "c1ec167a",
   "metadata": {},
   "outputs": [
    {
     "name": "stdout",
     "output_type": "stream",
     "text": [
      "Summary Stats:\n",
      "Length:         64\n",
      "Missing Count:  0\n",
      "Mean:           489.832709\n",
      "Std. Deviation: 203.115903\n",
      "Minimum:        132.476728\n",
      "1st Quartile:   339.395202\n",
      "Median:         471.876083\n",
      "3rd Quartile:   639.306221\n",
      "Maximum:        1145.643816\n",
      "Type:           Float64\n"
     ]
    }
   ],
   "source": [
    "describe(vcat(([time_compar[:,3,i] ./ time_compar[:,j, i] for i in 1:4, j in 1:2])...))"
   ]
  },
  {
   "cell_type": "code",
   "execution_count": null,
   "id": "b2e6a1a9",
   "metadata": {},
   "outputs": [],
   "source": []
  }
 ],
 "metadata": {
  "kernelspec": {
   "display_name": "Julia 1.9.3",
   "language": "julia",
   "name": "julia-1.9"
  },
  "language_info": {
   "file_extension": ".jl",
   "mimetype": "application/julia",
   "name": "julia",
   "version": "1.9.3"
  }
 },
 "nbformat": 4,
 "nbformat_minor": 5
}
