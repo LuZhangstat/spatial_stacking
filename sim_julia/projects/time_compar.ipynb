{
 "cells": [
  {
   "cell_type": "code",
   "execution_count": 1,
   "metadata": {},
   "outputs": [
    {
     "data": {
      "text/plain": [
       "sp_stacking_K_fold_MT (generic function with 1 method)"
      ]
     },
     "execution_count": 1,
     "metadata": {},
     "output_type": "execute_result"
    }
   ],
   "source": [
    "## necessary packages\n",
    "\n",
    "using Distributions\n",
    "using Distances\n",
    "using LinearAlgebra\n",
    "using SparseArrays\n",
    "using IterativeSolvers\n",
    "using ProgressMeter\n",
    "using JLD2\n",
    "using Random\n",
    "using SpecialFunctions # Matern functions\n",
    "using MLBase         # cross-validation \n",
    "using Convex         # compute stacking weights\n",
    "using MosekTools     # compute stacking weights\n",
    "using RCall\n",
    "include(\"./utils.jl\")"
   ]
  },
  {
   "cell_type": "code",
   "execution_count": 2,
   "metadata": {},
   "outputs": [],
   "source": [
    "# Set the parameters of the simulated data #\n",
    "N_ls = [200, 300, 400, 500, 600, 700, 800, 900];\n",
    "N_ho = 100;\n",
    "seed = 1;\n",
    "time_compar = Array{Float64, 3}(undef, length(N_ls), 3, 2);"
   ]
  },
  {
   "cell_type": "code",
   "execution_count": 3,
   "metadata": {},
   "outputs": [],
   "source": [
    "## candidate values of hyperparameters for stacking ##\n",
    "p = 2\n",
    "deltasq_grid = [0.1, 0.5, 1, 2];\n",
    "phi_grid = [3, 14, 25, 36];\n",
    "nu_grid = [0.5, 1, 1.5, 1.75];\n",
    "## priors parameters ##\n",
    "Priors = Dict(\"μβ\" => fill(0.0, p), \"inv_V_β\" => Diagonal(ones(p) * 0.25), \n",
    "    \"aσ\" => 2.0, \"bσ\" => 2.0);\n",
    "K_fold = 10;"
   ]
  },
  {
   "cell_type": "code",
   "execution_count": 4,
   "metadata": {},
   "outputs": [
    {
     "name": "stdout",
     "output_type": "stream",
     "text": [
      "\n",
      "simulation: 1\n",
      "dataset: 1\n"
     ]
    },
    {
     "name": "stderr",
     "output_type": "stream",
     "text": [
      "┌ Warning: Passing optimizer attributes as keyword arguments to\n",
      "│ Mosek.Optimizer is deprecated. Use\n",
      "│     MOI.set(model, MOI.RawOptimizerAttribute(\"key\"), value)\n",
      "│ or\n",
      "│     JuMP.set_optimizer_attribute(model, \"key\", value)\n",
      "│ instead.\n",
      "└ @ MosekTools C:\\Users\\LU\\.julia\\packages\\MosekTools\\mjofx\\src\\MosekTools.jl:156\n",
      "┌ Warning: Passing optimizer attributes as keyword arguments to\n",
      "│ Mosek.Optimizer is deprecated. Use\n",
      "│     MOI.set(model, MOI.RawOptimizerAttribute(\"key\"), value)\n",
      "│ or\n",
      "│     JuMP.set_optimizer_attribute(model, \"key\", value)\n",
      "│ instead.\n",
      "└ @ MosekTools C:\\Users\\LU\\.julia\\packages\\MosekTools\\mjofx\\src\\MosekTools.jl:156\n",
      "┌ Warning: Passing optimizer attributes as keyword arguments to\n",
      "│ Mosek.Optimizer is deprecated. Use\n",
      "│     MOI.set(model, MOI.RawOptimizerAttribute(\"key\"), value)\n",
      "│ or\n",
      "│     JuMP.set_optimizer_attribute(model, \"key\", value)\n",
      "│ instead.\n",
      "└ @ MosekTools C:\\Users\\LU\\.julia\\packages\\MosekTools\\mjofx\\src\\MosekTools.jl:156\n",
      "┌ Warning: Passing optimizer attributes as keyword arguments to\n",
      "│ Mosek.Optimizer is deprecated. Use\n",
      "│     MOI.set(model, MOI.RawOptimizerAttribute(\"key\"), value)\n",
      "│ or\n",
      "│     JuMP.set_optimizer_attribute(model, \"key\", value)\n",
      "│ instead.\n",
      "└ @ MosekTools C:\\Users\\LU\\.julia\\packages\\MosekTools\\mjofx\\src\\MosekTools.jl:156\n"
     ]
    },
    {
     "name": "stdout",
     "output_type": "stream",
     "text": [
      "----------------------------------------\n",
      "\tGeneral model description\n",
      "----------------------------------------\n",
      "Model fit with 100 observations.\n",
      "\n",
      "Number of covariates 2 (including intercept if specified).\n",
      "\n",
      "Using the matern spatial correlation model.\n",
      "\n",
      "Number of MCMC samples 20000.\n",
      "\n",
      "Priors and hyperpriors:\n",
      "\tbeta normal:\n",
      "\tmu:\t0.000\t0.000\t\n",
      "\tcov:\n",
      "\t4.000\t0.000\t\n",
      "\t0.000\t4.000\t\n",
      "\n",
      "\tsigma.sq IG hyperpriors shape=2.00000 and scale=2.00000\n",
      "\ttau.sq IG hyperpriors shape=2.00000 and scale=2.00000\n",
      "\tphi Unif hyperpriors a=3.00000 and b=36.00000\n",
      "\tnu Unif hyperpriors a=0.25000 and b=2.00000\n",
      "-------------------------------------------------\n",
      "\t\tSampling\n",
      "-------------------------------------------------\n",
      "Sampled: 5000 of 20000, 25.00%\n",
      "Report interval Metrop. Acceptance rate: 42.94%\n",
      "Overall Metrop. Acceptance rate: 42.94%\n",
      "-------------------------------------------------\n",
      "Sampled: 10000 of 20000, 50.00%\n",
      "Report interval Metrop. Acceptance rate: 43.90%\n",
      "Overall Metrop. Acceptance rate: 43.42%\n",
      "-------------------------------------------------\n",
      "Sampled: 15000 of 20000, 75.00%\n",
      "Report interval Metrop. Acceptance rate: 42.94%\n",
      "Overall Metrop. Acceptance rate: 43.26%\n",
      "-------------------------------------------------\n",
      "Sampled: 20000 of 20000, 100.00%\n",
      "Report interval Metrop. Acceptance rate: 43.16%\n",
      "Overall Metrop. Acceptance rate: 43.23%\n",
      "-------------------------------------------------\n",
      "dataset: 2\n"
     ]
    },
    {
     "name": "stderr",
     "output_type": "stream",
     "text": [
      "┌ Warning: Passing optimizer attributes as keyword arguments to\n",
      "│ Mosek.Optimizer is deprecated. Use\n",
      "│     MOI.set(model, MOI.RawOptimizerAttribute(\"key\"), value)\n",
      "│ or\n",
      "│     JuMP.set_optimizer_attribute(model, \"key\", value)\n",
      "│ instead.\n",
      "└ @ MosekTools C:\\Users\\LU\\.julia\\packages\\MosekTools\\mjofx\\src\\MosekTools.jl:156\n"
     ]
    },
    {
     "name": "stdout",
     "output_type": "stream",
     "text": [
      "----------------------------------------\n",
      "\tGeneral model description\n",
      "----------------------------------------\n",
      "Model fit with 200 observations.\n",
      "\n",
      "Number of covariates 2 (including intercept if specified).\n",
      "\n",
      "Using the matern spatial correlation model.\n",
      "\n",
      "Number of MCMC samples 20000.\n",
      "\n",
      "Priors and hyperpriors:\n",
      "\tbeta normal:\n",
      "\tmu:\t0.000\t0.000\t\n",
      "\tcov:\n",
      "\t4.000\t0.000\t\n",
      "\t0.000\t4.000\t\n",
      "\n",
      "\tsigma.sq IG hyperpriors shape=2.00000 and scale=2.00000\n",
      "\ttau.sq IG hyperpriors shape=2.00000 and scale=2.00000\n",
      "\tphi Unif hyperpriors a=3.00000 and b=36.00000\n",
      "\tnu Unif hyperpriors a=0.25000 and b=2.00000\n",
      "-------------------------------------------------\n",
      "\t\tSampling\n",
      "-------------------------------------------------\n"
     ]
    },
    {
     "name": "stderr",
     "output_type": "stream",
     "text": [
      "┌ Warning: Passing optimizer attributes as keyword arguments to\n",
      "│ Mosek.Optimizer is deprecated. Use\n",
      "│     MOI.set(model, MOI.RawOptimizerAttribute(\"key\"), value)\n",
      "│ or\n",
      "│     JuMP.set_optimizer_attribute(model, \"key\", value)\n",
      "│ instead.\n",
      "└ @ MosekTools C:\\Users\\LU\\.julia\\packages\\MosekTools\\mjofx\\src\\MosekTools.jl:156\n"
     ]
    },
    {
     "name": "stdout",
     "output_type": "stream",
     "text": [
      "Sampled: 5000 of 20000, 25.00%\n",
      "Report interval Metrop. Acceptance rate: 29.10%\n",
      "Overall Metrop. Acceptance rate: 29.10%\n",
      "-------------------------------------------------\n",
      "Sampled: 10000 of 20000, 50.00%\n",
      "Report interval Metrop. Acceptance rate: 28.92%\n",
      "Overall Metrop. Acceptance rate: 29.01%\n",
      "-------------------------------------------------\n",
      "Sampled: 15000 of 20000, 75.00%\n",
      "Report interval Metrop. Acceptance rate: 28.82%\n",
      "Overall Metrop. Acceptance rate: 28.95%\n",
      "-------------------------------------------------\n",
      "Sampled: 20000 of 20000, 100.00%\n",
      "Report interval Metrop. Acceptance rate: 29.28%\n",
      "Overall Metrop. Acceptance rate: 29.03%\n",
      "-------------------------------------------------\n",
      "dataset: 3\n"
     ]
    },
    {
     "name": "stderr",
     "output_type": "stream",
     "text": [
      "┌ Warning: Passing optimizer attributes as keyword arguments to\n",
      "│ Mosek.Optimizer is deprecated. Use\n",
      "│     MOI.set(model, MOI.RawOptimizerAttribute(\"key\"), value)\n",
      "│ or\n",
      "│     JuMP.set_optimizer_attribute(model, \"key\", value)\n",
      "│ instead.\n",
      "└ @ MosekTools C:\\Users\\LU\\.julia\\packages\\MosekTools\\mjofx\\src\\MosekTools.jl:156\n"
     ]
    },
    {
     "name": "stdout",
     "output_type": "stream",
     "text": [
      "MOSEK warning 705: #2 (nearly) zero elements are specified in sparse row ''(113) of matrix 'A'.\n"
     ]
    },
    {
     "name": "stderr",
     "output_type": "stream",
     "text": [
      "┌ Warning: Passing optimizer attributes as keyword arguments to\n",
      "│ Mosek.Optimizer is deprecated. Use\n",
      "│     MOI.set(model, MOI.RawOptimizerAttribute(\"key\"), value)\n",
      "│ or\n",
      "│     JuMP.set_optimizer_attribute(model, \"key\", value)\n",
      "│ instead.\n",
      "└ @ MosekTools C:\\Users\\LU\\.julia\\packages\\MosekTools\\mjofx\\src\\MosekTools.jl:156\n"
     ]
    },
    {
     "name": "stdout",
     "output_type": "stream",
     "text": [
      "MOSEK warning 705: #1 (nearly) zero elements are specified in sparse row ''(368) of matrix 'A'.\n"
     ]
    },
    {
     "name": "stderr",
     "output_type": "stream",
     "text": [
      "┌ Warning: Problem status SLOW_PROGRESS; solution may be inaccurate.\n",
      "└ @ Convex C:\\Users\\LU\\.julia\\packages\\Convex\\FQF1R\\src\\solution.jl:342\n",
      "┌ Warning: Passing optimizer attributes as keyword arguments to\n",
      "│ Mosek.Optimizer is deprecated. Use\n",
      "│     MOI.set(model, MOI.RawOptimizerAttribute(\"key\"), value)\n",
      "│ or\n",
      "│     JuMP.set_optimizer_attribute(model, \"key\", value)\n",
      "│ instead.\n",
      "└ @ MosekTools C:\\Users\\LU\\.julia\\packages\\MosekTools\\mjofx\\src\\MosekTools.jl:156\n"
     ]
    },
    {
     "name": "stdout",
     "output_type": "stream",
     "text": [
      "MOSEK warning 705: #2 (nearly) zero elements are specified in sparse row ''(113) of matrix 'A'.\n"
     ]
    },
    {
     "name": "stderr",
     "output_type": "stream",
     "text": [
      "┌ Warning: Passing optimizer attributes as keyword arguments to\n",
      "│ Mosek.Optimizer is deprecated. Use\n",
      "│     MOI.set(model, MOI.RawOptimizerAttribute(\"key\"), value)\n",
      "│ or\n",
      "│     JuMP.set_optimizer_attribute(model, \"key\", value)\n",
      "│ instead.\n",
      "└ @ MosekTools C:\\Users\\LU\\.julia\\packages\\MosekTools\\mjofx\\src\\MosekTools.jl:156\n"
     ]
    },
    {
     "name": "stdout",
     "output_type": "stream",
     "text": [
      "MOSEK warning 705: #1 (nearly) zero elements are specified in sparse row ''(368) of matrix 'A'.\n",
      "----------------------------------------\n",
      "\tGeneral model description\n",
      "----------------------------------------\n",
      "Model fit with 300 observations.\n",
      "\n",
      "Number of covariates 2 (including intercept if specified).\n",
      "\n",
      "Using the matern spatial correlation model.\n",
      "\n",
      "Number of MCMC samples 20000.\n",
      "\n",
      "Priors and hyperpriors:\n",
      "\tbeta normal:\n",
      "\tmu:\t0.000\t0.000\t\n",
      "\tcov:\n",
      "\t4.000\t0.000\t\n",
      "\t0.000\t4.000\t\n",
      "\n",
      "\tsigma.sq IG hyperpriors shape=2.00000 and scale=2.00000\n",
      "\ttau.sq IG hyperpriors shape=2.00000 and scale=2.00000\n",
      "\tphi Unif hyperpriors a=3.00000 and b=36.00000\n",
      "\tnu Unif hyperpriors a=0.25000 and b=2.00000\n",
      "-------------------------------------------------\n",
      "\t\tSampling\n",
      "-------------------------------------------------\n"
     ]
    },
    {
     "name": "stderr",
     "output_type": "stream",
     "text": [
      "┌ Warning: Problem status SLOW_PROGRESS; solution may be inaccurate.\n",
      "└ @ Convex C:\\Users\\LU\\.julia\\packages\\Convex\\FQF1R\\src\\solution.jl:342\n"
     ]
    },
    {
     "name": "stdout",
     "output_type": "stream",
     "text": [
      "Sampled: 5000 of 20000, 25.00%\n",
      "Report interval Metrop. Acceptance rate: 25.66%\n",
      "Overall Metrop. Acceptance rate: 25.66%\n",
      "-------------------------------------------------\n",
      "Sampled: 10000 of 20000, 50.00%\n",
      "Report interval Metrop. Acceptance rate: 24.80%\n",
      "Overall Metrop. Acceptance rate: 25.23%\n",
      "-------------------------------------------------\n",
      "Sampled: 15000 of 20000, 75.00%\n",
      "Report interval Metrop. Acceptance rate: 26.38%\n",
      "Overall Metrop. Acceptance rate: 25.61%\n",
      "-------------------------------------------------\n",
      "Sampled: 20000 of 20000, 100.00%\n",
      "Report interval Metrop. Acceptance rate: 24.56%\n",
      "Overall Metrop. Acceptance rate: 25.35%\n",
      "-------------------------------------------------\n",
      "dataset: 4\n"
     ]
    },
    {
     "name": "stderr",
     "output_type": "stream",
     "text": [
      "┌ Warning: Passing optimizer attributes as keyword arguments to\n",
      "│ Mosek.Optimizer is deprecated. Use\n",
      "│     MOI.set(model, MOI.RawOptimizerAttribute(\"key\"), value)\n",
      "│ or\n",
      "│     JuMP.set_optimizer_attribute(model, \"key\", value)\n",
      "│ instead.\n",
      "└ @ MosekTools C:\\Users\\LU\\.julia\\packages\\MosekTools\\mjofx\\src\\MosekTools.jl:156\n",
      "┌ Warning: Passing optimizer attributes as keyword arguments to\n",
      "│ Mosek.Optimizer is deprecated. Use\n",
      "│     MOI.set(model, MOI.RawOptimizerAttribute(\"key\"), value)\n",
      "│ or\n",
      "│     JuMP.set_optimizer_attribute(model, \"key\", value)\n",
      "│ instead.\n",
      "└ @ MosekTools C:\\Users\\LU\\.julia\\packages\\MosekTools\\mjofx\\src\\MosekTools.jl:156\n"
     ]
    },
    {
     "name": "stdout",
     "output_type": "stream",
     "text": [
      "MOSEK warning 705: #1 (nearly) zero elements are specified in sparse row ''(203) of matrix 'A'.\n",
      "MOSEK warning 705: #2 (nearly) zero elements are specified in sparse row ''(245) of matrix 'A'.\n",
      "MOSEK warning 705: #2 (nearly) zero elements are specified in sparse row ''(299) of matrix 'A'.\n",
      "MOSEK warning 705: #1 (nearly) zero elements are specified in sparse row ''(968) of matrix 'A'.\n",
      "----------------------------------------\n",
      "\tGeneral model description\n",
      "----------------------------------------\n",
      "Model fit with 400 observations.\n",
      "\n",
      "Number of covariates 2 (including intercept if specified).\n",
      "\n",
      "Using the matern spatial correlation model.\n",
      "\n",
      "Number of MCMC samples 20000.\n",
      "\n",
      "Priors and hyperpriors:\n",
      "\tbeta normal:\n",
      "\tmu:\t0.000\t0.000\t\n",
      "\tcov:\n",
      "\t4.000\t0.000\t\n",
      "\t0.000\t4.000\t\n",
      "\n",
      "\tsigma.sq IG hyperpriors shape=2.00000 and scale=2.00000\n",
      "\ttau.sq IG hyperpriors shape=2.00000 and scale=2.00000\n",
      "\tphi Unif hyperpriors a=3.00000 and b=36.00000\n",
      "\tnu Unif hyperpriors a=0.25000 and b=2.00000\n",
      "-------------------------------------------------\n",
      "\t\tSampling\n",
      "-------------------------------------------------\n",
      "Sampled: 5000 of 20000, 25.00%\n",
      "Report interval Metrop. Acceptance rate: 19.48%\n",
      "Overall Metrop. Acceptance rate: 19.48%\n",
      "-------------------------------------------------\n",
      "Sampled: 10000 of 20000, 50.00%\n",
      "Report interval Metrop. Acceptance rate: 19.48%\n",
      "Overall Metrop. Acceptance rate: 19.48%\n",
      "-------------------------------------------------\n",
      "Sampled: 15000 of 20000, 75.00%\n",
      "Report interval Metrop. Acceptance rate: 19.40%\n",
      "Overall Metrop. Acceptance rate: 19.45%\n",
      "-------------------------------------------------\n",
      "Sampled: 20000 of 20000, 100.00%\n",
      "Report interval Metrop. Acceptance rate: 20.12%\n",
      "Overall Metrop. Acceptance rate: 19.62%\n",
      "-------------------------------------------------\n",
      "dataset: 5\n"
     ]
    },
    {
     "name": "stderr",
     "output_type": "stream",
     "text": [
      "┌ Warning: Passing optimizer attributes as keyword arguments to\n",
      "│ Mosek.Optimizer is deprecated. Use\n",
      "│     MOI.set(model, MOI.RawOptimizerAttribute(\"key\"), value)\n",
      "│ or\n",
      "│     JuMP.set_optimizer_attribute(model, \"key\", value)\n",
      "│ instead.\n",
      "└ @ MosekTools C:\\Users\\LU\\.julia\\packages\\MosekTools\\mjofx\\src\\MosekTools.jl:156\n",
      "┌ Warning: Passing optimizer attributes as keyword arguments to\n",
      "│ Mosek.Optimizer is deprecated. Use\n",
      "│     MOI.set(model, MOI.RawOptimizerAttribute(\"key\"), value)\n",
      "│ or\n",
      "│     JuMP.set_optimizer_attribute(model, \"key\", value)\n",
      "│ instead.\n",
      "└ @ MosekTools C:\\Users\\LU\\.julia\\packages\\MosekTools\\mjofx\\src\\MosekTools.jl:156\n"
     ]
    },
    {
     "name": "stdout",
     "output_type": "stream",
     "text": [
      "MOSEK warning 705: #2 (nearly) zero elements are specified in sparse row ''(119) of matrix 'A'.\n",
      "MOSEK warning 705: #1 (nearly) zero elements are specified in sparse row ''(1424) of matrix 'A'.\n"
     ]
    },
    {
     "name": "stderr",
     "output_type": "stream",
     "text": [
      "┌ Warning: Problem status SLOW_PROGRESS; solution may be inaccurate.\n",
      "└ @ Convex C:\\Users\\LU\\.julia\\packages\\Convex\\FQF1R\\src\\solution.jl:342\n",
      "┌ Warning: Passing optimizer attributes as keyword arguments to\n",
      "│ Mosek.Optimizer is deprecated. Use\n",
      "│     MOI.set(model, MOI.RawOptimizerAttribute(\"key\"), value)\n",
      "│ or\n",
      "│     JuMP.set_optimizer_attribute(model, \"key\", value)\n",
      "│ instead.\n",
      "└ @ MosekTools C:\\Users\\LU\\.julia\\packages\\MosekTools\\mjofx\\src\\MosekTools.jl:156\n",
      "┌ Warning: Passing optimizer attributes as keyword arguments to\n",
      "│ Mosek.Optimizer is deprecated. Use\n",
      "│     MOI.set(model, MOI.RawOptimizerAttribute(\"key\"), value)\n",
      "│ or\n",
      "│     JuMP.set_optimizer_attribute(model, \"key\", value)\n",
      "│ instead.\n",
      "└ @ MosekTools C:\\Users\\LU\\.julia\\packages\\MosekTools\\mjofx\\src\\MosekTools.jl:156\n"
     ]
    },
    {
     "name": "stdout",
     "output_type": "stream",
     "text": [
      "MOSEK warning 705: #2 (nearly) zero elements are specified in sparse row ''(119) of matrix 'A'.\n",
      "MOSEK warning 705: #1 (nearly) zero elements are specified in sparse row ''(1424) of matrix 'A'.\n",
      "----------------------------------------\n",
      "\tGeneral model description\n",
      "----------------------------------------\n",
      "Model fit with 500 observations.\n",
      "\n",
      "Number of covariates 2 (including intercept if specified).\n",
      "\n",
      "Using the matern spatial correlation model.\n",
      "\n",
      "Number of MCMC samples 20000.\n",
      "\n",
      "Priors and hyperpriors:\n",
      "\tbeta normal:\n",
      "\tmu:\t0.000\t0.000\t\n",
      "\tcov:\n",
      "\t4.000\t0.000\t\n",
      "\t0.000\t4.000\t\n",
      "\n",
      "\tsigma.sq IG hyperpriors shape=2.00000 and scale=2.00000\n",
      "\ttau.sq IG hyperpriors shape=2.00000 and scale=2.00000\n",
      "\tphi Unif hyperpriors a=3.00000 and b=36.00000\n",
      "\tnu Unif hyperpriors a=0.25000 and b=2.00000\n",
      "-------------------------------------------------\n",
      "\t\tSampling\n"
     ]
    },
    {
     "name": "stderr",
     "output_type": "stream",
     "text": [
      "┌ Warning: Problem status SLOW_PROGRESS; solution may be inaccurate.\n",
      "└ @ Convex C:\\Users\\LU\\.julia\\packages\\Convex\\FQF1R\\src\\solution.jl:342\n"
     ]
    },
    {
     "name": "stdout",
     "output_type": "stream",
     "text": [
      "-------------------------------------------------\n",
      "Sampled: 5000 of 20000, 25.00%\n",
      "Report interval Metrop. Acceptance rate: 16.88%\n",
      "Overall Metrop. Acceptance rate: 16.88%\n",
      "-------------------------------------------------\n",
      "Sampled: 10000 of 20000, 50.00%\n",
      "Report interval Metrop. Acceptance rate: 16.06%\n",
      "Overall Metrop. Acceptance rate: 16.47%\n",
      "-------------------------------------------------\n",
      "Sampled: 15000 of 20000, 75.00%\n",
      "Report interval Metrop. Acceptance rate: 16.70%\n",
      "Overall Metrop. Acceptance rate: 16.55%\n",
      "-------------------------------------------------\n",
      "Sampled: 20000 of 20000, 100.00%\n",
      "Report interval Metrop. Acceptance rate: 18.00%\n",
      "Overall Metrop. Acceptance rate: 16.91%\n",
      "-------------------------------------------------\n",
      "dataset: 6\n"
     ]
    },
    {
     "name": "stderr",
     "output_type": "stream",
     "text": [
      "┌ Warning: Passing optimizer attributes as keyword arguments to\n",
      "│ Mosek.Optimizer is deprecated. Use\n",
      "│     MOI.set(model, MOI.RawOptimizerAttribute(\"key\"), value)\n",
      "│ or\n",
      "│     JuMP.set_optimizer_attribute(model, \"key\", value)\n",
      "│ instead.\n",
      "└ @ MosekTools C:\\Users\\LU\\.julia\\packages\\MosekTools\\mjofx\\src\\MosekTools.jl:156\n"
     ]
    },
    {
     "name": "stdout",
     "output_type": "stream",
     "text": [
      "MOSEK warning 705: #2 (nearly) zero elements are specified in sparse row ''(290) of matrix 'A'.\n",
      "MOSEK warning 705: #2 (nearly) zero elements are specified in sparse row ''(1508) of matrix 'A'.\n"
     ]
    },
    {
     "name": "stderr",
     "output_type": "stream",
     "text": [
      "┌ Warning: Passing optimizer attributes as keyword arguments to\n",
      "│ Mosek.Optimizer is deprecated. Use\n",
      "│     MOI.set(model, MOI.RawOptimizerAttribute(\"key\"), value)\n",
      "│ or\n",
      "│     JuMP.set_optimizer_attribute(model, \"key\", value)\n",
      "│ instead.\n",
      "└ @ MosekTools C:\\Users\\LU\\.julia\\packages\\MosekTools\\mjofx\\src\\MosekTools.jl:156\n"
     ]
    },
    {
     "name": "stdout",
     "output_type": "stream",
     "text": [
      "----------------------------------------\n",
      "\tGeneral model description\n",
      "----------------------------------------\n",
      "Model fit with 600 observations.\n",
      "\n",
      "Number of covariates 2 (including intercept if specified).\n",
      "\n",
      "Using the matern spatial correlation model.\n",
      "\n",
      "Number of MCMC samples 20000.\n",
      "\n",
      "Priors and hyperpriors:\n",
      "\tbeta normal:\n",
      "\tmu:\t0.000\t0.000\t\n",
      "\tcov:\n",
      "\t4.000\t0.000\t\n",
      "\t0.000\t4.000\t\n",
      "\n",
      "\tsigma.sq IG hyperpriors shape=2.00000 and scale=2.00000\n",
      "\ttau.sq IG hyperpriors shape=2.00000 and scale=2.00000\n",
      "\tphi Unif hyperpriors a=3.00000 and b=36.00000\n",
      "\tnu Unif hyperpriors a=0.25000 and b=2.00000\n",
      "-------------------------------------------------\n",
      "\t\tSampling\n",
      "-------------------------------------------------\n",
      "Sampled: 5000 of 20000, 25.00%\n",
      "Report interval Metrop. Acceptance rate: 14.38%\n",
      "Overall Metrop. Acceptance rate: 14.38%\n",
      "-------------------------------------------------\n",
      "Sampled: 10000 of 20000, 50.00%\n",
      "Report interval Metrop. Acceptance rate: 14.82%\n",
      "Overall Metrop. Acceptance rate: 14.60%\n",
      "-------------------------------------------------\n",
      "Sampled: 15000 of 20000, 75.00%\n",
      "Report interval Metrop. Acceptance rate: 15.22%\n",
      "Overall Metrop. Acceptance rate: 14.81%\n",
      "-------------------------------------------------\n",
      "Sampled: 20000 of 20000, 100.00%\n",
      "Report interval Metrop. Acceptance rate: 14.64%\n",
      "Overall Metrop. Acceptance rate: 14.77%\n",
      "-------------------------------------------------\n",
      "dataset: 7\n"
     ]
    },
    {
     "name": "stderr",
     "output_type": "stream",
     "text": [
      "┌ Warning: Passing optimizer attributes as keyword arguments to\n",
      "│ Mosek.Optimizer is deprecated. Use\n",
      "│     MOI.set(model, MOI.RawOptimizerAttribute(\"key\"), value)\n",
      "│ or\n",
      "│     JuMP.set_optimizer_attribute(model, \"key\", value)\n",
      "│ instead.\n",
      "└ @ MosekTools C:\\Users\\LU\\.julia\\packages\\MosekTools\\mjofx\\src\\MosekTools.jl:156\n",
      "┌ Warning: Passing optimizer attributes as keyword arguments to\n",
      "│ Mosek.Optimizer is deprecated. Use\n",
      "│     MOI.set(model, MOI.RawOptimizerAttribute(\"key\"), value)\n",
      "│ or\n",
      "│     JuMP.set_optimizer_attribute(model, \"key\", value)\n",
      "│ instead.\n",
      "└ @ MosekTools C:\\Users\\LU\\.julia\\packages\\MosekTools\\mjofx\\src\\MosekTools.jl:156\n",
      "┌ Warning: Passing optimizer attributes as keyword arguments to\n",
      "│ Mosek.Optimizer is deprecated. Use\n",
      "│     MOI.set(model, MOI.RawOptimizerAttribute(\"key\"), value)\n",
      "│ or\n",
      "│     JuMP.set_optimizer_attribute(model, \"key\", value)\n",
      "│ instead.\n",
      "└ @ MosekTools C:\\Users\\LU\\.julia\\packages\\MosekTools\\mjofx\\src\\MosekTools.jl:156\n",
      "┌ Warning: Passing optimizer attributes as keyword arguments to\n",
      "│ Mosek.Optimizer is deprecated. Use\n",
      "│     MOI.set(model, MOI.RawOptimizerAttribute(\"key\"), value)\n",
      "│ or\n",
      "│     JuMP.set_optimizer_attribute(model, \"key\", value)\n",
      "│ instead.\n",
      "└ @ MosekTools C:\\Users\\LU\\.julia\\packages\\MosekTools\\mjofx\\src\\MosekTools.jl:156\n"
     ]
    },
    {
     "name": "stdout",
     "output_type": "stream",
     "text": [
      "----------------------------------------\n",
      "\tGeneral model description\n",
      "----------------------------------------\n",
      "Model fit with 700 observations.\n",
      "\n",
      "Number of covariates 2 (including intercept if specified).\n",
      "\n",
      "Using the matern spatial correlation model.\n",
      "\n",
      "Number of MCMC samples 20000.\n",
      "\n",
      "Priors and hyperpriors:\n",
      "\tbeta normal:\n",
      "\tmu:\t0.000\t0.000\t\n",
      "\tcov:\n",
      "\t4.000\t0.000\t\n",
      "\t0.000\t4.000\t\n",
      "\n",
      "\tsigma.sq IG hyperpriors shape=2.00000 and scale=2.00000\n",
      "\ttau.sq IG hyperpriors shape=2.00000 and scale=2.00000\n",
      "\tphi Unif hyperpriors a=3.00000 and b=36.00000\n",
      "\tnu Unif hyperpriors a=0.25000 and b=2.00000\n",
      "-------------------------------------------------\n",
      "\t\tSampling\n",
      "-------------------------------------------------\n",
      "Sampled: 5000 of 20000, 25.00%\n",
      "Report interval Metrop. Acceptance rate: 12.16%\n",
      "Overall Metrop. Acceptance rate: 12.16%\n",
      "-------------------------------------------------\n",
      "Sampled: 10000 of 20000, 50.00%\n",
      "Report interval Metrop. Acceptance rate: 13.04%\n",
      "Overall Metrop. Acceptance rate: 12.60%\n",
      "-------------------------------------------------\n",
      "Sampled: 15000 of 20000, 75.00%\n",
      "Report interval Metrop. Acceptance rate: 12.70%\n",
      "Overall Metrop. Acceptance rate: 12.63%\n",
      "-------------------------------------------------\n",
      "Sampled: 20000 of 20000, 100.00%\n",
      "Report interval Metrop. Acceptance rate: 12.56%\n",
      "Overall Metrop. Acceptance rate: 12.62%\n",
      "-------------------------------------------------\n",
      "dataset: 8\n"
     ]
    },
    {
     "name": "stderr",
     "output_type": "stream",
     "text": [
      "┌ Warning: Passing optimizer attributes as keyword arguments to\n",
      "│ Mosek.Optimizer is deprecated. Use\n",
      "│     MOI.set(model, MOI.RawOptimizerAttribute(\"key\"), value)\n",
      "│ or\n",
      "│     JuMP.set_optimizer_attribute(model, \"key\", value)\n",
      "│ instead.\n",
      "└ @ MosekTools C:\\Users\\LU\\.julia\\packages\\MosekTools\\mjofx\\src\\MosekTools.jl:156\n"
     ]
    },
    {
     "name": "stdout",
     "output_type": "stream",
     "text": [
      "MOSEK warning 705: #1 (nearly) zero elements are specified in sparse row ''(1517) of matrix 'A'.\n",
      "----------------------------------------\n",
      "\tGeneral model description\n",
      "----------------------------------------\n",
      "Model fit with 800 observations.\n",
      "\n",
      "Number of covariates 2 (including intercept if specified).\n",
      "\n",
      "Using the matern spatial correlation model.\n",
      "\n",
      "Number of MCMC samples 20000.\n",
      "\n",
      "Priors and hyperpriors:\n",
      "\tbeta normal:\n",
      "\tmu:\t0.000\t0.000\t\n",
      "\tcov:\n",
      "\t4.000\t0.000\t\n",
      "\t0.000\t4.000\t\n",
      "\n",
      "\tsigma.sq IG hyperpriors shape=2.00000 and scale=2.00000\n",
      "\ttau.sq IG hyperpriors shape=2.00000 and scale=2.00000\n",
      "\tphi Unif hyperpriors a=3.00000 and b=36.00000\n",
      "\tnu Unif hyperpriors a=0.25000 and b=2.00000\n",
      "-------------------------------------------------\n",
      "\t\tSampling\n"
     ]
    },
    {
     "name": "stderr",
     "output_type": "stream",
     "text": [
      "┌ Warning: Passing optimizer attributes as keyword arguments to\n",
      "│ Mosek.Optimizer is deprecated. Use\n",
      "│     MOI.set(model, MOI.RawOptimizerAttribute(\"key\"), value)\n",
      "│ or\n",
      "│     JuMP.set_optimizer_attribute(model, \"key\", value)\n",
      "│ instead.\n",
      "└ @ MosekTools C:\\Users\\LU\\.julia\\packages\\MosekTools\\mjofx\\src\\MosekTools.jl:156\n"
     ]
    },
    {
     "name": "stdout",
     "output_type": "stream",
     "text": [
      "-------------------------------------------------\n",
      "Sampled: 5000 of 20000, 25.00%\n",
      "Report interval Metrop. Acceptance rate: 13.92%\n",
      "Overall Metrop. Acceptance rate: 13.92%\n",
      "-------------------------------------------------\n",
      "Sampled: 10000 of 20000, 50.00%\n",
      "Report interval Metrop. Acceptance rate: 11.96%\n",
      "Overall Metrop. Acceptance rate: 12.94%\n",
      "-------------------------------------------------\n",
      "Sampled: 15000 of 20000, 75.00%\n",
      "Report interval Metrop. Acceptance rate: 14.76%\n",
      "Overall Metrop. Acceptance rate: 13.55%\n",
      "-------------------------------------------------\n",
      "Sampled: 20000 of 20000, 100.00%\n",
      "Report interval Metrop. Acceptance rate: 13.68%\n",
      "Overall Metrop. Acceptance rate: 13.58%\n",
      "-------------------------------------------------\n",
      "\n",
      "simulation: 2\n",
      "dataset: 1\n",
      "MOSEK warning 705: #1 (nearly) zero elements are specified in sparse row ''(146) of matrix 'A'.\n",
      "MOSEK warning 705: #1 (nearly) zero elements are specified in sparse row ''(170) of matrix 'A'.\n",
      "----------------------------------------\n",
      "\tGeneral model description\n",
      "----------------------------------------\n",
      "Model fit with 100 observations.\n",
      "\n",
      "Number of covariates 2 (including intercept if specified).\n",
      "\n",
      "Using the matern spatial correlation model.\n",
      "\n",
      "Number of MCMC samples 20000.\n",
      "\n",
      "Priors and hyperpriors:\n",
      "\tbeta normal:\n",
      "\tmu:\t0.000\t0.000\t\n",
      "\tcov:\n",
      "\t4.000\t0.000\t\n",
      "\t0.000\t4.000\t\n",
      "\n",
      "\tsigma.sq IG hyperpriors shape=2.00000 and scale=2.00000\n",
      "\ttau.sq IG hyperpriors shape=2.00000 and scale=2.00000\n",
      "\tphi Unif hyperpriors a=3.00000 and b=36.00000\n",
      "\tnu Unif hyperpriors a=0.25000 and b=2.00000\n",
      "-------------------------------------------------\n",
      "\t\tSampling\n"
     ]
    },
    {
     "name": "stderr",
     "output_type": "stream",
     "text": [
      "┌ Warning: Passing optimizer attributes as keyword arguments to\n",
      "│ Mosek.Optimizer is deprecated. Use\n",
      "│     MOI.set(model, MOI.RawOptimizerAttribute(\"key\"), value)\n",
      "│ or\n",
      "│     JuMP.set_optimizer_attribute(model, \"key\", value)\n",
      "│ instead.\n",
      "└ @ MosekTools C:\\Users\\LU\\.julia\\packages\\MosekTools\\mjofx\\src\\MosekTools.jl:156\n",
      "┌ Warning: Passing optimizer attributes as keyword arguments to\n",
      "│ Mosek.Optimizer is deprecated. Use\n",
      "│     MOI.set(model, MOI.RawOptimizerAttribute(\"key\"), value)\n",
      "│ or\n",
      "│     JuMP.set_optimizer_attribute(model, \"key\", value)\n",
      "│ instead.\n",
      "└ @ MosekTools C:\\Users\\LU\\.julia\\packages\\MosekTools\\mjofx\\src\\MosekTools.jl:156\n"
     ]
    },
    {
     "name": "stdout",
     "output_type": "stream",
     "text": [
      "-------------------------------------------------\n",
      "Sampled: 5000 of 20000, 25.00%\n",
      "Report interval Metrop. Acceptance rate: 46.08%\n",
      "Overall Metrop. Acceptance rate: 46.08%\n",
      "-------------------------------------------------\n",
      "Sampled: 10000 of 20000, 50.00%\n",
      "Report interval Metrop. Acceptance rate: 44.56%\n",
      "Overall Metrop. Acceptance rate: 45.32%\n",
      "-------------------------------------------------\n",
      "Sampled: 15000 of 20000, 75.00%\n",
      "Report interval Metrop. Acceptance rate: 46.12%\n",
      "Overall Metrop. Acceptance rate: 45.59%\n",
      "-------------------------------------------------\n",
      "Sampled: 20000 of 20000, 100.00%\n",
      "Report interval Metrop. Acceptance rate: 46.34%\n",
      "Overall Metrop. Acceptance rate: 45.77%\n",
      "-------------------------------------------------\n",
      "dataset: 2\n"
     ]
    },
    {
     "name": "stderr",
     "output_type": "stream",
     "text": [
      "┌ Warning: Passing optimizer attributes as keyword arguments to\n",
      "│ Mosek.Optimizer is deprecated. Use\n",
      "│     MOI.set(model, MOI.RawOptimizerAttribute(\"key\"), value)\n",
      "│ or\n",
      "│     JuMP.set_optimizer_attribute(model, \"key\", value)\n",
      "│ instead.\n",
      "└ @ MosekTools C:\\Users\\LU\\.julia\\packages\\MosekTools\\mjofx\\src\\MosekTools.jl:156\n",
      "┌ Warning: Passing optimizer attributes as keyword arguments to\n",
      "│ Mosek.Optimizer is deprecated. Use\n",
      "│     MOI.set(model, MOI.RawOptimizerAttribute(\"key\"), value)\n",
      "│ or\n",
      "│     JuMP.set_optimizer_attribute(model, \"key\", value)\n",
      "│ instead.\n",
      "└ @ MosekTools C:\\Users\\LU\\.julia\\packages\\MosekTools\\mjofx\\src\\MosekTools.jl:156\n"
     ]
    },
    {
     "name": "stdout",
     "output_type": "stream",
     "text": [
      "MOSEK warning 705: #1 (nearly) zero elements are specified in sparse row ''(353) of matrix 'A'.\n",
      "----------------------------------------\n",
      "\tGeneral model description\n",
      "----------------------------------------\n",
      "Model fit with 200 observations.\n",
      "\n",
      "Number of covariates 2 (including intercept if specified).\n",
      "\n",
      "Using the matern spatial correlation model.\n",
      "\n",
      "Number of MCMC samples 20000.\n",
      "\n",
      "Priors and hyperpriors:\n",
      "\tbeta normal:\n",
      "\tmu:\t0.000\t0.000\t\n",
      "\tcov:\n",
      "\t4.000\t0.000\t\n",
      "\t0.000\t4.000\t\n",
      "\n",
      "\tsigma.sq IG hyperpriors shape=2.00000 and scale=2.00000\n",
      "\ttau.sq IG hyperpriors shape=2.00000 and scale=2.00000\n",
      "\tphi Unif hyperpriors a=3.00000 and b=36.00000\n",
      "\tnu Unif hyperpriors a=0.25000 and b=2.00000\n",
      "-------------------------------------------------\n",
      "\t\tSampling\n",
      "-------------------------------------------------\n",
      "Sampled: 5000 of 20000, 25.00%\n",
      "Report interval Metrop. Acceptance rate: 32.48%\n",
      "Overall Metrop. Acceptance rate: 32.48%\n",
      "-------------------------------------------------\n",
      "Sampled: 10000 of 20000, 50.00%\n",
      "Report interval Metrop. Acceptance rate: 32.02%\n",
      "Overall Metrop. Acceptance rate: 32.25%\n",
      "-------------------------------------------------\n",
      "Sampled: 15000 of 20000, 75.00%\n",
      "Report interval Metrop. Acceptance rate: 33.08%\n",
      "Overall Metrop. Acceptance rate: 32.53%\n",
      "-------------------------------------------------\n",
      "Sampled: 20000 of 20000, 100.00%\n",
      "Report interval Metrop. Acceptance rate: 31.42%\n",
      "Overall Metrop. Acceptance rate: 32.25%\n",
      "-------------------------------------------------\n",
      "dataset: 3\n"
     ]
    },
    {
     "name": "stderr",
     "output_type": "stream",
     "text": [
      "┌ Warning: Passing optimizer attributes as keyword arguments to\n",
      "│ Mosek.Optimizer is deprecated. Use\n",
      "│     MOI.set(model, MOI.RawOptimizerAttribute(\"key\"), value)\n",
      "│ or\n",
      "│     JuMP.set_optimizer_attribute(model, \"key\", value)\n",
      "│ instead.\n",
      "└ @ MosekTools C:\\Users\\LU\\.julia\\packages\\MosekTools\\mjofx\\src\\MosekTools.jl:156\n"
     ]
    },
    {
     "name": "stdout",
     "output_type": "stream",
     "text": [
      "MOSEK warning 705: #3 (nearly) zero elements are specified in sparse row ''(218) of matrix 'A'.\n",
      "MOSEK warning 705: #1 (nearly) zero elements are specified in sparse row ''(314) of matrix 'A'.\n",
      "MOSEK warning 705: #1 (nearly) zero elements are specified in sparse row ''(326) of matrix 'A'.\n",
      "MOSEK warning 705: #2 (nearly) zero elements are specified in sparse row ''(368) of matrix 'A'.\n"
     ]
    },
    {
     "name": "stderr",
     "output_type": "stream",
     "text": [
      "┌ Warning: Passing optimizer attributes as keyword arguments to\n",
      "│ Mosek.Optimizer is deprecated. Use\n",
      "│     MOI.set(model, MOI.RawOptimizerAttribute(\"key\"), value)\n",
      "│ or\n",
      "│     JuMP.set_optimizer_attribute(model, \"key\", value)\n",
      "│ instead.\n",
      "└ @ MosekTools C:\\Users\\LU\\.julia\\packages\\MosekTools\\mjofx\\src\\MosekTools.jl:156\n"
     ]
    },
    {
     "name": "stdout",
     "output_type": "stream",
     "text": [
      "MOSEK warning 705: #1 (nearly) zero elements are specified in sparse row ''(458) of matrix 'A'.\n",
      "----------------------------------------\n",
      "\tGeneral model description\n",
      "----------------------------------------\n",
      "Model fit with 300 observations.\n",
      "\n",
      "Number of covariates 2 (including intercept if specified).\n",
      "\n",
      "Using the matern spatial correlation model.\n",
      "\n",
      "Number of MCMC samples 20000.\n",
      "\n",
      "Priors and hyperpriors:\n",
      "\tbeta normal:\n",
      "\tmu:\t0.000\t0.000\t\n",
      "\tcov:\n",
      "\t4.000\t0.000\t\n",
      "\t0.000\t4.000\t\n",
      "\n",
      "\tsigma.sq IG hyperpriors shape=2.00000 and scale=2.00000\n",
      "\ttau.sq IG hyperpriors shape=2.00000 and scale=2.00000\n",
      "\tphi Unif hyperpriors a=3.00000 and b=36.00000\n",
      "\tnu Unif hyperpriors a=0.25000 and b=2.00000\n",
      "-------------------------------------------------\n",
      "\t\tSampling\n",
      "-------------------------------------------------\n",
      "Sampled: 5000 of 20000, 25.00%\n",
      "Report interval Metrop. Acceptance rate: 27.32%\n",
      "Overall Metrop. Acceptance rate: 27.32%\n",
      "-------------------------------------------------\n",
      "Sampled: 10000 of 20000, 50.00%\n",
      "Report interval Metrop. Acceptance rate: 27.58%\n",
      "Overall Metrop. Acceptance rate: 27.45%\n",
      "-------------------------------------------------\n",
      "Sampled: 15000 of 20000, 75.00%\n",
      "Report interval Metrop. Acceptance rate: 28.50%\n",
      "Overall Metrop. Acceptance rate: 27.80%\n",
      "-------------------------------------------------\n",
      "Sampled: 20000 of 20000, 100.00%\n",
      "Report interval Metrop. Acceptance rate: 27.06%\n",
      "Overall Metrop. Acceptance rate: 27.61%\n",
      "-------------------------------------------------\n",
      "dataset: 4\n"
     ]
    },
    {
     "name": "stderr",
     "output_type": "stream",
     "text": [
      "┌ Warning: Passing optimizer attributes as keyword arguments to\n",
      "│ Mosek.Optimizer is deprecated. Use\n",
      "│     MOI.set(model, MOI.RawOptimizerAttribute(\"key\"), value)\n",
      "│ or\n",
      "│     JuMP.set_optimizer_attribute(model, \"key\", value)\n",
      "│ instead.\n",
      "└ @ MosekTools C:\\Users\\LU\\.julia\\packages\\MosekTools\\mjofx\\src\\MosekTools.jl:156\n",
      "┌ Warning: Passing optimizer attributes as keyword arguments to\n",
      "│ Mosek.Optimizer is deprecated. Use\n",
      "│     MOI.set(model, MOI.RawOptimizerAttribute(\"key\"), value)\n",
      "│ or\n",
      "│     JuMP.set_optimizer_attribute(model, \"key\", value)\n",
      "│ instead.\n",
      "└ @ MosekTools C:\\Users\\LU\\.julia\\packages\\MosekTools\\mjofx\\src\\MosekTools.jl:156\n"
     ]
    },
    {
     "name": "stdout",
     "output_type": "stream",
     "text": [
      "MOSEK warning 705: #4 (nearly) zero elements are specified in sparse row ''(245) of matrix 'A'.\n",
      "----------------------------------------\n",
      "\tGeneral model description\n",
      "----------------------------------------\n",
      "Model fit with 400 observations.\n",
      "\n",
      "Number of covariates 2 (including intercept if specified).\n",
      "\n",
      "Using the matern spatial correlation model.\n",
      "\n",
      "Number of MCMC samples 20000.\n",
      "\n",
      "Priors and hyperpriors:\n",
      "\tbeta normal:\n",
      "\tmu:\t0.000\t0.000\t\n",
      "\tcov:\n",
      "\t4.000\t0.000\t\n",
      "\t0.000\t4.000\t\n",
      "\n",
      "\tsigma.sq IG hyperpriors shape=2.00000 and scale=2.00000\n",
      "\ttau.sq IG hyperpriors shape=2.00000 and scale=2.00000\n",
      "\tphi Unif hyperpriors a=3.00000 and b=36.00000\n",
      "\tnu Unif hyperpriors a=0.25000 and b=2.00000\n",
      "-------------------------------------------------\n",
      "\t\tSampling\n",
      "-------------------------------------------------\n",
      "Sampled: 5000 of 20000, 25.00%\n",
      "Report interval Metrop. Acceptance rate: 20.76%\n",
      "Overall Metrop. Acceptance rate: 20.76%\n",
      "-------------------------------------------------\n",
      "Sampled: 10000 of 20000, 50.00%\n",
      "Report interval Metrop. Acceptance rate: 20.60%\n",
      "Overall Metrop. Acceptance rate: 20.68%\n",
      "-------------------------------------------------\n",
      "Sampled: 15000 of 20000, 75.00%\n",
      "Report interval Metrop. Acceptance rate: 20.64%\n",
      "Overall Metrop. Acceptance rate: 20.67%\n",
      "-------------------------------------------------\n",
      "Sampled: 20000 of 20000, 100.00%\n",
      "Report interval Metrop. Acceptance rate: 20.76%\n",
      "Overall Metrop. Acceptance rate: 20.69%\n",
      "-------------------------------------------------\n",
      "dataset: 5\n"
     ]
    },
    {
     "name": "stderr",
     "output_type": "stream",
     "text": [
      "┌ Warning: Passing optimizer attributes as keyword arguments to\n",
      "│ Mosek.Optimizer is deprecated. Use\n",
      "│     MOI.set(model, MOI.RawOptimizerAttribute(\"key\"), value)\n",
      "│ or\n",
      "│     JuMP.set_optimizer_attribute(model, \"key\", value)\n",
      "│ instead.\n",
      "└ @ MosekTools C:\\Users\\LU\\.julia\\packages\\MosekTools\\mjofx\\src\\MosekTools.jl:156\n",
      "┌ Warning: Passing optimizer attributes as keyword arguments to\n",
      "│ Mosek.Optimizer is deprecated. Use\n",
      "│     MOI.set(model, MOI.RawOptimizerAttribute(\"key\"), value)\n",
      "│ or\n",
      "│     JuMP.set_optimizer_attribute(model, \"key\", value)\n",
      "│ instead.\n",
      "└ @ MosekTools C:\\Users\\LU\\.julia\\packages\\MosekTools\\mjofx\\src\\MosekTools.jl:156\n"
     ]
    },
    {
     "name": "stdout",
     "output_type": "stream",
     "text": [
      "MOSEK warning 705: #2 (nearly) zero elements are specified in sparse row ''(119) of matrix 'A'.\n",
      "MOSEK warning 705: #1 (nearly) zero elements are specified in sparse row ''(404) of matrix 'A'.\n",
      "MOSEK warning 705: #1 (nearly) zero elements are specified in sparse row ''(782) of matrix 'A'.\n",
      "----------------------------------------\n",
      "\tGeneral model description\n",
      "----------------------------------------\n",
      "Model fit with 500 observations.\n",
      "\n",
      "Number of covariates 2 (including intercept if specified).\n",
      "\n",
      "Using the matern spatial correlation model.\n",
      "\n",
      "Number of MCMC samples 20000.\n",
      "\n",
      "Priors and hyperpriors:\n",
      "\tbeta normal:\n",
      "\tmu:\t0.000\t0.000\t\n",
      "\tcov:\n",
      "\t4.000\t0.000\t\n",
      "\t0.000\t4.000\t\n",
      "\n",
      "\tsigma.sq IG hyperpriors shape=2.00000 and scale=2.00000\n",
      "\ttau.sq IG hyperpriors shape=2.00000 and scale=2.00000\n",
      "\tphi Unif hyperpriors a=3.00000 and b=36.00000\n",
      "\tnu Unif hyperpriors a=0.25000 and b=2.00000\n",
      "-------------------------------------------------\n",
      "\t\tSampling\n",
      "-------------------------------------------------\n",
      "Sampled: 5000 of 20000, 25.00%\n",
      "Report interval Metrop. Acceptance rate: 20.36%\n",
      "Overall Metrop. Acceptance rate: 20.36%\n",
      "-------------------------------------------------\n",
      "Sampled: 10000 of 20000, 50.00%\n",
      "Report interval Metrop. Acceptance rate: 17.88%\n",
      "Overall Metrop. Acceptance rate: 19.12%\n",
      "-------------------------------------------------\n",
      "Sampled: 15000 of 20000, 75.00%\n",
      "Report interval Metrop. Acceptance rate: 19.36%\n",
      "Overall Metrop. Acceptance rate: 19.20%\n",
      "-------------------------------------------------\n",
      "Sampled: 20000 of 20000, 100.00%\n",
      "Report interval Metrop. Acceptance rate: 18.16%\n",
      "Overall Metrop. Acceptance rate: 18.94%\n",
      "-------------------------------------------------\n",
      "dataset: 6\n"
     ]
    },
    {
     "name": "stderr",
     "output_type": "stream",
     "text": [
      "┌ Warning: Passing optimizer attributes as keyword arguments to\n",
      "│ Mosek.Optimizer is deprecated. Use\n",
      "│     MOI.set(model, MOI.RawOptimizerAttribute(\"key\"), value)\n",
      "│ or\n",
      "│     JuMP.set_optimizer_attribute(model, \"key\", value)\n",
      "│ instead.\n",
      "└ @ MosekTools C:\\Users\\LU\\.julia\\packages\\MosekTools\\mjofx\\src\\MosekTools.jl:156\n",
      "┌ Warning: Passing optimizer attributes as keyword arguments to\n",
      "│ Mosek.Optimizer is deprecated. Use\n",
      "│     MOI.set(model, MOI.RawOptimizerAttribute(\"key\"), value)\n",
      "│ or\n",
      "│     JuMP.set_optimizer_attribute(model, \"key\", value)\n",
      "│ instead.\n",
      "└ @ MosekTools C:\\Users\\LU\\.julia\\packages\\MosekTools\\mjofx\\src\\MosekTools.jl:156\n"
     ]
    },
    {
     "name": "stdout",
     "output_type": "stream",
     "text": [
      "MOSEK warning 705: #2 (nearly) zero elements are specified in sparse row ''(1613) of matrix 'A'.\n",
      "----------------------------------------\n",
      "\tGeneral model description\n",
      "----------------------------------------\n",
      "Model fit with 600 observations.\n",
      "\n",
      "Number of covariates 2 (including intercept if specified).\n",
      "\n",
      "Using the matern spatial correlation model.\n",
      "\n",
      "Number of MCMC samples 20000.\n",
      "\n",
      "Priors and hyperpriors:\n",
      "\tbeta normal:\n",
      "\tmu:\t0.000\t0.000\t\n",
      "\tcov:\n",
      "\t4.000\t0.000\t\n",
      "\t0.000\t4.000\t\n",
      "\n",
      "\tsigma.sq IG hyperpriors shape=2.00000 and scale=2.00000\n",
      "\ttau.sq IG hyperpriors shape=2.00000 and scale=2.00000\n",
      "\tphi Unif hyperpriors a=3.00000 and b=36.00000\n",
      "\tnu Unif hyperpriors a=0.25000 and b=2.00000\n",
      "-------------------------------------------------\n",
      "\t\tSampling\n",
      "-------------------------------------------------\n",
      "Sampled: 5000 of 20000, 25.00%\n",
      "Report interval Metrop. Acceptance rate: 16.08%\n",
      "Overall Metrop. Acceptance rate: 16.08%\n",
      "-------------------------------------------------\n",
      "Sampled: 10000 of 20000, 50.00%\n",
      "Report interval Metrop. Acceptance rate: 15.02%\n",
      "Overall Metrop. Acceptance rate: 15.55%\n",
      "-------------------------------------------------\n",
      "Sampled: 15000 of 20000, 75.00%\n",
      "Report interval Metrop. Acceptance rate: 15.68%\n",
      "Overall Metrop. Acceptance rate: 15.59%\n",
      "-------------------------------------------------\n",
      "Sampled: 20000 of 20000, 100.00%\n",
      "Report interval Metrop. Acceptance rate: 16.12%\n",
      "Overall Metrop. Acceptance rate: 15.72%\n",
      "-------------------------------------------------\n",
      "dataset: 7\n"
     ]
    },
    {
     "name": "stderr",
     "output_type": "stream",
     "text": [
      "┌ Warning: Passing optimizer attributes as keyword arguments to\n",
      "│ Mosek.Optimizer is deprecated. Use\n",
      "│     MOI.set(model, MOI.RawOptimizerAttribute(\"key\"), value)\n",
      "│ or\n",
      "│     JuMP.set_optimizer_attribute(model, \"key\", value)\n",
      "│ instead.\n",
      "└ @ MosekTools C:\\Users\\LU\\.julia\\packages\\MosekTools\\mjofx\\src\\MosekTools.jl:156\n"
     ]
    },
    {
     "name": "stdout",
     "output_type": "stream",
     "text": [
      "MOSEK warning 705: #1 (nearly) zero elements are specified in sparse row ''(269) of matrix 'A'.\n",
      "MOSEK warning 705: #2 (nearly) zero elements are specified in sparse row ''(758) of matrix 'A'.\n",
      "----------------------------------------\n",
      "\tGeneral model description\n",
      "----------------------------------------\n",
      "Model fit with 700 observations.\n",
      "\n",
      "Number of covariates 2 (including intercept if specified).\n",
      "\n",
      "Using the matern spatial correlation model.\n",
      "\n",
      "Number of MCMC samples 20000.\n",
      "\n",
      "Priors and hyperpriors:\n",
      "\tbeta normal:\n",
      "\tmu:\t0.000\t0.000\t\n",
      "\tcov:\n",
      "\t4.000\t0.000\t\n",
      "\t0.000\t4.000\t\n",
      "\n",
      "\tsigma.sq IG hyperpriors shape=2.00000 and scale=2.00000\n",
      "\ttau.sq IG hyperpriors shape=2.00000 and scale=2.00000\n",
      "\tphi Unif hyperpriors a=3.00000 and b=36.00000\n",
      "\tnu Unif hyperpriors a=0.25000 and b=2.00000\n",
      "-------------------------------------------------\n"
     ]
    },
    {
     "name": "stderr",
     "output_type": "stream",
     "text": [
      "┌ Warning: Passing optimizer attributes as keyword arguments to\n",
      "│ Mosek.Optimizer is deprecated. Use\n",
      "│     MOI.set(model, MOI.RawOptimizerAttribute(\"key\"), value)\n",
      "│ or\n",
      "│     JuMP.set_optimizer_attribute(model, \"key\", value)\n",
      "│ instead.\n",
      "└ @ MosekTools C:\\Users\\LU\\.julia\\packages\\MosekTools\\mjofx\\src\\MosekTools.jl:156\n"
     ]
    },
    {
     "name": "stdout",
     "output_type": "stream",
     "text": [
      "\t\tSampling\n",
      "-------------------------------------------------\n",
      "Sampled: 5000 of 20000, 25.00%\n",
      "Report interval Metrop. Acceptance rate: 13.68%\n",
      "Overall Metrop. Acceptance rate: 13.68%\n",
      "-------------------------------------------------\n",
      "Sampled: 10000 of 20000, 50.00%\n",
      "Report interval Metrop. Acceptance rate: 13.78%\n",
      "Overall Metrop. Acceptance rate: 13.73%\n",
      "-------------------------------------------------\n",
      "Sampled: 15000 of 20000, 75.00%\n",
      "Report interval Metrop. Acceptance rate: 13.88%\n",
      "Overall Metrop. Acceptance rate: 13.78%\n",
      "-------------------------------------------------\n",
      "Sampled: 20000 of 20000, 100.00%\n",
      "Report interval Metrop. Acceptance rate: 11.98%\n",
      "Overall Metrop. Acceptance rate: 13.33%\n",
      "-------------------------------------------------\n",
      "dataset: 8\n"
     ]
    },
    {
     "name": "stderr",
     "output_type": "stream",
     "text": [
      "┌ Warning: Passing optimizer attributes as keyword arguments to\n",
      "│ Mosek.Optimizer is deprecated. Use\n",
      "│     MOI.set(model, MOI.RawOptimizerAttribute(\"key\"), value)\n",
      "│ or\n",
      "│     JuMP.set_optimizer_attribute(model, \"key\", value)\n",
      "│ instead.\n",
      "└ @ MosekTools C:\\Users\\LU\\.julia\\packages\\MosekTools\\mjofx\\src\\MosekTools.jl:156\n"
     ]
    },
    {
     "name": "stdout",
     "output_type": "stream",
     "text": [
      "MOSEK warning 705: #1 (nearly) zero elements are specified in sparse row ''(2222) of matrix 'A'.\n"
     ]
    },
    {
     "name": "stderr",
     "output_type": "stream",
     "text": [
      "┌ Warning: Passing optimizer attributes as keyword arguments to\n",
      "│ Mosek.Optimizer is deprecated. Use\n",
      "│     MOI.set(model, MOI.RawOptimizerAttribute(\"key\"), value)\n",
      "│ or\n",
      "│     JuMP.set_optimizer_attribute(model, \"key\", value)\n",
      "│ instead.\n",
      "└ @ MosekTools C:\\Users\\LU\\.julia\\packages\\MosekTools\\mjofx\\src\\MosekTools.jl:156\n"
     ]
    },
    {
     "name": "stdout",
     "output_type": "stream",
     "text": [
      "----------------------------------------\n",
      "\tGeneral model description\n",
      "----------------------------------------\n",
      "Model fit with 800 observations.\n",
      "\n",
      "Number of covariates 2 (including intercept if specified).\n",
      "\n",
      "Using the matern spatial correlation model.\n",
      "\n",
      "Number of MCMC samples 20000.\n",
      "\n",
      "Priors and hyperpriors:\n",
      "\tbeta normal:\n",
      "\tmu:\t0.000\t0.000\t\n",
      "\tcov:\n",
      "\t4.000\t0.000\t\n",
      "\t0.000\t4.000\t\n",
      "\n",
      "\tsigma.sq IG hyperpriors shape=2.00000 and scale=2.00000\n",
      "\ttau.sq IG hyperpriors shape=2.00000 and scale=2.00000\n",
      "\tphi Unif hyperpriors a=3.00000 and b=36.00000\n",
      "\tnu Unif hyperpriors a=0.25000 and b=2.00000\n",
      "-------------------------------------------------\n",
      "\t\tSampling\n",
      "-------------------------------------------------\n",
      "Sampled: 5000 of 20000, 25.00%\n",
      "Report interval Metrop. Acceptance rate: 12.54%\n",
      "Overall Metrop. Acceptance rate: 12.54%\n",
      "-------------------------------------------------\n",
      "Sampled: 10000 of 20000, 50.00%\n",
      "Report interval Metrop. Acceptance rate: 13.04%\n",
      "Overall Metrop. Acceptance rate: 12.79%\n",
      "-------------------------------------------------\n",
      "Sampled: 15000 of 20000, 75.00%\n",
      "Report interval Metrop. Acceptance rate: 13.14%\n",
      "Overall Metrop. Acceptance rate: 12.91%\n",
      "-------------------------------------------------\n",
      "Sampled: 20000 of 20000, 100.00%\n",
      "Report interval Metrop. Acceptance rate: 11.26%\n",
      "Overall Metrop. Acceptance rate: 12.49%\n",
      "-------------------------------------------------\n"
     ]
    }
   ],
   "source": [
    "for sim_id in 1:2\n",
    "    print(\"\\n\", \"simulation: \", sim_id, \"\\n\");\n",
    "    if sim_id == 1\n",
    "        p = 2;      # No. covariates\n",
    "        β = [1.0 2.0]; #regression coeff\n",
    "        σ2 = 1.0; ϕ = 7.0; ν = 1.0; τ2 = 1.0; # hyperparmeters in matern\n",
    "    else\n",
    "        p = 2;      # No. covariates\n",
    "        β = [1.0 2.0]; #regression coeff\n",
    "        σ2 = 1.0; ϕ = 20.0; ν = 0.5; τ2 = 0.3; # hyperparmeters in matern\n",
    "    end\n",
    "    for i in 1:length(N_ls)\n",
    "        print(\"dataset: \", i, \"\\n\")\n",
    "        \n",
    "        # generate simulation data #\n",
    "        \n",
    "        Random.seed!(i);\n",
    "        N = N_ls[i];             # No. all positions\n",
    "        ind_mod = 1:(N - N_ho);      # index of training observations\n",
    "        coords = rand(2, N);         # random location over unit square (2 by N)\n",
    "        X = vcat(fill(1.0, (1, N)), rand(Normal(), (1, N)));          # design matrix (p by N)\n",
    "        D = pairwise(Euclidean(), coords, dims = 2);                  # distance matrix\n",
    "        Cov = Symmetric(Maternlu.(UpperTriangular(D), \n",
    "                ν = ν, ϕ = ϕ, σ2 = σ2))                               # covariance matrix\n",
    "        z = rand(MvNormal(Cov), 1);                                   # latent process\n",
    "        y = (β * X)[1,:] + z[:,1] + sqrt(τ2) * rand(Normal(), N);     # response\n",
    "\n",
    "        ## fit stacking ##\n",
    "        # need to compile the function first to obtain precise time estimation #\n",
    "        if sim_id == 1 & i == 1 \n",
    "            time_compar[i, 1, sim_id] = @elapsed sp_stacking_K_fold_MT(X[:, ind_mod], y[ind_mod], coords[:, ind_mod], \n",
    "                deltasq_grid, phi_grid, nu_grid, Priors, K_fold = K_fold, \n",
    "                seed = seed, label = \"LSE\");\n",
    "            time_compar[i, 2, sim_id] = @elapsed sp_stacking_K_fold_MT(X[:, ind_mod], y[ind_mod], coords[:, ind_mod], \n",
    "                deltasq_grid, phi_grid, nu_grid, Priors, K_fold = K_fold, \n",
    "                seed = seed, label = \"LP\");\n",
    "        end\n",
    "\n",
    "        time_compar[i, 1, sim_id] = @elapsed sp_stacking_K_fold_MT(X[:, ind_mod], y[ind_mod], coords[:, ind_mod], \n",
    "            deltasq_grid, phi_grid, nu_grid, Priors, K_fold = K_fold, \n",
    "            seed = seed, label = \"LSE\");\n",
    "\n",
    "        time_compar[i, 2, sim_id] = @elapsed sp_stacking_K_fold_MT(X[:, ind_mod], y[ind_mod], coords[:, ind_mod], \n",
    "            deltasq_grid, phi_grid, nu_grid, Priors, K_fold = K_fold, \n",
    "            seed = seed, label = \"LP\");\n",
    "        \n",
    "        ## fit MCMC ##\n",
    "        inv_V_beta = Priors[\"inv_V_β\"]\n",
    "        @rput X\n",
    "        @rput y\n",
    "        @rput ind_mod\n",
    "        @rput coords\n",
    "        @rput inv_V_beta\n",
    "        \n",
    "        R\"\"\" \n",
    "\n",
    "        library(spBayes)\n",
    "        library(ggplot2)\n",
    "        #library(geoR)\n",
    "\n",
    "        X = t(X);\n",
    "        coords = t(coords);\n",
    "\n",
    "        n.samples <- 20000\n",
    "        starting <- list(\"phi\"=3/0.5, \"sigma.sq\"=1, \"tau.sq\"=1, \"nu\" = 0.5)\n",
    "        tuning <- list(\"phi\"=0.1, \"sigma.sq\"=0.1, \"tau.sq\"=0.1, \"nu\" = 0.1)\n",
    "        priors.1 <- list(\"beta.Norm\"=list(rep(0, ncol(X)), solve(inv_V_beta)),\n",
    "                       \"phi.Unif\"=c(3, 36), \"sigma.sq.IG\"=c(2, 2),\n",
    "                       \"tau.sq.IG\"=c(2, 2), \"nu.unif\" = c(0.25, 2))\n",
    "\n",
    "        cov.model <- \"matern\"\n",
    "        n.report <- 5000\n",
    "        verbose <- TRUE\n",
    "        m.1 <- spLM(y[ind_mod]~X[ind_mod, ]-1, coords=coords[ind_mod, ],\n",
    "                  starting=starting,\n",
    "                  tuning=tuning, priors=priors.1, cov.model=cov.model,\n",
    "                  n.samples=n.samples, verbose=verbose, n.report=n.report)\n",
    "\n",
    "        MCMC_t <- m.1$run.time[3]\n",
    "        \n",
    "        \"\"\"\n",
    "        @rget MCMC_t\n",
    "        \n",
    "        time_compar[i, 3, sim_id] = MCMC_t\n",
    "    end  \n",
    "end"
   ]
  },
  {
   "cell_type": "code",
   "execution_count": 5,
   "metadata": {},
   "outputs": [
    {
     "data": {
      "text/plain": [
       "8×3×2 Array{Float64, 3}:\n",
       "[:, :, 1] =\n",
       " 0.208803  0.165507    47.49\n",
       " 0.4583    0.583199   215.23\n",
       " 0.939839  1.1657     497.52\n",
       " 1.77871   1.98163    820.05\n",
       " 2.6913    3.04732   1430.82\n",
       " 3.87899   4.34789   2164.63\n",
       " 5.63531   6.23922   2982.2\n",
       " 6.98524   8.0238    4115.38\n",
       "\n",
       "[:, :, 2] =\n",
       " 0.129858  0.16933     44.09\n",
       " 0.426489  0.528477   190.44\n",
       " 0.960008  1.17206    404.23\n",
       " 1.72897   1.96673    738.33\n",
       " 2.66336   3.00028   1277.28\n",
       " 3.98092   4.25877   1943.19\n",
       " 5.37283   5.89704   2529.88\n",
       " 6.88122   7.97009   3447.59"
      ]
     },
     "execution_count": 5,
     "metadata": {},
     "output_type": "execute_result"
    }
   ],
   "source": [
    "time_compar[:, :, :]"
   ]
  },
  {
   "cell_type": "code",
   "execution_count": 6,
   "metadata": {},
   "outputs": [],
   "source": [
    "@save \"../results/time_compar8.jld\" N_ls N_ho time_compar"
   ]
  },
  {
   "cell_type": "code",
   "execution_count": 7,
   "metadata": {},
   "outputs": [
    {
     "data": {
      "text/plain": [
       "3-element Vector{Symbol}:\n",
       " :N_ls\n",
       " :N_ho\n",
       " :time_compar"
      ]
     },
     "execution_count": 7,
     "metadata": {},
     "output_type": "execute_result"
    }
   ],
   "source": [
    "## plot the comparision ##\n",
    "@load \"../results/time_compar8.jld\" N_ls N_ho time_compar"
   ]
  },
  {
   "cell_type": "code",
   "execution_count": 8,
   "metadata": {},
   "outputs": [
    {
     "name": "stdout",
     "output_type": "stream",
     "text": [
      "[1] 8\n"
     ]
    },
    {
     "data": {
      "image/png": "[encoded data removed]"
     },
     "metadata": {},
     "output_type": "display_data"
    },
    {
     "data": {
      "text/plain": [
       "RObject{StrSxp}\n",
       "[1] \"../pics/time_compar8.png\"\n"
      ]
     },
     "execution_count": 8,
     "metadata": {},
     "output_type": "execute_result"
    }
   ],
   "source": [
    "@rput time_compar\n",
    "@rput N_ls\n",
    "@rput N_ho\n",
    "R\"\"\"\n",
    "library(ggplot2)\n",
    "library(parallel)\n",
    "print(detectCores())\n",
    "time_dta <- data.frame(time = c(time_compar), \n",
    "                N_train = rep(paste(N_ls - N_ho), 3*2), \n",
    "                sim = rep(c(1, 2), each = length(N_ls)*3),\n",
    "                type = rep(rep(c(1:3), each = length(N_ls)), 2))\n",
    "\n",
    "sim_label = c(\"sim 1\", \"sim 2\")              \n",
    "time_dta$sim = factor(time_dta$sim, levels = 1:2, labels = sim_label)\n",
    "type_label = c(\"stacking of means\", \"stacking of predictive densities\", \"MCMC\")              \n",
    "time_dta$type = factor(time_dta$type, levels = 1:3, labels = type_label)                          \n",
    "\n",
    "\n",
    "p_summary <- ggplot(time_dta, aes(x = N_train, y = time, color = label)) +\n",
    "  geom_line(aes(x = N_train, y = time, group = type, color = type)) + \n",
    "  theme_bw() + xlab(\"Train sample size\") + \n",
    "  facet_wrap(~ sim, ncol = 1, scales = \"free_y\", strip.position=\"right\") +\n",
    "  theme(legend.position=\"top\", legend.title = element_blank()) + ylab(\" \") +\n",
    "  scale_y_continuous(trans='log2') + \n",
    "  scale_colour_manual(values=c(\"#E69F00\", \"#56B4E9\", \"#009E73\")) \n",
    "  \n",
    "print(p_summary)\n",
    "\n",
    "#plot(N_ls - 100, time_compar[, 1, 1])\n",
    "\n",
    "ggsave(paste0(\"../pics/time_compar8.png\"), \n",
    "       plot = p_summary, \n",
    "       width = 6.5, height = 4.0, units = \"in\", dpi = 600)\n",
    "       \n",
    "\"\"\""
   ]
  },
  {
   "cell_type": "code",
   "execution_count": 9,
   "metadata": {},
   "outputs": [
    {
     "name": "stdout",
     "output_type": "stream",
     "text": [
      "Julia Version 1.6.6\n",
      "Commit b8708f954a (2022-03-28 07:17 UTC)\n",
      "Platform Info:\n",
      "  OS: Windows (x86_64-w64-mingw32)\n",
      "  CPU: Intel(R) Core(TM) i7-7700K CPU @ 4.20GHz\n",
      "  WORD_SIZE: 64\n",
      "  LIBM: libopenlibm\n",
      "  LLVM: libLLVM-11.0.1 (ORCJIT, skylake)\n",
      "Environment:\n",
      "  JULIA_NUM_THREADS = 8\n"
     ]
    }
   ],
   "source": [
    "versioninfo()"
   ]
  },
  {
   "cell_type": "code",
   "execution_count": 10,
   "metadata": {},
   "outputs": [
    {
     "data": {
      "text/plain": [
       "8"
      ]
     },
     "execution_count": 10,
     "metadata": {},
     "output_type": "execute_result"
    }
   ],
   "source": [
    "Threads.nthreads()"
   ]
  },
  {
   "cell_type": "code",
   "execution_count": 11,
   "metadata": {},
   "outputs": [
    {
     "name": "stdout",
     "output_type": "stream",
     "text": [
      "Summary Stats:\n",
      "Length:         16\n",
      "Missing Count:  0\n",
      "Mean:           466.827874\n",
      "Minimum:        227.439588\n",
      "1st Quartile:   441.655890\n",
      "Median:         475.219759\n",
      "3rd Quartile:   529.241243\n",
      "Maximum:        589.153718\n",
      "Type:           Float64\n"
     ]
    }
   ],
   "source": [
    "describe(vcat(([time_compar[:,3,i] ./ time_compar[:,j, i] for i in 1:2, j in 1:1])...))"
   ]
  },
  {
   "cell_type": "code",
   "execution_count": 12,
   "metadata": {},
   "outputs": [
    {
     "name": "stdout",
     "output_type": "stream",
     "text": [
      "Summary Stats:\n",
      "Length:         16\n",
      "Missing Count:  0\n",
      "Mean:           408.717863\n",
      "Minimum:        260.378372\n",
      "1st Quartile:   366.876941\n",
      "Median:         426.259835\n",
      "3rd Quartile:   459.593400\n",
      "Maximum:        512.896575\n",
      "Type:           Float64\n"
     ]
    }
   ],
   "source": [
    "describe(vcat(([time_compar[:,3,i] ./ time_compar[:,j, i] for i in 1:2, j in 2:2])...))"
   ]
  },
  {
   "cell_type": "code",
   "execution_count": 13,
   "metadata": {},
   "outputs": [
    {
     "name": "stdout",
     "output_type": "stream",
     "text": [
      "Summary Stats:\n",
      "Length:         32\n",
      "Missing Count:  0\n",
      "Mean:           437.772868\n",
      "Minimum:        227.439588\n",
      "1st Quartile:   404.221482\n",
      "Median:         451.405030\n",
      "3rd Quartile:   490.559097\n",
      "Maximum:        589.153718\n",
      "Type:           Float64\n"
     ]
    }
   ],
   "source": [
    "describe(vcat(([time_compar[:,3,i] ./ time_compar[:,j, i] for i in 1:2, j in 1:2])...))"
   ]
  },
  {
   "cell_type": "code",
   "execution_count": null,
   "metadata": {},
   "outputs": [],
   "source": []
  }
 ],
 "metadata": {
  "kernelspec": {
   "display_name": "Julia (8 threads) 1.6.6",
   "language": "julia",
   "name": "julia-(8-threads)-1.6"
  },
  "language_info": {
   "file_extension": ".jl",
   "mimetype": "application/julia",
   "name": "julia",
   "version": "1.6.6"
  }
 },
 "nbformat": 4,
 "nbformat_minor": 4
}
