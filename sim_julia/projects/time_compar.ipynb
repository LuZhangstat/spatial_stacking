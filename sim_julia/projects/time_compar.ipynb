{
 "cells": [
  {
   "cell_type": "code",
   "execution_count": 1,
   "id": "58fb485a",
   "metadata": {},
   "outputs": [
    {
     "data": {
      "text/plain": [
       "sp_stacking_K_fold_MT (generic function with 1 method)"
      ]
     },
     "execution_count": 1,
     "metadata": {},
     "output_type": "execute_result"
    }
   ],
   "source": [
    "## necessary packages\n",
    "\n",
    "using Distributions\n",
    "using Distances\n",
    "using LinearAlgebra\n",
    "using SparseArrays\n",
    "using IterativeSolvers\n",
    "using ProgressMeter\n",
    "using JLD2\n",
    "using Random\n",
    "using SpecialFunctions # Matern functions\n",
    "using MLBase         # cross-validation \n",
    "using Convex         # compute stacking weights\n",
    "using MosekTools     # compute stacking weights\n",
    "using RCall\n",
    "include(\"./utils.jl\")"
   ]
  },
  {
   "cell_type": "code",
   "execution_count": 2,
   "id": "0e267eb7",
   "metadata": {},
   "outputs": [],
   "source": [
    "# Set the parameters of the simulated data #\n",
    "N_ls = [200, 300, 400, 500, 600, 700, 800, 900];\n",
    "N_ho = 100;\n",
    "seed = 1;\n",
    "time_compar = Array{Float64, 3}(undef, length(N_ls), 3, 2);"
   ]
  },
  {
   "cell_type": "code",
   "execution_count": 3,
   "id": "a0bece1c",
   "metadata": {},
   "outputs": [],
   "source": [
    "## candidate values of hyperparameters for stacking ##\n",
    "p = 2\n",
    "deltasq_grid = fill(1.0, 4); \n",
    "phi_grid = [3, 14, 25, 36];\n",
    "nu_grid = [0.5, 1, 1.5, 1.75];\n",
    "## priors parameters ##\n",
    "Priors = Dict(\"μβ\" => fill(0.0, p), \"inv_V_β\" => Diagonal(ones(p) * 0.25), \n",
    "    \"aσ\" => 2.0, \"bσ\" => 2.0);\n",
    "K_fold = 10;"
   ]
  },
  {
   "cell_type": "code",
   "execution_count": 4,
   "id": "b15979f3",
   "metadata": {},
   "outputs": [],
   "source": [
    "for sim_id in 1:2\n",
    "    print(\"\\n\", \"simulation: \", sim_id, \"\\n\");\n",
    "    if sim_id == 1\n",
    "        p = 2;      # No. covariates\n",
    "        β = [1.0 2.0]; #regression coeff\n",
    "        σ2 = 1.0; ϕ = 7.0; ν = 1.0; τ2 = 1.0; # hyperparmeters in matern\n",
    "    else\n",
    "        p = 2;      # No. covariates\n",
    "        β = [1.0 2.0]; #regression coeff\n",
    "        σ2 = 1.0; ϕ = 20.0; ν = 0.5; τ2 = 0.3; # hyperparmeters in matern\n",
    "    end\n",
    "    deltasq_grid = pick_deltasq(σ2, τ2; b = max(σ2, τ2), p_ls = [0.05, 0.35, 0.65, 0.95])\n",
    "    for i in 1:length(N_ls)\n",
    "        print(\"dataset: \", i, \"\\n\")\n",
    "        \n",
    "        # generate simulation data #\n",
    "        \n",
    "        Random.seed!(i);\n",
    "        N = N_ls[i];             # No. all positions\n",
    "        ind_mod = 1:(N - N_ho);      # index of training observations\n",
    "        coords = rand(2, N);         # random location over unit square (2 by N)\n",
    "        X = vcat(fill(1.0, (1, N)), rand(Normal(), (1, N)));          # design matrix (p by N)\n",
    "        D = pairwise(Euclidean(), coords, dims = 2);                  # distance matrix\n",
    "        Cov = Symmetric(Maternlu.(UpperTriangular(D), \n",
    "                ν = ν, ϕ = ϕ, σ2 = σ2))                               # covariance matrix\n",
    "        z = rand(MvNormal(Cov), 1);                                   # latent process\n",
    "        y = (β * X)[1,:] + z[:,1] + sqrt(τ2) * rand(Normal(), N);     # response\n",
    "\n",
    "        ## fit stacking ##\n",
    "        # need to compile the function first to obtain precise time estimation #\n",
    "        if sim_id == 1 & i == 1 \n",
    "            time_compar[i, 1, sim_id] = @elapsed sp_stacking_K_fold_MT(X[:, ind_mod], y[ind_mod], coords[:, ind_mod], \n",
    "                deltasq_grid, phi_grid, nu_grid, Priors, K_fold = K_fold, \n",
    "                seed = seed, label = \"LSE\");\n",
    "            time_compar[i, 2, sim_id] = @elapsed sp_stacking_K_fold_MT(X[:, ind_mod], y[ind_mod], coords[:, ind_mod], \n",
    "                deltasq_grid, phi_grid, nu_grid, Priors, K_fold = K_fold, \n",
    "                seed = seed, label = \"LP\");\n",
    "        end\n",
    "\n",
    "        time_compar[i, 1, sim_id] = @elapsed sp_stacking_K_fold_MT(X[:, ind_mod], y[ind_mod], coords[:, ind_mod], \n",
    "            deltasq_grid, phi_grid, nu_grid, Priors, K_fold = K_fold, \n",
    "            seed = seed, label = \"LSE\");\n",
    "\n",
    "        time_compar[i, 2, sim_id] = @elapsed sp_stacking_K_fold_MT(X[:, ind_mod], y[ind_mod], coords[:, ind_mod], \n",
    "            deltasq_grid, phi_grid, nu_grid, Priors, K_fold = K_fold, \n",
    "            seed = seed, label = \"LP\");\n",
    "        \n",
    "        ## fit MCMC ##\n",
    "        inv_V_beta = Priors[\"inv_V_β\"]\n",
    "        @rput X\n",
    "        @rput y\n",
    "        @rput ind_mod\n",
    "        @rput coords\n",
    "        @rput inv_V_beta\n",
    "        \n",
    "        R\"\"\" \n",
    "\n",
    "        library(spBayes)\n",
    "        library(ggplot2)\n",
    "        #library(geoR)\n",
    "\n",
    "        X = t(X);\n",
    "        coords = t(coords);\n",
    "\n",
    "        n.samples <- 20000\n",
    "        starting <- list(\"phi\"=3/0.5, \"sigma.sq\"=1, \"tau.sq\"=1, \"nu\" = 0.5)\n",
    "        tuning <- list(\"phi\"=0.1, \"sigma.sq\"=0.1, \"tau.sq\"=0.1, \"nu\" = 0.1)\n",
    "        priors.1 <- list(\"beta.Norm\"=list(rep(0, ncol(X)), solve(inv_V_beta)),\n",
    "                       \"phi.Unif\"=c(3, 36), \"sigma.sq.IG\"=c(2, 2),\n",
    "                       \"tau.sq.IG\"=c(2, 2), \"nu.unif\" = c(0.25, 2))\n",
    "\n",
    "        cov.model <- \"matern\"\n",
    "        n.report <- 5000\n",
    "        verbose <- TRUE\n",
    "        m.1 <- spLM(y[ind_mod]~X[ind_mod, ]-1, coords=coords[ind_mod, ],\n",
    "                  starting=starting,\n",
    "                  tuning=tuning, priors=priors.1, cov.model=cov.model,\n",
    "                  n.samples=n.samples, verbose=verbose, n.report=n.report)\n",
    "\n",
    "        MCMC_t <- m.1$run.time[3]\n",
    "        \n",
    "        \"\"\"\n",
    "        @rget MCMC_t\n",
    "        \n",
    "        time_compar[i, 3, sim_id] = MCMC_t\n",
    "    end  \n",
    "end"
   ]
  },
  {
   "cell_type": "code",
   "execution_count": 11,
   "id": "af39aa1d",
   "metadata": {},
   "outputs": [],
   "source": [
    "@save \"../results/time_compar.jld\" N_ls N_ho time_compar"
   ]
  },
  {
   "cell_type": "code",
   "execution_count": 4,
   "id": "67e96616",
   "metadata": {},
   "outputs": [
    {
     "data": {
      "text/plain": [
       "3-element Vector{Symbol}:\n",
       " :N_ls\n",
       " :N_ho\n",
       " :time_compar"
      ]
     },
     "execution_count": 4,
     "metadata": {},
     "output_type": "execute_result"
    }
   ],
   "source": [
    "## plot the comparision ##\n",
    "@load \"../results/time_compar.jld\" N_ls N_ho time_compar"
   ]
  },
  {
   "cell_type": "code",
   "execution_count": 33,
   "id": "4ac830a0",
   "metadata": {},
   "outputs": [
    {
     "name": "stdout",
     "output_type": "stream",
     "text": [
      "[1] 12\n"
     ]
    },
    {
     "data": {
      "image/png": "[encoded data removed]"
     },
     "metadata": {},
     "output_type": "display_data"
    },
    {
     "data": {
      "text/plain": [
       "RObject{StrSxp}\n",
       "[1] \"../pics/time_compar_h.png\"\n"
      ]
     },
     "execution_count": 33,
     "metadata": {},
     "output_type": "execute_result"
    }
   ],
   "source": [
    "@rput time_compar\n",
    "@rput N_ls\n",
    "@rput N_ho\n",
    "R\"\"\"\n",
    "library(ggplot2)\n",
    "library(parallel)\n",
    "print(detectCores())\n",
    "time_dta <- data.frame(time = c(time_compar), \n",
    "                N_train = rep(paste(N_ls - N_ho), 3*2), \n",
    "                sim = rep(c(1, 2), each = length(N_ls)*3),\n",
    "                type = rep(rep(c(1:3), each = length(N_ls)), 2))\n",
    "\n",
    "sim_label = c(\"sim 1\", \"sim 2\")              \n",
    "time_dta$sim = factor(time_dta$sim, levels = 1:2, labels = sim_label)\n",
    "type_label = c(\"stacking of means\", \"stacking of predictive densities\", \"MCMC\")              \n",
    "time_dta$type = factor(time_dta$type, levels = 1:3, labels = type_label)                          \n",
    "\n",
    "\n",
    "p_summary <- ggplot(time_dta, aes(x = N_train, y = time, color = label)) +\n",
    "  geom_line(aes(x = N_train, y = time, group = type, color = type)) + \n",
    "  theme_bw() + xlab(\"Training sample size\") + \n",
    "  facet_wrap(~ sim, nrow = 1, scales = \"free_x\", strip.position=\"top\") +\n",
    "  theme(legend.position=c(0.8, 0.55), legend.title = element_blank(),\n",
    "        legend.background = element_rect(fill = \"transparent\")) + ylab(\" \") +\n",
    "  scale_y_continuous(trans='log2') + \n",
    "  scale_colour_manual(values=c(\"#E69F00\", \"#56B4E9\", \"#009E73\")) \n",
    "  \n",
    "print(p_summary)\n",
    "\n",
    "#plot(N_ls - 100, time_compar[, 1, 1])\n",
    "\n",
    "ggsave(paste0(\"../pics/time_compar_h.png\"), \n",
    "       plot = p_summary, \n",
    "       width = 7.0, height = 2.5, units = \"in\", dpi = 600)\n",
    "       \n",
    "\"\"\""
   ]
  },
  {
   "cell_type": "code",
   "execution_count": 34,
   "id": "43be41e9",
   "metadata": {},
   "outputs": [],
   "source": [
    "#Threads.nthreads()"
   ]
  },
  {
   "cell_type": "code",
   "execution_count": 4,
   "id": "5d626daa",
   "metadata": {},
   "outputs": [
    {
     "data": {
      "text/plain": [
       "8×3×2 Array{Float64, 3}:\n",
       "[:, :, 1] =\n",
       " 0.116694  0.13599     46.53\n",
       " 0.376707  0.449014   220.19\n",
       " 0.893845  1.13105    514.12\n",
       " 1.63499   1.9155     848.62\n",
       " 2.38752   3.122     1456.06\n",
       " 3.43855   4.72936   2217.84\n",
       " 5.16348   6.15777   3005.16\n",
       " 7.14339   8.14652   4170.14\n",
       "\n",
       "[:, :, 2] =\n",
       " 0.120714  0.19619     44.03\n",
       " 0.370227  0.494461   195.24\n",
       " 0.850857  1.02762    411.17\n",
       " 1.58996   1.95652    757.01\n",
       " 2.49996   2.92219   1304.73\n",
       " 3.91967   4.30371   1990.35\n",
       " 5.09986   5.99858   2576.91\n",
       " 6.71436   7.78374   3530.51"
      ]
     },
     "execution_count": 4,
     "metadata": {},
     "output_type": "execute_result"
    }
   ],
   "source": [
    "time_compar"
   ]
  },
  {
   "cell_type": "code",
   "execution_count": 5,
   "id": "cf1fa727",
   "metadata": {},
   "outputs": [
    {
     "name": "stdout",
     "output_type": "stream",
     "text": [
      "Summary Stats:\n",
      "Length:         16\n",
      "Missing Count:  0\n",
      "Mean:           525.646610\n",
      "Minimum:        364.745519\n",
      "1st Quartile:   499.778057\n",
      "Median:         523.858030\n",
      "3rd Quartile:   582.445793\n",
      "Maximum:        644.992840\n",
      "Type:           Float64\n"
     ]
    }
   ],
   "source": [
    "describe(vcat(([time_compar[:,3,i] ./ time_compar[:,j, i] for i in 1:2, j in 1:1])...))"
   ]
  },
  {
   "cell_type": "code",
   "execution_count": 6,
   "id": "f69d1713",
   "metadata": {},
   "outputs": [
    {
     "name": "stdout",
     "output_type": "stream",
     "text": [
      "Summary Stats:\n",
      "Length:         16\n",
      "Missing Count:  0\n",
      "Mean:           428.988754\n",
      "Minimum:        224.425760\n",
      "1st Quartile:   398.803750\n",
      "Median:         450.032853\n",
      "3rd Quartile:   467.027829\n",
      "Maximum:        511.891931\n",
      "Type:           Float64\n"
     ]
    }
   ],
   "source": [
    "describe(vcat(([time_compar[:,3,i] ./ time_compar[:,j, i] for i in 1:2, j in 2:2])...))"
   ]
  },
  {
   "cell_type": "code",
   "execution_count": 7,
   "id": "c1ec167a",
   "metadata": {},
   "outputs": [
    {
     "name": "stdout",
     "output_type": "stream",
     "text": [
      "Summary Stats:\n",
      "Length:         32\n",
      "Missing Count:  0\n",
      "Mean:           477.317682\n",
      "Minimum:        224.425760\n",
      "1st Quartile:   439.667904\n",
      "Median:         479.680944\n",
      "3rd Quartile:   522.879702\n",
      "Maximum:        644.992840\n",
      "Type:           Float64\n"
     ]
    }
   ],
   "source": [
    "describe(vcat(([time_compar[:,3,i] ./ time_compar[:,j, i] for i in 1:2, j in 1:2])...))"
   ]
  },
  {
   "cell_type": "code",
   "execution_count": null,
   "id": "b2e6a1a9",
   "metadata": {},
   "outputs": [],
   "source": []
  }
 ],
 "metadata": {
  "kernelspec": {
   "display_name": "Julia 1.9.3",
   "language": "julia",
   "name": "julia-1.9"
  },
  "language_info": {
   "file_extension": ".jl",
   "mimetype": "application/julia",
   "name": "julia",
   "version": "1.9.3"
  }
 },
 "nbformat": 4,
 "nbformat_minor": 5
}
