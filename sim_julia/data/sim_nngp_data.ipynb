{
 "cells": [
  {
   "cell_type": "code",
   "execution_count": 31,
   "metadata": {},
   "outputs": [],
   "source": [
    "## necessary packages ##\n",
    "#using Pkg\n",
    "#Pkg.add(\"Distances\")\n",
    "\n",
    "#using Distributions\n",
    "using Random\n",
    "using Distances\n",
    "using Distributions"
   ]
  },
  {
   "cell_type": "code",
   "execution_count": 32,
   "metadata": {},
   "outputs": [],
   "source": [
    "# Set the parameters of the simulated data #\n",
    "\n",
    "N = 2000;   # sample size\n",
    "p = 2;      # No. covariates\n",
    "β = [1.0, -2.0]; #regression coeff\n",
    "σ2 = 1.0; ϕ = 9.0; ν = 0.5; τ2 = 1.0; # hyperparmeters in matern"
   ]
  },
  {
   "cell_type": "code",
   "execution_count": 20,
   "metadata": {},
   "outputs": [],
   "source": [
    "# Generate simulation data #\n",
    "\n",
    "Random.seed!(123);\n",
    "N = 1200;  #\n",
    "n = 1000;  # No. of observations\n",
    "coords = rand(N, 2); # random location over unit square\n",
    "X = hcat(fill(1, (N,)), rand(Normal(), N));                   # design matrix\n",
    "D = pairwise(Euclidean(), coords, dims = 1);                  # distance matrix\n",
    "Cov = σ2 * exp.(-ϕ * D);                                      # covariance matrix\n",
    "z = rand(MvNormal(Cov), 1);                                   # latent process\n",
    "y = X * β + z + sqrt(τ2) * rand(Normal(), N);                 # response process"
   ]
  },
  {
   "cell_type": "code",
   "execution_count": 34,
   "metadata": {},
   "outputs": [
    {
     "data": {
      "text/plain": [
       "1.7320508075688772"
      ]
     },
     "execution_count": 34,
     "metadata": {},
     "output_type": "execute_result"
    }
   ],
   "source": [
    "sqrt(3)"
   ]
  },
  {
   "cell_type": "code",
   "execution_count": null,
   "metadata": {},
   "outputs": [],
   "source": [
    "# Split the data for training and testing #\n",
    "Random.seed!(123);\n",
    "ordx = 1:N; #sortperm(coords[:, 1]);                          # \n",
    "X_ord = X[ordx, :]; Y_ord = Y[ordx, :]; ω_ord = ω[ordx, :];   # sorted data\n",
    "ω_incp_obs = ω_ord + fill(1.0, (N, 1)) * transpose(β[1, :]);  # latent process + intercept\n",
    "coords_ord = coords[ordx, :];\n",
    "S = sample(1:N, n, replace = false, ordered = true);          # observed location index for 1st response\n",
    "M = setdiff(1:N, S);                                          # index of missing data\n",
    "\n",
    "\n",
    "# build neighbors #\n",
    "\n",
    "m = 10;                                                       # number of nearest neighbor                       \n",
    "NN = BuildNN(coords_ord[S, :], m);                            # build nearest neighbor \n",
    "nnIndx_col = vcat(NN.nnIndx, 1:n);                            # the index of columns\n",
    "nnIndx_row = zeros(Int64, 0);                                               \n",
    "for i in 2:m\n",
    "    nnIndx_row = vcat(nnIndx_row, fill(i, i-1))\n",
    "end\n",
    "nnIndx_row = vcat(nnIndx_row, repeat((m + 1):n, inner = m), 1:n);  # the index of rows\n",
    "\n",
    "# check neighbors\n",
    "index = 660\n",
    "gr()\n",
    "scatter(coords_ord[S, 1], coords_ord[S, 2], xlim = (0, 1), ylim = (0, 1), color = :white)\n",
    "scatter!(coords_ord[S[1:index], 1], coords_ord[S[1:index], 2], color = :grey)\n",
    "scatter!(coords_ord[S[index:index], 1], coords_ord[S[index:index], 2], color = :red)\n",
    "scatter!(coords_ord[S[NN.nnIndx[NN.nnIndxLU[index]:(NN.nnIndxLU[index + 1] - 1)]], 1], \n",
    "    coords_ord[S[NN.nnIndx[NN.nnIndxLU[index]:(NN.nnIndxLU[index + 1] - 1)]], 2], color = :orange)\n",
    "\n",
    "\n",
    "@save \"sim1data.jld\" "
   ]
  }
 ],
 "metadata": {
  "kernelspec": {
   "display_name": "Julia 1.6.5",
   "language": "julia",
   "name": "julia-1.6"
  },
  "language_info": {
   "file_extension": ".jl",
   "mimetype": "application/julia",
   "name": "julia",
   "version": "1.6.5"
  }
 },
 "nbformat": 4,
 "nbformat_minor": 4
}
